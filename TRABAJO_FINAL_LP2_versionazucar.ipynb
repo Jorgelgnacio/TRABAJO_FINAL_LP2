{
 "cells": [
  {
   "cell_type": "markdown",
   "id": "66b46d41",
   "metadata": {},
   "source": [
    "<p style=\"color:#211f78\"> \n",
    "<center><font size= 6> <b> COMPARACIÓN AUTOMATIZADA DE PRECIOS DE PRODUCTOS DE PRIMERA NECESIDAD EN LOS 3 SUPERMERCADOS MÁS POPULARES: METRO, TOTTUS y PLAZA VEA. </b> </font> </center> \n",
    "</p>"
   ]
  },
  {
   "cell_type": "markdown",
   "id": "c8a2b34e",
   "metadata": {},
   "source": [
    "<p style=\"color:#63381f\"><font size= 5.5> <b>Integrantes Grupo 6:</b></font> </p> \n",
    "\n",
    "<font size= 3.5>\n",
    "    \n",
    "<p style=\"color:#63381f\">   \n",
    "- Tanta Medina, Christian Rodolfo 20200338\n",
    "</p> \n",
    "    \n",
    "<p style=\"color:#63381f\">\n",
    "- Taquiri Pillaca, Jorge Ignacio 20200339\n",
    "</p> \n",
    "    \n",
    "<p style=\"color:#63381f\">\n",
    "- Tay Saccaco, Brian Eduardo 20210849\n",
    "</p> \n",
    "    \n",
    "</font>"
   ]
  },
  {
   "cell_type": "markdown",
   "id": "7775cc80",
   "metadata": {},
   "source": [
    "## DESCRIPCIÓN DEL CASO\n",
    "\n",
    "Se quiere automatizar la comparación de precios de productos básicos de la canasta familiar\n",
    "(arroz, azúcar, aceite, leche, etc) de tres supermercados que ofrecen sus productos a través de\n",
    "su propio portal web. Estos supermercados son: Metro, Plaza Vea y Tottus.\n",
    "Por lo que se pide escribir un programa en Python utilizando Jupyter notebook que recopile los\n",
    "precios de un producto de la canasta básica familiar de 3 Supermercados anteriormente\n",
    "mencionados y reporte todos sus artículos relacionados con la palabra clave ingresada en la\n",
    "búsqueda, para que posteriormente pueda comparar los precios en los distintos\n",
    "Supermercados de los productos exactamente iguales. Además, que se envíe\n",
    "automáticamente al correo del usuario-consultor un reporte de precio más alto, precio más\n",
    "bajo, productos en común comparando los precios entre los supermercados coincidentes."
   ]
  },
  {
   "cell_type": "markdown",
   "id": "0b2bd01c",
   "metadata": {},
   "source": [
    "# Importar librerías\n"
   ]
  },
  {
   "cell_type": "code",
   "execution_count": 220,
   "id": "b53fd5c0",
   "metadata": {},
   "outputs": [],
   "source": [
    "import pandas as pd\n",
    "import math\n",
    "import time\n",
    "from selenium import webdriver\n",
    "from selenium.webdriver.chrome.service import Service\n",
    "from selenium.webdriver.common.by import By\n",
    "from selenium.webdriver.common.keys import Keys\n",
    "from selenium.webdriver.support import expected_conditions as EC\n",
    "from selenium.webdriver.support.ui import WebDriverWait\n",
    "from webdriver_manager.microsoft import EdgeChromiumDriverManager\n",
    "\n",
    "from tqdm import tqdm\n",
    "from termcolor import colored\n",
    "\n",
    "# Maximizar las columnas y filas\n",
    "pd.set_option('display.max_columns', None)  \n",
    "pd.set_option('display.max_rows', None)\n",
    "pd.set_option('display.width', None) "
   ]
  },
  {
   "cell_type": "markdown",
   "id": "eeb589c3",
   "metadata": {},
   "source": [
    "# Ingresar producto y correo "
   ]
  },
  {
   "cell_type": "code",
   "execution_count": 221,
   "id": "7c981112",
   "metadata": {},
   "outputs": [
    {
     "name": "stdout",
     "output_type": "stream",
     "text": [
      "Coloque el producto a buscar: azucar rubia\n"
     ]
    }
   ],
   "source": [
    "busqueda=str(input(\"Coloque el producto a buscar: \"))  \n",
    "# Ingreso del producto (por ej: Aceite Primor 1L)\n",
    "# Ingreso del producto (por ej: Leche Gloria)"
   ]
  },
  {
   "cell_type": "code",
   "execution_count": 173,
   "id": "5d5d9975",
   "metadata": {},
   "outputs": [
    {
     "name": "stdout",
     "output_type": "stream",
     "text": [
      "Enviar comparación de productos al correo: 20200339@lamolina.edu.pe\n"
     ]
    }
   ],
   "source": [
    "para_email= input(\"Enviar comparación de productos al correo: \") # Email de destino"
   ]
  },
  {
   "cell_type": "markdown",
   "id": "8bc482f9",
   "metadata": {},
   "source": [
    "<p style=\"color:#deb03e\"> <font size=6.5> <b> Programa para obtener los productos y precios de supermercados Metro (Usuario Jorge) </b> </font> </p>  "
   ]
  },
  {
   "cell_type": "code",
   "execution_count": 222,
   "id": "86c77e7d",
   "metadata": {},
   "outputs": [
    {
     "name": "stdout",
     "output_type": "stream",
     "text": [
      "\n"
     ]
    }
   ],
   "source": [
    "urls='https://www.metro.pe'          # URL de la pagina de Metro                   \n",
    "options = webdriver.EdgeOptions()    # Opciones del navegador Edge\n",
    "options.add_argument('--incognito')  # Opcion de abrir ventana de Edge en modo incognito\n",
    "options.add_argument(\"--start-maximized\")  # Ventana maximizada \n",
    "s = Service(EdgeChromiumDriverManager().install()) # Esta opcion nos permite usar el browser sin necesidad de colocar su ubicación                     \n",
    "driver = webdriver.Edge(service=s, options = options) # Iniciar el driver con las opciones descritas anteriormente\n",
    "driver.implicitly_wait(3) # Esperar 3 seg en caso de errores y si no hay saltarse ese paso y seguir con la siguiente linea     \n",
    "driver.get(urls) # Abrir el navegador con la url\n",
    "time.sleep(2)   # Esperar 2 segundos"
   ]
  },
  {
   "cell_type": "code",
   "execution_count": 223,
   "id": "ce53fba2",
   "metadata": {},
   "outputs": [],
   "source": [
    "# Para cancelar las notificaciones de Metro (ventana emergente)\n",
    "WebDriverWait(driver, 25)\\\n",
    "    .until(EC.element_to_be_clickable((By.CSS_SELECTOR,\n",
    "                                      '#onesignal-slidedown-cancel-button'.replace(' ', '.'))))\\\n",
    "    .click()"
   ]
  },
  {
   "cell_type": "code",
   "execution_count": 224,
   "id": "38058503",
   "metadata": {},
   "outputs": [],
   "source": [
    "# Hacer clic en \"Si acepto\", pagina emergente sobre \"Política general de Cookies\"\n",
    "driver.find_element(By.XPATH, '/html/body/div[46]/div/div[3]/button[1]').click()\n",
    "time.sleep(1)"
   ]
  },
  {
   "cell_type": "code",
   "execution_count": 225,
   "id": "69a56333",
   "metadata": {},
   "outputs": [],
   "source": [
    "# Hacer clic en la barra de búsqueda\n",
    "driver.find_element(By.XPATH, '/html/body/header[1]/div/div[2]/div[2]/div[1]/div[1]/input').click()\n",
    "time.sleep(1)"
   ]
  },
  {
   "cell_type": "code",
   "execution_count": 226,
   "id": "ea0a4c0d",
   "metadata": {},
   "outputs": [],
   "source": [
    "# Ingresar el producto en la barra de busqueda y realizar la busqueda (+ keys.ENTER simula el boton de ENTER)\n",
    "driver.find_element(By.XPATH, '/html/body/header[1]/div/div[2]/div[2]/div[1]/div[1]/input').send_keys(busqueda + Keys.ENTER)\n",
    "time.sleep(1)"
   ]
  },
  {
   "cell_type": "code",
   "execution_count": 227,
   "id": "cc69b9a7",
   "metadata": {},
   "outputs": [
    {
     "name": "stdout",
     "output_type": "stream",
     "text": [
      "16 productos\n"
     ]
    }
   ],
   "source": [
    "# Cantidad de productos en la pagina.\n",
    "page=driver.find_element(By.XPATH, '/html/body/div[27]/div/div[2]/div[1]/div[1]/span[2]').text\n",
    "print(page)\n",
    "#int(page[:-10])"
   ]
  },
  {
   "cell_type": "code",
   "execution_count": 228,
   "id": "f428fa41",
   "metadata": {},
   "outputs": [
    {
     "name": "stdout",
     "output_type": "stream",
     "text": [
      "\u001b[31mProductos extraidos:\u001b[0m\n",
      "16\n",
      "\n",
      "\n",
      "\u001b[33mSe llegó a extraer todos los productos?\u001b[0m\n",
      "True\n"
     ]
    }
   ],
   "source": [
    "# Automatización de scrolls (se correra las veces que sea necesario) \n",
    "scrolls = 5 + 1          # Seran 5 scrolls automaticos\n",
    "while True:               # Mientras esto sea verdad se realizará lo siguiente:\n",
    "    scrolls -= 1          # Cuenta regresiva, se resta 1 cada ciclo\n",
    "    driver.execute_script(\"window.scrollTo(0, document.body.scrollHeight)\") # Se desplazará hasta la parte inferior de la página \n",
    "    time.sleep(1)         # Cada scroll automático tendra un timelap de 1 segundo\n",
    "    if scrolls < 0:       # Cuando llegue a cero segundos:\n",
    "        time.sleep(2)     # Le damos 2 segundos a que la pagina cargue los contenidos hasta el ultimo scroll automatico realizado\n",
    "        elements = driver.find_elements(By.XPATH,'//li[@layout=\"19ccd66b-b568-43cb-a106-b52f9796f5cd\"]') # Encontrar los productos de la pagina de acuerdo al XPATH\n",
    "        break             # Se cierra el ciclo\n",
    "\n",
    "        \n",
    "print(colored('Productos extraidos:','red'))  \n",
    "print(len(elements))      # Longitud de los elementos (productos extraidos) encontrados hasta coindicir con el total de productos\n",
    "print('\\n')\n",
    "print(colored('Se llegó a extraer todos los productos?','yellow'))  \n",
    "print(len(elements) == int(page[:-10])) # Comparación "
   ]
  },
  {
   "cell_type": "code",
   "execution_count": 229,
   "id": "344b6974",
   "metadata": {},
   "outputs": [
    {
     "name": "stderr",
     "output_type": "stream",
     "text": [
      "100%|██████████| 16/16 [00:00<00:00, 16.76it/s]\n"
     ]
    }
   ],
   "source": [
    "# Almacenar productos y precios de Metro \n",
    "productos1 =  []   # lista vacia para productos de Metro\n",
    "precios1 = []      # lista vacia para precio de Metro\n",
    "supermercado1 = [] \n",
    "for element in tqdm(elements):  # tqdm:Contar iteraciones, indicar el tiempo que tarda por iteración y el tiempo total transcurrido.  \n",
    "        producto = element.find_element(By.XPATH,'.//a[@class=\"product-item__name\"]').text  # Buscar producto en base al XPATH y extraer el texto\n",
    "        precio = element.find_element(By.XPATH,'.//span[@class=\"product-prices__value product-prices__value--best-price\"]').text # Buscar precio en base al XPATH y extraer el texto\n",
    "        productos1.append(producto)    # Agregar a la lista productos1\n",
    "        precios1.append(precio)        # Agregar a la lista precios1\n",
    "        supermercado1.append('Metro')"
   ]
  },
  {
   "cell_type": "code",
   "execution_count": 230,
   "id": "e6aa007d",
   "metadata": {},
   "outputs": [
    {
     "data": {
      "text/html": [
       "<div>\n",
       "<style scoped>\n",
       "    .dataframe tbody tr th:only-of-type {\n",
       "        vertical-align: middle;\n",
       "    }\n",
       "\n",
       "    .dataframe tbody tr th {\n",
       "        vertical-align: top;\n",
       "    }\n",
       "\n",
       "    .dataframe thead th {\n",
       "        text-align: right;\n",
       "    }\n",
       "</style>\n",
       "<table border=\"1\" class=\"dataframe\">\n",
       "  <thead>\n",
       "    <tr style=\"text-align: right;\">\n",
       "      <th></th>\n",
       "      <th>Supermercado</th>\n",
       "      <th>Producto</th>\n",
       "      <th>Precio</th>\n",
       "    </tr>\n",
       "  </thead>\n",
       "  <tbody>\n",
       "    <tr>\n",
       "      <th>0</th>\n",
       "      <td>Metro</td>\n",
       "      <td>Azúcar Rubia Paramonga 1kg</td>\n",
       "      <td>S/5.85</td>\n",
       "    </tr>\n",
       "    <tr>\n",
       "      <th>1</th>\n",
       "      <td>Metro</td>\n",
       "      <td>Azúcar Rubia Costeño 1 kg</td>\n",
       "      <td>S/5.90</td>\n",
       "    </tr>\n",
       "    <tr>\n",
       "      <th>2</th>\n",
       "      <td>Metro</td>\n",
       "      <td>Azúcar Rubia Paramonga Bolsa 5 kg</td>\n",
       "      <td>S/28.55</td>\n",
       "    </tr>\n",
       "    <tr>\n",
       "      <th>3</th>\n",
       "      <td>Metro</td>\n",
       "      <td>Azúcar Rubia Máxima Bolsa 1 kg</td>\n",
       "      <td>S/5.10</td>\n",
       "    </tr>\n",
       "    <tr>\n",
       "      <th>4</th>\n",
       "      <td>Metro</td>\n",
       "      <td>Azúcar Rubia Cuisine&amp;Co Bolsa 1 kg</td>\n",
       "      <td>S/5.70</td>\n",
       "    </tr>\n",
       "    <tr>\n",
       "      <th>5</th>\n",
       "      <td>Metro</td>\n",
       "      <td>Azúcar Rubia Cuisine&amp;Co Bolsa 5 kg</td>\n",
       "      <td>S/26.50</td>\n",
       "    </tr>\n",
       "    <tr>\n",
       "      <th>6</th>\n",
       "      <td>Metro</td>\n",
       "      <td>Azúcar Rubia Dulfina Bolsa 2 kg</td>\n",
       "      <td>S/10.90</td>\n",
       "    </tr>\n",
       "    <tr>\n",
       "      <th>7</th>\n",
       "      <td>Metro</td>\n",
       "      <td>Azúcar Rubia Máxima Bolsa 5 kg</td>\n",
       "      <td>S/23.90</td>\n",
       "    </tr>\n",
       "    <tr>\n",
       "      <th>8</th>\n",
       "      <td>Metro</td>\n",
       "      <td>Azúcar Rubia Metro Bolsa 5 kg</td>\n",
       "      <td>S/24.90</td>\n",
       "    </tr>\n",
       "    <tr>\n",
       "      <th>9</th>\n",
       "      <td>Metro</td>\n",
       "      <td>Azúcar Rubia Metro Bolsa 2 Kg</td>\n",
       "      <td>S/. 10.40</td>\n",
       "    </tr>\n",
       "    <tr>\n",
       "      <th>10</th>\n",
       "      <td>Metro</td>\n",
       "      <td>Azúcar Rubia Metro Bolsa 1 kg</td>\n",
       "      <td>S/5.30</td>\n",
       "    </tr>\n",
       "    <tr>\n",
       "      <th>11</th>\n",
       "      <td>Metro</td>\n",
       "      <td>Azúcar Rubia Dulfina Bolsa 5 kg</td>\n",
       "      <td>S/26.45</td>\n",
       "    </tr>\n",
       "    <tr>\n",
       "      <th>12</th>\n",
       "      <td>Metro</td>\n",
       "      <td>Azúcar Rubia Dulfina Bolsa 1 kg</td>\n",
       "      <td>S/5.70</td>\n",
       "    </tr>\n",
       "    <tr>\n",
       "      <th>13</th>\n",
       "      <td>Metro</td>\n",
       "      <td>Azúcar Rubia Onza Sachet 5 g Pack 500 unid</td>\n",
       "      <td>S/15.45</td>\n",
       "    </tr>\n",
       "    <tr>\n",
       "      <th>14</th>\n",
       "      <td>Metro</td>\n",
       "      <td>Azúcar Rubia Con Stevia Cuisine&amp;Co Doypack 500 g</td>\n",
       "      <td>S/7.80</td>\n",
       "    </tr>\n",
       "    <tr>\n",
       "      <th>15</th>\n",
       "      <td>Metro</td>\n",
       "      <td>Metro Pack x3 Azúcar Rubia Metro 5kg</td>\n",
       "      <td>S/74.70</td>\n",
       "    </tr>\n",
       "  </tbody>\n",
       "</table>\n",
       "</div>"
      ],
      "text/plain": [
       "   Supermercado                                          Producto     Precio\n",
       "0         Metro                        Azúcar Rubia Paramonga 1kg     S/5.85\n",
       "1         Metro                         Azúcar Rubia Costeño 1 kg     S/5.90\n",
       "2         Metro                 Azúcar Rubia Paramonga Bolsa 5 kg    S/28.55\n",
       "3         Metro                    Azúcar Rubia Máxima Bolsa 1 kg     S/5.10\n",
       "4         Metro                Azúcar Rubia Cuisine&Co Bolsa 1 kg     S/5.70\n",
       "5         Metro                Azúcar Rubia Cuisine&Co Bolsa 5 kg    S/26.50\n",
       "6         Metro                   Azúcar Rubia Dulfina Bolsa 2 kg    S/10.90\n",
       "7         Metro                    Azúcar Rubia Máxima Bolsa 5 kg    S/23.90\n",
       "8         Metro                     Azúcar Rubia Metro Bolsa 5 kg    S/24.90\n",
       "9         Metro                     Azúcar Rubia Metro Bolsa 2 Kg  S/. 10.40\n",
       "10        Metro                     Azúcar Rubia Metro Bolsa 1 kg     S/5.30\n",
       "11        Metro                   Azúcar Rubia Dulfina Bolsa 5 kg    S/26.45\n",
       "12        Metro                   Azúcar Rubia Dulfina Bolsa 1 kg     S/5.70\n",
       "13        Metro        Azúcar Rubia Onza Sachet 5 g Pack 500 unid    S/15.45\n",
       "14        Metro  Azúcar Rubia Con Stevia Cuisine&Co Doypack 500 g     S/7.80\n",
       "15        Metro              Metro Pack x3 Azúcar Rubia Metro 5kg    S/74.70"
      ]
     },
     "execution_count": 230,
     "metadata": {},
     "output_type": "execute_result"
    }
   ],
   "source": [
    "#Exportacion de productos y precios a un archivo excel \n",
    "dic= {'Supermercado': supermercado1 ,'Producto': productos1 , \"Precio\": precios1}  # Crear diccionario con los values productos y precios (listas)\n",
    "df = pd.DataFrame(dic , columns= ['Supermercado', \"Producto\", \"Precio\"] ) # Convertir a dataframe con columnas de etiquetas Producto y Precio\n",
    "df.to_excel('metro.xlsx', index=False,encoding='cp1252')  # Exportar a excel\n",
    "\n",
    "# Lectura y muestra de resultados\n",
    "metro = pd.read_excel('metro.xlsx')\n",
    "metro"
   ]
  },
  {
   "cell_type": "code",
   "execution_count": 231,
   "id": "76f7436d",
   "metadata": {},
   "outputs": [],
   "source": [
    "driver.close()  # Cerrar el driver"
   ]
  },
  {
   "cell_type": "markdown",
   "id": "49997eca",
   "metadata": {},
   "source": [
    "<p style=\"color:#059a38\"> <font size=6.5> <b> Programa para obtener los productos y precios de supermercados Tottus (Usuario Christian) </b> </font> </p>   <font size=6.5> <b> "
   ]
  },
  {
   "cell_type": "code",
   "execution_count": 232,
   "id": "8955261d",
   "metadata": {},
   "outputs": [
    {
     "name": "stdout",
     "output_type": "stream",
     "text": [
      "\n"
     ]
    }
   ],
   "source": [
    "urls='https://www.tottus.com.pe/'    # URL de la pagina Tottus\n",
    "options = webdriver.EdgeOptions()    # Opciones del navegador \n",
    "options.add_argument('--incognito')  # Opcion de abrir ventana de Edge en modo incognito\n",
    "options.add_argument(\"--start-maximized\") # ventana maximizada \n",
    "s = Service(EdgeChromiumDriverManager().install()) # Esta opcion nos permite usar el driver Edge sin necesidad de colocar su ubicación                      \n",
    "driver = webdriver.Edge(service=s, options = options) # Iniciar el driver con las opciones anteriores\n",
    "driver.implicitly_wait(3) # Esperar 3 seg en caso de errores y si no hay saltarse ese paso\n",
    "driver.get(urls) # Abrir el navegador con la url\n",
    "time.sleep(2)   # Esperar 2 segundos"
   ]
  },
  {
   "cell_type": "code",
   "execution_count": 233,
   "id": "c4551226",
   "metadata": {},
   "outputs": [],
   "source": [
    "#Al iniciar y entrar a la pagina de Tottus nos salta un anuncio donde Tottus nos quiere informar sobre sus mejores ofertas,\n",
    "#con este codigo automatizamos dando click en cancelar. \n",
    "WebDriverWait(driver, 25)\\\n",
    "    .until(EC.element_to_be_clickable((By.CSS_SELECTOR,\n",
    "                                      'button.align-right secondary slidedown-button'.replace(' ', '.'))))\\\n",
    "    .click()"
   ]
  },
  {
   "cell_type": "code",
   "execution_count": 234,
   "id": "761cc18e",
   "metadata": {},
   "outputs": [],
   "source": [
    "# Cerrando ventana de mensaje de anuncios de oferta por agosto (sale de vez en cuando por ello esta comentarizada)\n",
    "# driver.find_element(By.XPATH, '/html/body/div[3]/div/div/section/div[1]/div/button').click()\n",
    "# time.sleep(1)"
   ]
  },
  {
   "cell_type": "code",
   "execution_count": 235,
   "id": "d533ca15",
   "metadata": {},
   "outputs": [],
   "source": [
    "# Configurando click para búsqueda de productos\n",
    "driver.find_element(By.XPATH, '/html/body/div[1]/div[2]/div[2]/div[1]/div[1]/section/div[1]/div/input').click()\n",
    "time.sleep(1)"
   ]
  },
  {
   "cell_type": "code",
   "execution_count": 236,
   "id": "28036ee0",
   "metadata": {},
   "outputs": [],
   "source": [
    "# Ingresando producto + ENTER automatico\n",
    "driver.find_element(By.XPATH, '/html/body/div[1]/div[2]/div[2]/div[1]/div[1]/section/div[1]/div/input').send_keys(busqueda + Keys.ENTER)\n",
    "time.sleep(1)"
   ]
  },
  {
   "cell_type": "code",
   "execution_count": 237,
   "id": "e544480b",
   "metadata": {},
   "outputs": [
    {
     "name": "stdout",
     "output_type": "stream",
     "text": [
      "(9 resultados)\n",
      "\n",
      "\n",
      "Numero de paginas: 1\n"
     ]
    }
   ],
   "source": [
    "#Obtener el número de paginas\n",
    "page_t = driver.find_element(By.XPATH, '/html/body/div[1]/section/div[1]/section/div[2]/div[1]/div[2]/section/div[1]/div[1]/p').text\n",
    "\n",
    "def page_tottus(page_t):\n",
    "    if len(page_t) == 14:\n",
    "        pag = int(page_t[1:2])/48  \n",
    "        paginas = math.ceil(pag)  # Para paginas con menos de 10 productos\n",
    "        return paginas\n",
    "    elif len(page_t) == 15:\n",
    "        pag = int(page_t[1:3])/48\n",
    "        paginas = math.ceil(pag)  # Para paginas con menos de 100 productos\n",
    "        return paginas\n",
    "    elif len(page_t) == 16:\n",
    "        pag = int(page_t[1:4])/48  # Para paginas con menos de 1000 productos\n",
    "        paginas = math.ceil(pag)\n",
    "        return paginas\n",
    "    elif len(page_t) == 17:\n",
    "        pag = int(page_t[1:5])/48\n",
    "        paginas = math.ceil(pag)   # Para paginas con menos de 10000 productos\n",
    "        return paginas\n",
    " \n",
    "print(page_t)               # Total de productos\n",
    "print('\\n') \n",
    "print(\"Numero de paginas:\",page_tottus(page_t))"
   ]
  },
  {
   "cell_type": "code",
   "execution_count": 238,
   "id": "f0050eaf",
   "metadata": {},
   "outputs": [
    {
     "name": "stderr",
     "output_type": "stream",
     "text": [
      "100%|██████████| 9/9 [00:00<00:00, 19.00it/s]\n"
     ]
    }
   ],
   "source": [
    "# Extraer todos los productos por cada pagina\n",
    "productos2 = []\n",
    "precios2 =[]\n",
    "supermercado2 = []\n",
    "n=1\n",
    "while n <= paginas:\n",
    "    driver.get(f'https://www.tottus.com.pe/buscar?q={busqueda}&page={n}') # Se ira iterando de acuerdo a la cantidad de paginas empezando por la pagina 1\n",
    "    time.sleep(2)  # Lapso de tiempo de 2 segundos\n",
    "    lista = driver.find_elements(By.XPATH,'//li[@class=\"product\"]') # Almacenar los productos encontrados en las paginas\n",
    "    for element in tqdm(lista):  \n",
    "        name = element.find_element(By.XPATH,'.//h2[@class=\"jsx-369422875 name title mini\"]').text # Extraer nombre del producto\n",
    "        price = element.find_element(By.XPATH,'.//span[@class=\"jsx-4019956066 \"]').text # Extraer el precio del producto\n",
    "        productos2.append(name) \n",
    "        precios2.append(price)\n",
    "        supermercado2.append('Tottus')\n",
    "    n += 1\n"
   ]
  },
  {
   "cell_type": "code",
   "execution_count": 239,
   "id": "396e8f7b",
   "metadata": {},
   "outputs": [
    {
     "name": "stdout",
     "output_type": "stream",
     "text": [
      "\u001b[32mSe llegó a extraer todos los productos?\u001b[0m\n",
      "True\n"
     ]
    }
   ],
   "source": [
    "print(colored('Se llegó a extraer todos los productos?','green')) # Mensaje\n",
    "print(len(productos2) >= int(paginas)) # Comparación "
   ]
  },
  {
   "cell_type": "code",
   "execution_count": 240,
   "id": "a22d2434",
   "metadata": {},
   "outputs": [
    {
     "data": {
      "text/html": [
       "<div>\n",
       "<style scoped>\n",
       "    .dataframe tbody tr th:only-of-type {\n",
       "        vertical-align: middle;\n",
       "    }\n",
       "\n",
       "    .dataframe tbody tr th {\n",
       "        vertical-align: top;\n",
       "    }\n",
       "\n",
       "    .dataframe thead th {\n",
       "        text-align: right;\n",
       "    }\n",
       "</style>\n",
       "<table border=\"1\" class=\"dataframe\">\n",
       "  <thead>\n",
       "    <tr style=\"text-align: right;\">\n",
       "      <th></th>\n",
       "      <th>Supermercado</th>\n",
       "      <th>Producto</th>\n",
       "      <th>Precio</th>\n",
       "    </tr>\n",
       "  </thead>\n",
       "  <tbody>\n",
       "    <tr>\n",
       "      <th>0</th>\n",
       "      <td>Tottus</td>\n",
       "      <td>AZÚCAR RUBIA DULFINA 5 KG</td>\n",
       "      <td>s/ 22.9 UN</td>\n",
       "    </tr>\n",
       "    <tr>\n",
       "      <th>1</th>\n",
       "      <td>Tottus</td>\n",
       "      <td>AZÚCAR RUBIA DULFINA 1 KG</td>\n",
       "      <td>s/ 5.2 UN</td>\n",
       "    </tr>\n",
       "    <tr>\n",
       "      <th>2</th>\n",
       "      <td>Tottus</td>\n",
       "      <td>AZÚCAR RUBIA DULFINA 2 KG</td>\n",
       "      <td>s/ 9.5 UN</td>\n",
       "    </tr>\n",
       "    <tr>\n",
       "      <th>3</th>\n",
       "      <td>Tottus</td>\n",
       "      <td>AZÚCAR RUBIA TOTTUS 2 KG</td>\n",
       "      <td>s/ 8.5 UN</td>\n",
       "    </tr>\n",
       "    <tr>\n",
       "      <th>4</th>\n",
       "      <td>Tottus</td>\n",
       "      <td>AZÚCAR RUBIA TOTTUS 1 KG</td>\n",
       "      <td>s/ 4.7 UN</td>\n",
       "    </tr>\n",
       "    <tr>\n",
       "      <th>5</th>\n",
       "      <td>Tottus</td>\n",
       "      <td>AZÚCAR RUBIA TOTTUS 5 KG</td>\n",
       "      <td>s/ 19.9 UN</td>\n",
       "    </tr>\n",
       "    <tr>\n",
       "      <th>6</th>\n",
       "      <td>Tottus</td>\n",
       "      <td>AZÚCAR RUBIA LIGHT ONZA 500 GR</td>\n",
       "      <td>s/ 9.2 UN</td>\n",
       "    </tr>\n",
       "    <tr>\n",
       "      <th>7</th>\n",
       "      <td>Tottus</td>\n",
       "      <td>AZÚCAR RUBIA CON STEVIA TOTTUS 500 GR</td>\n",
       "      <td>s/ 7.5 UN</td>\n",
       "    </tr>\n",
       "    <tr>\n",
       "      <th>8</th>\n",
       "      <td>Tottus</td>\n",
       "      <td>AZÚCAR RUBIA IN THE RAW 907 GR</td>\n",
       "      <td>s/ 23.5 UN</td>\n",
       "    </tr>\n",
       "  </tbody>\n",
       "</table>\n",
       "</div>"
      ],
      "text/plain": [
       "  Supermercado                               Producto      Precio\n",
       "0       Tottus              AZÚCAR RUBIA DULFINA 5 KG  s/ 22.9 UN\n",
       "1       Tottus              AZÚCAR RUBIA DULFINA 1 KG   s/ 5.2 UN\n",
       "2       Tottus              AZÚCAR RUBIA DULFINA 2 KG   s/ 9.5 UN\n",
       "3       Tottus               AZÚCAR RUBIA TOTTUS 2 KG   s/ 8.5 UN\n",
       "4       Tottus               AZÚCAR RUBIA TOTTUS 1 KG   s/ 4.7 UN\n",
       "5       Tottus               AZÚCAR RUBIA TOTTUS 5 KG  s/ 19.9 UN\n",
       "6       Tottus         AZÚCAR RUBIA LIGHT ONZA 500 GR   s/ 9.2 UN\n",
       "7       Tottus  AZÚCAR RUBIA CON STEVIA TOTTUS 500 GR   s/ 7.5 UN\n",
       "8       Tottus         AZÚCAR RUBIA IN THE RAW 907 GR  s/ 23.5 UN"
      ]
     },
     "execution_count": 240,
     "metadata": {},
     "output_type": "execute_result"
    }
   ],
   "source": [
    "# Exportación y lectura del archivo excel\n",
    "dic= {'Supermercado':supermercado2 , 'Producto': productos2,\"Precio\": precios2 }\n",
    "df = pd.DataFrame(dic , columns= ['Supermercado',\"Producto\",\"Precio\"] )\n",
    "df.to_excel('tottus.xlsx', index=False,encoding='cp1252')\n",
    "\n",
    "# Lectura\n",
    "tottus = pd.read_excel('tottus.xlsx')\n",
    "tottus"
   ]
  },
  {
   "cell_type": "code",
   "execution_count": 241,
   "id": "95e4b758",
   "metadata": {},
   "outputs": [],
   "source": [
    "driver.close()  # Cerrar el driver"
   ]
  },
  {
   "cell_type": "markdown",
   "id": "430491e3",
   "metadata": {},
   "source": [
    "<p style=\"color:#fc0313\"> <font size=6.5> <b> Programa para obtener los productos y precios de supermercados Plaza Vea  (Usuario Brian)  </b> </font> </p>   <font size=6.5> <b>"
   ]
  },
  {
   "cell_type": "code",
   "execution_count": 242,
   "id": "50b70a5f",
   "metadata": {},
   "outputs": [
    {
     "name": "stdout",
     "output_type": "stream",
     "text": [
      "\n"
     ]
    }
   ],
   "source": [
    "url='https://www.plazavea.com.pe'    # URL de la pagina de Plaza Vea\n",
    "options = webdriver.EdgeOptions()    # opciones del navegador \n",
    "options.add_argument('--incognito')  # Opcion de abrir ventana de Edge en modo incognito\n",
    "options.add_argument(\"--start-maximized\") # ventana maximizada \n",
    "s = Service(EdgeChromiumDriverManager().install())   # Usan Edgedriver sin necesidad de colocar ubicacion                     \n",
    "driver = webdriver.Edge(service=s, options = options) # Iniciar el driver con las opciones anteriores\n",
    "driver.implicitly_wait(3) # Esperar 3 seg en caso de errores y si no hay saltarse ese paso\n",
    "driver.get(url)\n",
    "time.sleep(2)"
   ]
  },
  {
   "cell_type": "code",
   "execution_count": 243,
   "id": "4775900d",
   "metadata": {},
   "outputs": [],
   "source": [
    "#Al iniciar y entrar a la pagina salta una ventana emergente acerca de las notificaciones,\n",
    "#con este codigo automatizamos dando click en cancelar. \n",
    "WebDriverWait(driver, 25)\\\n",
    "    .until(EC.element_to_be_clickable((By.CSS_SELECTOR,\n",
    "                                      '#onesignal-slidedown-cancel-button'.replace(' ', '.'))))\\\n",
    "    .click()"
   ]
  },
  {
   "cell_type": "code",
   "execution_count": 244,
   "id": "05b3f09d",
   "metadata": {},
   "outputs": [],
   "source": [
    "# Click en la barra de busqueda\n",
    "driver.find_element(By.XPATH, '/html/body/div[3]/header/div[2]/div/div[4]/section/div[2]/div/div/input').click()"
   ]
  },
  {
   "cell_type": "code",
   "execution_count": 245,
   "id": "339e3dbb",
   "metadata": {},
   "outputs": [],
   "source": [
    "# Realizar busqueda y ENTER \n",
    "driver.find_element(By.XPATH, '/html/body/div[3]/header/div[2]/div/div[4]/section/div[2]/div[2]/div[1]/input').send_keys(busqueda + Keys.ENTER)"
   ]
  },
  {
   "cell_type": "code",
   "execution_count": 248,
   "id": "025e7cd4",
   "metadata": {},
   "outputs": [
    {
     "name": "stdout",
     "output_type": "stream",
     "text": [
      "(17 productos)\n",
      "\n",
      "\n",
      "Numero de paginas: 1\n"
     ]
    }
   ],
   "source": [
    "# Encontrando el total de productos y el numero de paginas\n",
    "page_pv=driver.find_element(By.XPATH, '/html/body/div[4]/main/div/div[1]/div[2]/div[3]/div/div[1]/div/h2/span[2]').text\n",
    "def page_plazavea(page_pv):\n",
    "    if len(page_pv) == 13:\n",
    "        pag = int(page_pv[1:2])/49.5 # para paginas con productos menores a 10\n",
    "        paginas = math.ceil(pag)\n",
    "        return paginas\n",
    "    elif len(page_pv) == 14:\n",
    "        pag = int(page_pv[1:3])/49.5  # para paginas con productos menores a 100\n",
    "        paginas = math.ceil(pag)\n",
    "        return paginas\n",
    "    elif len(page_pv) == 15:\n",
    "        pag = int(page_pv[1:4])/49.5 # para paginas con productos menores a 1000\n",
    "        paginas = math.ceil(pag)\n",
    "        return paginas\n",
    "    elif len(page_pv) == 16:\n",
    "        pag = int(page_pv[1:5])/49.5 # para paginas con productos menores a 10000\n",
    "        paginas = math.ceil(pag)\n",
    "        return paginas\n",
    "        \n",
    "print(page_pv)               # Total de productos\n",
    "print('\\n') \n",
    "print(\"Numero de paginas:\",page_plazavea(page_pv))"
   ]
  },
  {
   "cell_type": "code",
   "execution_count": 249,
   "id": "911313e5",
   "metadata": {},
   "outputs": [
    {
     "name": "stderr",
     "output_type": "stream",
     "text": [
      "100%|██████████| 17/17 [00:02<00:00,  5.68it/s]\n"
     ]
    }
   ],
   "source": [
    "# Extrayendo los productos y sus precios\n",
    "productos3 = []\n",
    "precios3 =[]\n",
    "supermercado3 = []\n",
    "n=1\n",
    "\n",
    "while n <= paginas:\n",
    "    driver.find_element(By.CSS_SELECTOR, f'#category-page > div.vitrine.resultItemsWrapper > div > div.paginator-container > div > div > span:nth-child({n})').click()\n",
    "    time.sleep(3)\n",
    "    lista = driver.find_elements(By.XPATH,'//div[@data-stock=\"true\"]')\n",
    "    for element in tqdm(lista):\n",
    "        name = element.find_element(By.XPATH,'.//a[@class=\"Showcase__name\"]').text\n",
    "        price = element.find_element(By.XPATH,'.//span[@class=\"price\"]').text\n",
    "        productos3.append(name)\n",
    "        precios3.append(price)\n",
    "        supermercado3.append('Plaza Vea')\n",
    "    n += 1   "
   ]
  },
  {
   "cell_type": "code",
   "execution_count": 250,
   "id": "05856251",
   "metadata": {},
   "outputs": [
    {
     "name": "stdout",
     "output_type": "stream",
     "text": [
      "\u001b[31mSe llegó a extraer todos los productos?\u001b[0m\n",
      "True\n"
     ]
    }
   ],
   "source": [
    "print(colored('Se llegó a extraer todos los productos?','red'))  \n",
    "print(len(productos3) >= int(paginas)) # Comparación "
   ]
  },
  {
   "cell_type": "code",
   "execution_count": 251,
   "id": "3f80ea04",
   "metadata": {},
   "outputs": [
    {
     "data": {
      "text/html": [
       "<div>\n",
       "<style scoped>\n",
       "    .dataframe tbody tr th:only-of-type {\n",
       "        vertical-align: middle;\n",
       "    }\n",
       "\n",
       "    .dataframe tbody tr th {\n",
       "        vertical-align: top;\n",
       "    }\n",
       "\n",
       "    .dataframe thead th {\n",
       "        text-align: right;\n",
       "    }\n",
       "</style>\n",
       "<table border=\"1\" class=\"dataframe\">\n",
       "  <thead>\n",
       "    <tr style=\"text-align: right;\">\n",
       "      <th></th>\n",
       "      <th>Supermercado</th>\n",
       "      <th>Producto</th>\n",
       "      <th>Precio</th>\n",
       "    </tr>\n",
       "  </thead>\n",
       "  <tbody>\n",
       "    <tr>\n",
       "      <th>0</th>\n",
       "      <td>Plaza Vea</td>\n",
       "      <td>Azúcar Rubia BELL'S Bolsa 4Kg</td>\n",
       "      <td>S/ 16.70 un</td>\n",
       "    </tr>\n",
       "    <tr>\n",
       "      <th>1</th>\n",
       "      <td>Plaza Vea</td>\n",
       "      <td>Azúcar Rubia BELL'S Selección Bolsa 5Kg</td>\n",
       "      <td>S/ 23 un</td>\n",
       "    </tr>\n",
       "    <tr>\n",
       "      <th>2</th>\n",
       "      <td>Plaza Vea</td>\n",
       "      <td>Azúcar Rubia BELL'S Bolsa 1.3Kg</td>\n",
       "      <td>S/ 5.70 un</td>\n",
       "    </tr>\n",
       "    <tr>\n",
       "      <th>3</th>\n",
       "      <td>Plaza Vea</td>\n",
       "      <td>Azúcar Rubia DULFINA Bolsa 5Kg</td>\n",
       "      <td>S/ 21.90 un</td>\n",
       "    </tr>\n",
       "    <tr>\n",
       "      <th>4</th>\n",
       "      <td>Plaza Vea</td>\n",
       "      <td>Azúcar Rubia BELL'S Bolsa 5Kg</td>\n",
       "      <td>S/ 19.90 un</td>\n",
       "    </tr>\n",
       "    <tr>\n",
       "      <th>5</th>\n",
       "      <td>Plaza Vea</td>\n",
       "      <td>Azúcar Rubia BELL'S Bolsa 650g</td>\n",
       "      <td>S/ 3.10 un</td>\n",
       "    </tr>\n",
       "    <tr>\n",
       "      <th>6</th>\n",
       "      <td>Plaza Vea</td>\n",
       "      <td>Azúcar Rubia BELL'S Selección Bolsa 1K</td>\n",
       "      <td>S/ 5.30 un</td>\n",
       "    </tr>\n",
       "    <tr>\n",
       "      <th>7</th>\n",
       "      <td>Plaza Vea</td>\n",
       "      <td>Azúcar Rubia COSTEÑO Bolsa 1Kg</td>\n",
       "      <td>S/ 5.90 un</td>\n",
       "    </tr>\n",
       "    <tr>\n",
       "      <th>8</th>\n",
       "      <td>Plaza Vea</td>\n",
       "      <td>Azúcar Rubia DULFINA Bolsa 1Kg</td>\n",
       "      <td>S/ 4.89 un</td>\n",
       "    </tr>\n",
       "    <tr>\n",
       "      <th>9</th>\n",
       "      <td>Plaza Vea</td>\n",
       "      <td>Azúcar Rubia CARTAVIO Bolsa 1Kg</td>\n",
       "      <td>S/ 4.80 un</td>\n",
       "    </tr>\n",
       "    <tr>\n",
       "      <th>10</th>\n",
       "      <td>Plaza Vea</td>\n",
       "      <td>Azúcar Rubia CARTAVIO Bolsa 5Kg</td>\n",
       "      <td>S/ 21.90 un</td>\n",
       "    </tr>\n",
       "    <tr>\n",
       "      <th>11</th>\n",
       "      <td>Plaza Vea</td>\n",
       "      <td>Azúcar Rubia BELL'S Bolsa 2Kg</td>\n",
       "      <td>S/ 8.50 un</td>\n",
       "    </tr>\n",
       "    <tr>\n",
       "      <th>12</th>\n",
       "      <td>Plaza Vea</td>\n",
       "      <td>Azúcar Rubia ONZA Light con Stevia Doypack 500...</td>\n",
       "      <td>S/ 7.20 un</td>\n",
       "    </tr>\n",
       "    <tr>\n",
       "      <th>13</th>\n",
       "      <td>Plaza Vea</td>\n",
       "      <td>Azúcar Rubia BELL'S Bolsa 1Kg</td>\n",
       "      <td>S/ 4.49 un</td>\n",
       "    </tr>\n",
       "    <tr>\n",
       "      <th>14</th>\n",
       "      <td>Plaza Vea</td>\n",
       "      <td>Azucar Rubia BELL'S con Stevia Bolsa 500g</td>\n",
       "      <td>S/ 7.90 un</td>\n",
       "    </tr>\n",
       "    <tr>\n",
       "      <th>15</th>\n",
       "      <td>Plaza Vea</td>\n",
       "      <td>Azúcar Light INCAUCA con Stevia Bolsa 850g</td>\n",
       "      <td>S/ 15.89 un</td>\n",
       "    </tr>\n",
       "    <tr>\n",
       "      <th>16</th>\n",
       "      <td>Plaza Vea</td>\n",
       "      <td>Azucar Morena INCAUCA Light Caja 100un</td>\n",
       "      <td>S/ 12.69 un</td>\n",
       "    </tr>\n",
       "  </tbody>\n",
       "</table>\n",
       "</div>"
      ],
      "text/plain": [
       "   Supermercado                                           Producto  \\\n",
       "0     Plaza Vea                      Azúcar Rubia BELL'S Bolsa 4Kg   \n",
       "1     Plaza Vea            Azúcar Rubia BELL'S Selección Bolsa 5Kg   \n",
       "2     Plaza Vea                    Azúcar Rubia BELL'S Bolsa 1.3Kg   \n",
       "3     Plaza Vea                     Azúcar Rubia DULFINA Bolsa 5Kg   \n",
       "4     Plaza Vea                      Azúcar Rubia BELL'S Bolsa 5Kg   \n",
       "5     Plaza Vea                     Azúcar Rubia BELL'S Bolsa 650g   \n",
       "6     Plaza Vea             Azúcar Rubia BELL'S Selección Bolsa 1K   \n",
       "7     Plaza Vea                     Azúcar Rubia COSTEÑO Bolsa 1Kg   \n",
       "8     Plaza Vea                     Azúcar Rubia DULFINA Bolsa 1Kg   \n",
       "9     Plaza Vea                    Azúcar Rubia CARTAVIO Bolsa 1Kg   \n",
       "10    Plaza Vea                    Azúcar Rubia CARTAVIO Bolsa 5Kg   \n",
       "11    Plaza Vea                      Azúcar Rubia BELL'S Bolsa 2Kg   \n",
       "12    Plaza Vea  Azúcar Rubia ONZA Light con Stevia Doypack 500...   \n",
       "13    Plaza Vea                      Azúcar Rubia BELL'S Bolsa 1Kg   \n",
       "14    Plaza Vea          Azucar Rubia BELL'S con Stevia Bolsa 500g   \n",
       "15    Plaza Vea         Azúcar Light INCAUCA con Stevia Bolsa 850g   \n",
       "16    Plaza Vea             Azucar Morena INCAUCA Light Caja 100un   \n",
       "\n",
       "         Precio  \n",
       "0   S/ 16.70 un  \n",
       "1      S/ 23 un  \n",
       "2    S/ 5.70 un  \n",
       "3   S/ 21.90 un  \n",
       "4   S/ 19.90 un  \n",
       "5    S/ 3.10 un  \n",
       "6    S/ 5.30 un  \n",
       "7    S/ 5.90 un  \n",
       "8    S/ 4.89 un  \n",
       "9    S/ 4.80 un  \n",
       "10  S/ 21.90 un  \n",
       "11   S/ 8.50 un  \n",
       "12   S/ 7.20 un  \n",
       "13   S/ 4.49 un  \n",
       "14   S/ 7.90 un  \n",
       "15  S/ 15.89 un  \n",
       "16  S/ 12.69 un  "
      ]
     },
     "execution_count": 251,
     "metadata": {},
     "output_type": "execute_result"
    }
   ],
   "source": [
    "# Exportar a excel\n",
    "dic= {'Supermercado':supermercado3 , 'Producto': productos3,\"Precio\": precios3 }\n",
    "df = pd.DataFrame(dic , columns= ['Supermercado',\"Producto\",\"Precio\"] )\n",
    "df.to_excel('plazavea.xlsx', index=False,encoding='cp1252')\n",
    "# Lectura\n",
    "plazavea=pd.read_excel('plazavea.xlsx')\n",
    "plazavea"
   ]
  },
  {
   "cell_type": "code",
   "execution_count": 203,
   "id": "799a048c",
   "metadata": {},
   "outputs": [],
   "source": [
    "driver.close() # Cerrar el driver"
   ]
  },
  {
   "cell_type": "markdown",
   "id": "bc9c9771",
   "metadata": {},
   "source": [
    "# COMPARACIÓN\n",
    "\n",
    "Filtrar por la marca y cantidad del producto"
   ]
  },
  {
   "cell_type": "code",
   "execution_count": 253,
   "id": "424c96be",
   "metadata": {},
   "outputs": [
    {
     "name": "stdout",
     "output_type": "stream",
     "text": [
      "DULFINA\n"
     ]
    }
   ],
   "source": [
    "marca = input()  # Colocar la marca, (por ejemplo Gloria, Primor)"
   ]
  },
  {
   "cell_type": "code",
   "execution_count": 254,
   "id": "b89269b7",
   "metadata": {},
   "outputs": [
    {
     "name": "stdout",
     "output_type": "stream",
     "text": [
      "5\n"
     ]
    }
   ],
   "source": [
    "cantidad = input() # Colocar la cantidad (sin unidades)"
   ]
  },
  {
   "cell_type": "markdown",
   "id": "dc889152",
   "metadata": {},
   "source": [
    "# En Metro"
   ]
  },
  {
   "cell_type": "code",
   "execution_count": 255,
   "id": "d619a84c",
   "metadata": {},
   "outputs": [
    {
     "data": {
      "text/html": [
       "<div>\n",
       "<style scoped>\n",
       "    .dataframe tbody tr th:only-of-type {\n",
       "        vertical-align: middle;\n",
       "    }\n",
       "\n",
       "    .dataframe tbody tr th {\n",
       "        vertical-align: top;\n",
       "    }\n",
       "\n",
       "    .dataframe thead th {\n",
       "        text-align: right;\n",
       "    }\n",
       "</style>\n",
       "<table border=\"1\" class=\"dataframe\">\n",
       "  <thead>\n",
       "    <tr style=\"text-align: right;\">\n",
       "      <th></th>\n",
       "      <th>Supermercado</th>\n",
       "      <th>Producto</th>\n",
       "      <th>Precio</th>\n",
       "    </tr>\n",
       "  </thead>\n",
       "  <tbody>\n",
       "    <tr>\n",
       "      <th>0</th>\n",
       "      <td>Metro</td>\n",
       "      <td>Azúcar Rubia Dulfina Bolsa 5 kg</td>\n",
       "      <td>S/26.45</td>\n",
       "    </tr>\n",
       "  </tbody>\n",
       "</table>\n",
       "</div>"
      ],
      "text/plain": [
       "  Supermercado                         Producto   Precio\n",
       "0        Metro  Azúcar Rubia Dulfina Bolsa 5 kg  S/26.45"
      ]
     },
     "execution_count": 255,
     "metadata": {},
     "output_type": "execute_result"
    }
   ],
   "source": [
    "def convert1(marca):\n",
    "    para_metro = marca.capitalize()  # Convertir la primera palabra en mayuscula\n",
    "    return para_metro\n",
    "\n",
    "df_metro = metro[metro['Producto'].str.count(f'(.*{convert1(marca)}.*{cantidad}.*)')==1].sort_values(by='Precio', ascending = True) # Ordenamos los resultados de menor a mayor\n",
    "df_metro=df_metro.reset_index(drop=True) # Resetear los indices (index)\n",
    "df_metro # Visualizar dataframe df_metro"
   ]
  },
  {
   "cell_type": "markdown",
   "id": "36766c64",
   "metadata": {},
   "source": [
    "# En Tottus"
   ]
  },
  {
   "cell_type": "code",
   "execution_count": 256,
   "id": "06a2c86a",
   "metadata": {},
   "outputs": [
    {
     "data": {
      "text/html": [
       "<div>\n",
       "<style scoped>\n",
       "    .dataframe tbody tr th:only-of-type {\n",
       "        vertical-align: middle;\n",
       "    }\n",
       "\n",
       "    .dataframe tbody tr th {\n",
       "        vertical-align: top;\n",
       "    }\n",
       "\n",
       "    .dataframe thead th {\n",
       "        text-align: right;\n",
       "    }\n",
       "</style>\n",
       "<table border=\"1\" class=\"dataframe\">\n",
       "  <thead>\n",
       "    <tr style=\"text-align: right;\">\n",
       "      <th></th>\n",
       "      <th>Supermercado</th>\n",
       "      <th>Producto</th>\n",
       "      <th>Precio</th>\n",
       "    </tr>\n",
       "  </thead>\n",
       "  <tbody>\n",
       "    <tr>\n",
       "      <th>0</th>\n",
       "      <td>Tottus</td>\n",
       "      <td>AZÚCAR RUBIA DULFINA 5 KG</td>\n",
       "      <td>s/ 22.9 UN</td>\n",
       "    </tr>\n",
       "  </tbody>\n",
       "</table>\n",
       "</div>"
      ],
      "text/plain": [
       "  Supermercado                   Producto      Precio\n",
       "0       Tottus  AZÚCAR RUBIA DULFINA 5 KG  s/ 22.9 UN"
      ]
     },
     "execution_count": 256,
     "metadata": {},
     "output_type": "execute_result"
    }
   ],
   "source": [
    "def convert2(marca):\n",
    "    para_tottus_pv = marca.upper()  # Convertir toda la palabra en mayuscula\n",
    "    return para_tottus_pv\n",
    "\n",
    "df_tottus = tottus[tottus['Producto'].str.count(f'(.*{convert2(marca)}.*{cantidad}.*)')==1].sort_values(by='Precio', ascending = True)# Ordenamos los resultados de menor a mayor\n",
    "df_tottus=df_tottus.reset_index(drop=True) # Resetear los indices (index)\n",
    "df_tottus # Visualizar dataframe df_tottus"
   ]
  },
  {
   "cell_type": "markdown",
   "id": "b133d695",
   "metadata": {},
   "source": [
    "# En Plaza Vea"
   ]
  },
  {
   "cell_type": "code",
   "execution_count": 257,
   "id": "e6978bd1",
   "metadata": {},
   "outputs": [
    {
     "data": {
      "text/html": [
       "<div>\n",
       "<style scoped>\n",
       "    .dataframe tbody tr th:only-of-type {\n",
       "        vertical-align: middle;\n",
       "    }\n",
       "\n",
       "    .dataframe tbody tr th {\n",
       "        vertical-align: top;\n",
       "    }\n",
       "\n",
       "    .dataframe thead th {\n",
       "        text-align: right;\n",
       "    }\n",
       "</style>\n",
       "<table border=\"1\" class=\"dataframe\">\n",
       "  <thead>\n",
       "    <tr style=\"text-align: right;\">\n",
       "      <th></th>\n",
       "      <th>Supermercado</th>\n",
       "      <th>Producto</th>\n",
       "      <th>Precio</th>\n",
       "    </tr>\n",
       "  </thead>\n",
       "  <tbody>\n",
       "    <tr>\n",
       "      <th>0</th>\n",
       "      <td>Plaza Vea</td>\n",
       "      <td>Azúcar Rubia DULFINA Bolsa 5Kg</td>\n",
       "      <td>S/ 21.90 un</td>\n",
       "    </tr>\n",
       "  </tbody>\n",
       "</table>\n",
       "</div>"
      ],
      "text/plain": [
       "  Supermercado                        Producto       Precio\n",
       "0    Plaza Vea  Azúcar Rubia DULFINA Bolsa 5Kg  S/ 21.90 un"
      ]
     },
     "execution_count": 257,
     "metadata": {},
     "output_type": "execute_result"
    }
   ],
   "source": [
    "def convert3(marca):\n",
    "    para_tottus_pv = marca.upper()  # Convertir toda la palabra en mayuscula\n",
    "    return para_tottus_pv\n",
    "\n",
    "df_plazavea= plazavea[plazavea['Producto'].str.count(f'(.*{convert3(marca)}.*{cantidad}.*)')==1].sort_values(by='Precio', ascending = True) # Ordenamos los resultados de menor a mayor\n",
    "df_plazavea = df_plazavea.reset_index(drop=True)  # Resetear los indices (index)\n",
    "df_plazavea # Visualizar dataframe df_plazavea"
   ]
  },
  {
   "cell_type": "markdown",
   "id": "f1302b2b",
   "metadata": {},
   "source": [
    "# Finalmente"
   ]
  },
  {
   "cell_type": "code",
   "execution_count": 258,
   "id": "4a27946e",
   "metadata": {},
   "outputs": [
    {
     "data": {
      "text/html": [
       "<div>\n",
       "<style scoped>\n",
       "    .dataframe tbody tr th:only-of-type {\n",
       "        vertical-align: middle;\n",
       "    }\n",
       "\n",
       "    .dataframe tbody tr th {\n",
       "        vertical-align: top;\n",
       "    }\n",
       "\n",
       "    .dataframe thead th {\n",
       "        text-align: right;\n",
       "    }\n",
       "</style>\n",
       "<table border=\"1\" class=\"dataframe\">\n",
       "  <thead>\n",
       "    <tr style=\"text-align: right;\">\n",
       "      <th></th>\n",
       "      <th>Supermercado</th>\n",
       "      <th>Producto</th>\n",
       "      <th>Precio</th>\n",
       "    </tr>\n",
       "  </thead>\n",
       "  <tbody>\n",
       "    <tr>\n",
       "      <th>0</th>\n",
       "      <td>Metro</td>\n",
       "      <td>Azúcar Rubia Dulfina Bolsa 5 kg</td>\n",
       "      <td>S/26.45</td>\n",
       "    </tr>\n",
       "    <tr>\n",
       "      <th>0</th>\n",
       "      <td>Tottus</td>\n",
       "      <td>AZÚCAR RUBIA DULFINA 5 KG</td>\n",
       "      <td>s/ 22.9 UN</td>\n",
       "    </tr>\n",
       "    <tr>\n",
       "      <th>0</th>\n",
       "      <td>Plaza Vea</td>\n",
       "      <td>Azúcar Rubia DULFINA Bolsa 5Kg</td>\n",
       "      <td>S/ 21.90 un</td>\n",
       "    </tr>\n",
       "  </tbody>\n",
       "</table>\n",
       "</div>"
      ],
      "text/plain": [
       "  Supermercado                         Producto       Precio\n",
       "0        Metro  Azúcar Rubia Dulfina Bolsa 5 kg      S/26.45\n",
       "0       Tottus        AZÚCAR RUBIA DULFINA 5 KG   s/ 22.9 UN\n",
       "0    Plaza Vea   Azúcar Rubia DULFINA Bolsa 5Kg  S/ 21.90 un"
      ]
     },
     "execution_count": 258,
     "metadata": {},
     "output_type": "execute_result"
    }
   ],
   "source": [
    "comparacion = pd.concat([df_metro,df_tottus,df_plazavea]) # Concatenamos los 3 dataframes (df_metro,df_tottus,df_plazavea)\n",
    "# Exportando a csv \n",
    "comparacion.to_csv('Reporte.csv', index=False,encoding='cp1252') \n",
    "# Visualizar comparación\n",
    "comparacion"
   ]
  },
  {
   "cell_type": "code",
   "execution_count": 259,
   "id": "862eb7e1",
   "metadata": {},
   "outputs": [],
   "source": [
    "# Exportando a excel las comparaciones 3 hojas distintas para enviar al correo\n",
    "writer = pd.ExcelWriter('Reporte.xlsx') # Reporte.xlsx con opcion a escritura\n",
    "\n",
    "df_metro.to_excel(writer, 'Metro', index=False) # Guardamos el dataframe df_metro en una hoja llamada Metro\n",
    "df_tottus.to_excel(writer, 'Tottus', index=False) # Guardamos el dataframe df_tottus en una hoja llamada Tottus\n",
    "df_plazavea.to_excel(writer, 'Plaza Vea', index=False) # Guardamos el dataframe df_plazavea en una hoja llamada Plaza Vea\n",
    "\n",
    "writer.save() # Guardar los cambios\n",
    "writer.close() # Cerrar "
   ]
  },
  {
   "cell_type": "markdown",
   "id": "62386dfc",
   "metadata": {},
   "source": [
    "# Envío de correo automático"
   ]
  },
  {
   "cell_type": "code",
   "execution_count": 260,
   "id": "c4865cab",
   "metadata": {},
   "outputs": [
    {
     "data": {
      "text/plain": [
       "(221,\n",
       " b'2.0.0 closing connection bj18-20020a0561220e5200b00378d82b16f3sm6778582vkb.54 - gsmtp')"
      ]
     },
     "execution_count": 260,
     "metadata": {},
     "output_type": "execute_result"
    }
   ],
   "source": [
    "import smtplib\n",
    "from email.mime.multipart import MIMEMultipart\n",
    "from email.mime.text import MIMEText\n",
    "from email.mime.base import MIMEBase\n",
    "from email import encoders\n",
    " \n",
    "remitente = 'jorgeigna.2911@gmail.com' \n",
    "destinatarios = para_email                  # Destinatario (se colocó en un principio)\n",
    "asunto = '[RESULTADOS] TRABAJO FINAL LP2 GRUPO 6'\n",
    "cuerpo = '''\n",
    "Hola estimado usuario, le enviamos las comparaciones de los productos.\n",
    "Integrantes:\n",
    "- Tanta Medina, Christian Rodolfo 20200338\n",
    "- Taquiri Pillaca, Jorge Ignacio 20200339\n",
    "- Tay Saccaco, Brian Eduardo 20210849\n",
    "'''\n",
    "ruta_adjunto = 'Reporte.xlsx'\n",
    "nombre_adjunto = 'Comparacion de productos.xlsx'\n",
    "\n",
    "mensaje = MIMEMultipart() # Creamos el objeto mensaje\n",
    "# Establecemos los atributos del mensaje\n",
    "mensaje['From'] = remitente\n",
    "mensaje['To'] = \", \".join(destinatarios)  # . join en caso haya mas de 1 destinatario\n",
    "mensaje['Subject'] = asunto\n",
    "\n",
    "# Agregamos el cuerpo del mensaje como objeto MIME de tipo texto\n",
    "mensaje.attach(MIMEText(cuerpo, 'plain')) \n",
    "# Abrimos el archivo que vamos a adjuntar\n",
    "archivo_adjunto = open(ruta_adjunto, 'rb') # \"rb\" abre el archivo en formato binario para lectura\n",
    "adjunto_MIME = MIMEBase('application', 'octet-stream') # Creamos un objeto MIME base \n",
    "adjunto_MIME.set_payload((archivo_adjunto).read()) # Cargamos el archivo adjunto\n",
    "encoders.encode_base64(adjunto_MIME) # Codificamos el objeto en BASE64\n",
    "adjunto_MIME.add_header('Content-Disposition', \"attachment; filename= %s\" % nombre_adjunto) # Agregamos una cabecera al objeto\n",
    "mensaje.attach(adjunto_MIME) # Finalmente lo agregamos al mensaje\n",
    "\n",
    "# Creamos la conexión con el servidor\n",
    "sesion_smtp = smtplib.SMTP('smtp.gmail.com', 587) \n",
    "sesion_smtp.starttls() # Ciframos la conexión\n",
    "sesion_smtp.login('jorgeigna.2911@gmail.com','bnriqogwriiscvoi') # Iniciamos sesión en el servidor\n",
    "texto = mensaje.as_string() # Convertimos el objeto mensaje a texto\n",
    "# Enviamos el mensaje\n",
    "sesion_smtp.sendmail(remitente, destinatarios, texto)\n",
    "# Cerramos la conexión\n",
    "sesion_smtp.quit()  "
   ]
  },
  {
   "cell_type": "markdown",
   "id": "e5691a95",
   "metadata": {},
   "source": [
    "# Envio"
   ]
  },
  {
   "cell_type": "markdown",
   "id": "3feb798c",
   "metadata": {},
   "source": [
    "![foto](captura1.png \"\")"
   ]
  },
  {
   "cell_type": "markdown",
   "id": "38307a6d",
   "metadata": {},
   "source": [
    "[](usuario.png)"
   ]
  }
 ],
 "metadata": {
  "kernelspec": {
   "display_name": "Python 3 (ipykernelGG)",
   "language": "python",
   "name": "python3"
  },
  "language_info": {
   "codemirror_mode": {
    "name": "ipython",
    "version": 3
   },
   "file_extension": ".py",
   "mimetype": "text/x-python",
   "name": "python",
   "nbconvert_exporter": "python",
   "pygments_lexer": "ipython3",
   "version": "3.9.12"
  },
  "vscode": {
   "interpreter": {
    "hash": "9412b45e6a57aa9914730508726d49801d3b2c579f461e1fb13c705887a7b1f6"
   }
  }
 },
 "nbformat": 4,
 "nbformat_minor": 5
}
