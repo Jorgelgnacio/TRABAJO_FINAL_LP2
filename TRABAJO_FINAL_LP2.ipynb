{
 "cells": [
  {
   "cell_type": "markdown",
   "id": "66b46d41",
   "metadata": {},
   "source": [
    "# COMPARACIÓN AUTOMATIZADA DE PRECIOS DE PRODUCTOS DE PRIMERA NECESIDAD EN LOS 3 SUPERMERCADOS MÁS POPULARES: METRO, PLAZA VEA, TOTTUS."
   ]
  },
  {
   "cell_type": "markdown",
   "id": "7775cc80",
   "metadata": {},
   "source": [
    "### DESCRIPCIÓN DEL CASO\n",
    "\n",
    "Se quiere automatizar la comparación de precios de productos básicos de la canasta familiar\n",
    "(arroz, azúcar, aceite, leche, etc) de tres supermercados que ofrecen sus productos a través de\n",
    "su propio portal web. Estos supermercados son: Metro, Plaza Vea y Tottus.\n",
    "Por lo que se pide escribir un programa en Python utilizando Jupyter notebook que recopile los\n",
    "precios de un producto de la canasta básica familiar de 3 Supermercados anteriormente\n",
    "mencionados y reporte todos sus artículos relacionados con la palabra clave ingresada en la\n",
    "búsqueda, para que posteriormente pueda comparar los precios en los distintos\n",
    "Supermercados de los productos exactamente iguales. Además, que se envíe\n",
    "automáticamente al correo del usuario-consultor un reporte de precio más alto, precio más\n",
    "bajo, productos en común comparando los precios entre los supermercados coincidentes."
   ]
  },
  {
   "cell_type": "markdown",
   "id": "0b2bd01c",
   "metadata": {},
   "source": [
    "#### Importar librerías\n"
   ]
  },
  {
   "cell_type": "code",
   "execution_count": 1,
   "id": "b53fd5c0",
   "metadata": {},
   "outputs": [],
   "source": [
    "import pandas as pd\n",
    "import time\n",
    "from selenium import webdriver\n",
    "from selenium.webdriver.chrome.service import Service\n",
    "from selenium.webdriver.common.by import By\n",
    "from selenium.webdriver.common.keys import Keys\n",
    "from selenium.webdriver.support import expected_conditions as EC\n",
    "from selenium.webdriver.support.ui import WebDriverWait\n",
    "from pymongo import MongoClient"
   ]
  },
  {
   "cell_type": "markdown",
   "id": "8bc482f9",
   "metadata": {},
   "source": [
    "#### Programa para obtener los productos y precios de supermercados Metro"
   ]
  },
  {
   "cell_type": "code",
   "execution_count": 6,
   "id": "f428fa41",
   "metadata": {},
   "outputs": [],
   "source": [
    "ID = \"id\"\n",
    "NAME = \"name\"\n",
    "XPATH = \"xpath\"\n",
    "LINK_TEXT = \"link text\"\n",
    "PARTIAL_LINK_TEXT = \"partial link text\"\n",
    "TAG_NAME = \"tag name\"\n",
    "CLASS_NAME = \"class name\"\n",
    "CSS_SELECTOR = \"css selector\"\n",
    "\n",
    "# find_element(By.ID, \"id\")\n",
    "# find_element(By.NAME, \"name\")\n",
    "# find_element(By.XPATH, \"xpath\")\n",
    "# find_element(By.LINK_TEXT, \"link text\")\n",
    "# find_element(By.PARTIAL_LINK_TEXT, \"partial link text\")\n",
    "# find_element(By.TAG_NAME, \"tag name\")\n",
    "# find_element(By.CLASS_NAME, \"class name\")\n",
    "# find_element(By.CSS_SELECTOR, \"css selector\")\n",
    "\n",
    "path = ('C:/Users/jorge/Documents/TRABAJO FINAL/chromedriver.exe')\n",
    "urls='https://www.metro.pe/abarrotes'\n",
    "options = webdriver.ChromeOptions()\n",
    "options.add_argument('--incognito')\n",
    "s = Service(path)\n",
    "driver = webdriver.Chrome(service=s, options = options)\n",
    "driver.get(urls)\n",
    "time.sleep(4)\n",
    "\n",
    "scrolls = 10\n",
    "while True:\n",
    "    scrolls -= 1\n",
    "    driver.execute_script(\"window.scrollTo(0, document.body.scrollHeight)\")\n",
    "    time.sleep(3)\n",
    "    if scrolls < 0:\n",
    "        break\n",
    "        \n",
    "elements = driver.find_elements(By.XPATH,'//li[@class=\"comprar-abarrotes-online\"]')\n",
    "names =  []\n",
    "prices = []\n",
    "for element in elements:\n",
    "        name = element.find_element(By.XPATH,'.//a[@class=\"product-item__name\"]').text\n",
    "        price = element.find_element(By.XPATH,'.//span[@class=\"product-prices__value product-prices__value--best-price\"]').text\n",
    "        names.append(name)\n",
    "        col.insert_one({\n",
    "        'producto': names\n",
    "        })\n",
    "        prices.append(price)\n",
    "        col.insert_one({\n",
    "        'precio': prices\n",
    "        })\n",
    "        "
   ]
  },
  {
   "cell_type": "code",
   "execution_count": 10,
   "id": "e6aa007d",
   "metadata": {},
   "outputs": [
    {
     "data": {
      "text/html": [
       "<div>\n",
       "<style scoped>\n",
       "    .dataframe tbody tr th:only-of-type {\n",
       "        vertical-align: middle;\n",
       "    }\n",
       "\n",
       "    .dataframe tbody tr th {\n",
       "        vertical-align: top;\n",
       "    }\n",
       "\n",
       "    .dataframe thead th {\n",
       "        text-align: right;\n",
       "    }\n",
       "</style>\n",
       "<table border=\"1\" class=\"dataframe\">\n",
       "  <thead>\n",
       "    <tr style=\"text-align: right;\">\n",
       "      <th></th>\n",
       "      <th>Producto</th>\n",
       "      <th>Precio</th>\n",
       "    </tr>\n",
       "  </thead>\n",
       "  <tbody>\n",
       "    <tr>\n",
       "      <th>0</th>\n",
       "      <td>Fideo Spaghetti Don Vittorio 950g</td>\n",
       "      <td>S/4.20</td>\n",
       "    </tr>\n",
       "    <tr>\n",
       "      <th>1</th>\n",
       "      <td>Aceite Vegetal Cuisine&amp;Co Botella 900 ml</td>\n",
       "      <td>S/8.90</td>\n",
       "    </tr>\n",
       "    <tr>\n",
       "      <th>2</th>\n",
       "      <td>Arroz Extra Costeño 5kg</td>\n",
       "      <td>S/. 21.90</td>\n",
       "    </tr>\n",
       "    <tr>\n",
       "      <th>3</th>\n",
       "      <td>Aceite Vegetal Primor Premium 900ml</td>\n",
       "      <td>S/11.50</td>\n",
       "    </tr>\n",
       "    <tr>\n",
       "      <th>4</th>\n",
       "      <td>Pasta Spaghetti Nro 5 Bolsa 1 Kg</td>\n",
       "      <td>S/3.35</td>\n",
       "    </tr>\n",
       "    <tr>\n",
       "      <th>...</th>\n",
       "      <td>...</td>\n",
       "      <td>...</td>\n",
       "    </tr>\n",
       "    <tr>\n",
       "      <th>385</th>\n",
       "      <td>Vinagre Tinto Venturo Botella Plástica 600 ml</td>\n",
       "      <td>S/4.89</td>\n",
       "    </tr>\n",
       "    <tr>\n",
       "      <th>386</th>\n",
       "      <td>Tuco Sibarita Pack 6 Unid x 9.30 g</td>\n",
       "      <td>S/4.49</td>\n",
       "    </tr>\n",
       "    <tr>\n",
       "      <th>387</th>\n",
       "      <td>Sillau Aji-No-Sillao Frasco 280 ml</td>\n",
       "      <td>S/3.60</td>\n",
       "    </tr>\n",
       "    <tr>\n",
       "      <th>388</th>\n",
       "      <td>Sazonador Sibarita Frasco 80 g</td>\n",
       "      <td>S/5.20</td>\n",
       "    </tr>\n",
       "    <tr>\n",
       "      <th>389</th>\n",
       "      <td>Salsa Roja Completa Don Vittorio 200g</td>\n",
       "      <td>S/3.40</td>\n",
       "    </tr>\n",
       "  </tbody>\n",
       "</table>\n",
       "<p>390 rows × 2 columns</p>\n",
       "</div>"
      ],
      "text/plain": [
       "                                          Producto     Precio\n",
       "0                Fideo Spaghetti Don Vittorio 950g     S/4.20\n",
       "1         Aceite Vegetal Cuisine&Co Botella 900 ml     S/8.90\n",
       "2                          Arroz Extra Costeño 5kg  S/. 21.90\n",
       "3              Aceite Vegetal Primor Premium 900ml    S/11.50\n",
       "4                 Pasta Spaghetti Nro 5 Bolsa 1 Kg     S/3.35\n",
       "..                                             ...        ...\n",
       "385  Vinagre Tinto Venturo Botella Plástica 600 ml     S/4.89\n",
       "386             Tuco Sibarita Pack 6 Unid x 9.30 g     S/4.49\n",
       "387             Sillau Aji-No-Sillao Frasco 280 ml     S/3.60\n",
       "388                 Sazonador Sibarita Frasco 80 g     S/5.20\n",
       "389          Salsa Roja Completa Don Vittorio 200g     S/3.40\n",
       "\n",
       "[390 rows x 2 columns]"
      ]
     },
     "execution_count": 10,
     "metadata": {},
     "output_type": "execute_result"
    }
   ],
   "source": [
    "#Exportacion\n",
    "dic= {'Producto': names , \"Precio\": prices}\n",
    "df = pd.DataFrame(dic , columns= [\"Producto\", \"Precio\"] )\n",
    "df.to_excel('metro.xlsx', index=False,encoding='cp1252')\n",
    "\n",
    "# Lectura\n",
    "pd.read_excel('metro.xlsx')"
   ]
  },
  {
   "cell_type": "code",
   "execution_count": 9,
   "id": "e6777d9b",
   "metadata": {},
   "outputs": [],
   "source": [
    "#pages to scrape\n",
    "# urls = ('https://www.website.com/page1','https://www.website.com/page2')\n",
    "\n",
    "# for url in urls:\n",
    "#     driver.get(url)\n",
    "#     time.sleep(5)\n",
    "\n",
    "#     try:\n",
    "#         add_button = driver.find_element_by_xpath('//*[contains(concat( \" \", @class, \" \" ), concat( \" \", \"_5caa\", \" \" ))]')\n",
    "#         add_button.click()\n",
    "\n",
    "#     except:\n",
    "#         pass"
   ]
  },
  {
   "cell_type": "code",
   "execution_count": 14,
   "id": "304f8459",
   "metadata": {},
   "outputs": [
    {
     "data": {
      "text/plain": [
       "<pymongo.results.InsertOneResult at 0x188ba4478b0>"
      ]
     },
     "execution_count": 14,
     "metadata": {},
     "output_type": "execute_result"
    }
   ],
   "source": []
  },
  {
   "cell_type": "code",
   "execution_count": 15,
   "id": "7d30e7db",
   "metadata": {},
   "outputs": [
    {
     "data": {
      "text/plain": [
       "Collection(Database(MongoClient(host=['localhost:27017'], document_class=dict, tz_aware=False, connect=True), 'METRO'), 'PRECIO')"
      ]
     },
     "execution_count": 15,
     "metadata": {},
     "output_type": "execute_result"
    }
   ],
   "source": []
  },
  {
   "cell_type": "code",
   "execution_count": null,
   "id": "a122dc00",
   "metadata": {},
   "outputs": [],
   "source": []
  }
 ],
 "metadata": {
  "kernelspec": {
   "display_name": "Python 3 (ipykernelGG)",
   "language": "python",
   "name": "python3"
  },
  "language_info": {
   "codemirror_mode": {
    "name": "ipython",
    "version": 3
   },
   "file_extension": ".py",
   "mimetype": "text/x-python",
   "name": "python",
   "nbconvert_exporter": "python",
   "pygments_lexer": "ipython3",
   "version": "3.9.12"
  },
  "vscode": {
   "interpreter": {
    "hash": "9412b45e6a57aa9914730508726d49801d3b2c579f461e1fb13c705887a7b1f6"
   }
  }
 },
 "nbformat": 4,
 "nbformat_minor": 5
}
