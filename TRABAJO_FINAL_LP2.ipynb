{
 "cells": [
  {
   "cell_type": "markdown",
   "id": "66b46d41",
   "metadata": {},
   "source": [
    "# COMPARACIÓN AUTOMATIZADA DE PRECIOS DE PRODUCTOS DE PRIMERA NECESIDAD EN LOS 3 SUPERMERCADOS MÁS POPULARES: METRO, PLAZA VEA, TOTTUS."
   ]
  },
  {
   "cell_type": "markdown",
   "id": "7775cc80",
   "metadata": {},
   "source": [
    "### DESCRIPCIÓN DEL CASO\n",
    "\n",
    "Se quiere automatizar la comparación de precios de productos básicos de la canasta familiar\n",
    "(arroz, azúcar, aceite, leche, etc) de tres supermercados que ofrecen sus productos a través de\n",
    "su propio portal web. Estos supermercados son: Metro, Plaza Vea y Tottus.\n",
    "Por lo que se pide escribir un programa en Python utilizando Jupyter notebook que recopile los\n",
    "precios de un producto de la canasta básica familiar de 3 Supermercados anteriormente\n",
    "mencionados y reporte todos sus artículos relacionados con la palabra clave ingresada en la\n",
    "búsqueda, para que posteriormente pueda comparar los precios en los distintos\n",
    "Supermercados de los productos exactamente iguales. Además, que se envíe\n",
    "automáticamente al correo del usuario-consultor un reporte de precio más alto, precio más\n",
    "bajo, productos en común comparando los precios entre los supermercados coincidentes."
   ]
  },
  {
   "cell_type": "markdown",
   "id": "0b2bd01c",
   "metadata": {},
   "source": [
    "# Importar librerías\n"
   ]
  },
  {
   "cell_type": "code",
   "execution_count": 249,
   "id": "b53fd5c0",
   "metadata": {},
   "outputs": [],
   "source": [
    "import pandas as pd\n",
    "import time\n",
    "from selenium import webdriver\n",
    "from selenium.webdriver.chrome.service import Service\n",
    "from selenium.webdriver.common.by import By\n",
    "from selenium.webdriver.common.keys import Keys\n",
    "from selenium.webdriver.support import expected_conditions as EC\n",
    "from selenium.webdriver.support.ui import WebDriverWait\n",
    "from pymongo import MongoClient\n",
    "from tqdm import tqdm\n",
    "from termcolor import colored\n",
    "import csv\n",
    "from bs4 import BeautifulSoup\n",
    "from selenium import webdriver\n",
    "import time\n",
    "#jupyter notebook --NotebookApp.iopub_data_rate_limit=1.0e10"
   ]
  },
  {
   "cell_type": "markdown",
   "id": "bce32bc8",
   "metadata": {},
   "source": [
    "# Documentación de la nueva actualización de Selenium\n"
   ]
  },
  {
   "cell_type": "code",
   "execution_count": 250,
   "id": "7dc03645",
   "metadata": {},
   "outputs": [],
   "source": [
    "ID = \"id\"\n",
    "NAME = \"name\"\n",
    "XPATH = \"xpath\"\n",
    "LINK_TEXT = \"link text\"\n",
    "PARTIAL_LINK_TEXT = \"partial link text\"\n",
    "TAG_NAME = \"tag name\"\n",
    "CLASS_NAME = \"class name\"\n",
    "CSS_SELECTOR = \"css selector\"\n",
    "\n",
    "# find_element(By.ID, \"id\")\n",
    "# find_element(By.NAME, \"name\")\n",
    "# find_element(By.XPATH, \"xpath\")\n",
    "# find_element(By.LINK_TEXT, \"link text\")\n",
    "# find_element(By.PARTIAL_LINK_TEXT, \"partial link text\")\n",
    "# find_element(By.TAG_NAME, \"tag name\")\n",
    "# find_element(By.CLASS_NAME, \"class name\")\n",
    "# find_element(By.CSS_SELECTOR, \"css selector\")"
   ]
  },
  {
   "cell_type": "markdown",
   "id": "8bc482f9",
   "metadata": {},
   "source": [
    "# Programa para obtener los productos y precios de supermercados Metro (Usuario Jorge)"
   ]
  },
  {
   "cell_type": "code",
   "execution_count": 251,
   "id": "86c77e7d",
   "metadata": {},
   "outputs": [],
   "source": [
    "path = ('C:/Users/jorge/Documents/TRABAJO FINAL/chromedriver.exe')  # Dirección del ejecutable chromedriver.exe\n",
    "urls='https://www.metro.pe'          # URL de la pagina de Metro                   \n",
    "options = webdriver.ChromeOptions()   \n",
    "options.add_argument('--incognito')  # Opcion de abrir ventana de Chrome en modo incognito\n",
    "s = Service(path)                       \n",
    "driver = webdriver.Chrome(service=s, options = options)\n",
    "driver.maximize_window()\n",
    "driver.get(urls)\n",
    "\n",
    "time.sleep(3) # lapso de 3 segundo para que la pagina cargue los contenidos"
   ]
  },
  {
   "cell_type": "code",
   "execution_count": 252,
   "id": "38058503",
   "metadata": {},
   "outputs": [],
   "source": [
    "# Hacer clic en \"cerrar\", pagina emergente que sale en inicio\n",
    "driver.find_element(By.XPATH, '/html/body/div[46]/div/div[3]/button[1]').click()\n",
    "time.sleep(1)"
   ]
  },
  {
   "cell_type": "code",
   "execution_count": 253,
   "id": "69a56333",
   "metadata": {},
   "outputs": [],
   "source": [
    "# Hacer clic en la barra de búsqueda\n",
    "driver.find_element(By.XPATH, '/html/body/header[1]/div/div[2]/div[2]/div[1]/div[1]/input').click()\n",
    "time.sleep(1)"
   ]
  },
  {
   "cell_type": "code",
   "execution_count": 254,
   "id": "ea0a4c0d",
   "metadata": {},
   "outputs": [],
   "source": [
    "# Ingresar el producto en la barra de busqueda\n",
    "driver.find_element(By.XPATH, '/html/body/header[1]/div/div[2]/div[2]/div[1]/div[1]/input').send_keys('leche')\n",
    "time.sleep(1)"
   ]
  },
  {
   "cell_type": "code",
   "execution_count": 255,
   "id": "14c6e53e",
   "metadata": {},
   "outputs": [],
   "source": [
    "# Dar clic en ver todos los resultados.\n",
    "driver.find_element(By.XPATH, '/html/body/header[1]/div/div[2]/div[2]/div[1]/div[2]/div[2]/a/span').click()\n",
    "time.sleep(1)"
   ]
  },
  {
   "cell_type": "code",
   "execution_count": 271,
   "id": "cc69b9a7",
   "metadata": {},
   "outputs": [
    {
     "data": {
      "text/plain": [
       "307"
      ]
     },
     "execution_count": 271,
     "metadata": {},
     "output_type": "execute_result"
    }
   ],
   "source": [
    "# Cantidad de productos\n",
    "page=driver.find_element(By.XPATH, '/html/body/div[27]/div/div[2]/div[1]/div[1]/span[2]').text\n",
    "int(page[:3])"
   ]
  },
  {
   "cell_type": "code",
   "execution_count": 283,
   "id": "f428fa41",
   "metadata": {},
   "outputs": [
    {
     "name": "stdout",
     "output_type": "stream",
     "text": [
      "\u001b[31mProductos extraidos:\u001b[0m\n",
      "307\n",
      "\u001b[33mSe llegó a extraer todos los productos?.\u001b[0m\n",
      "True\n"
     ]
    }
   ],
   "source": [
    "# Automatización de scrolls (se correra las veces que sea necesario)\n",
    "tiempo = 15 + 1           # Seran 15 scrolls automaticos\n",
    "while True:               # Mientras esto sea verdad se realizará lo siguiente:\n",
    "    tiempo -= 1           # Cuenta regresiva, se resta 1 cada ciclo\n",
    "    driver.execute_script(\"window.scrollTo(0, document.body.scrollHeight)\") # Cada segundo se desplazará hasta la parte inferior de la página \n",
    "    time.sleep(1)      # Cada scroll automático tendra un timelap de 1 segundo\n",
    "    if scrolls < 0:     # Cuando llegue a cero segundos:\n",
    "        time.sleep(3)   # Le damos 3 segundos a que la pagina carge los contenidos hasta el ultimo scroll automatico\n",
    "        driver.execute_script(\"window.scrollBy(0,-310)\") # Un scroll up (rueda hacia arriba) para mostrar la ultima fila de productos\n",
    "        elements = driver.find_elements(By.XPATH,'//li[@layout=\"19ccd66b-b568-43cb-a106-b52f9796f5cd\"]') # Encontrar los productos de la pagina de acuerdo al XPATH\n",
    "        break           # Se cierra el ciclo\n",
    "\n",
    "        \n",
    "print(colored('Productos extraidos:','red'))  \n",
    "print(len(elements))        # Longitud de los elementos (productos) encontrados hasta coindicir con el total de productos\n",
    "\n",
    "print(colored('\\n Se llegó a extraer todos los productos?.','yellow'))  \n",
    "print(len(elements) == int(page[:3])) # Comparación "
   ]
  },
  {
   "cell_type": "code",
   "execution_count": 287,
   "id": "129576c7",
   "metadata": {},
   "outputs": [],
   "source": [
    "# Vista a todos los elementos a scrapear, desde el primero hasta el ultimo en ser extradio\n",
    "n = 1\n",
    "while n < len(elements):  # Ciclo de acuerdo  a la cantidad de elementos extraidos\n",
    "    listing = driver.find_element(By.XPATH, f'/html/body/div[27]/div/div[2]/div[4]/div[2]/div[2]/div[2]/div/ul/li[{n}]') \n",
    "    driver.execute_script(\"arguments[0].scrollIntoView(true);\", listing)  # Se ira a la parte inferior hasta la ultima fila de productos\n",
    "    n += 1\n",
    "    "
   ]
  },
  {
   "cell_type": "code",
   "execution_count": 289,
   "id": "344b6974",
   "metadata": {},
   "outputs": [
    {
     "name": "stderr",
     "output_type": "stream",
     "text": [
      "100%|██████████| 307/307 [00:43<00:00,  6.99it/s]\n"
     ]
    }
   ],
   "source": [
    "# Almacenar productos y precios \n",
    "productos =  []  # lista vacia\n",
    "precios = []  # lista vacia\n",
    "for element in tqdm(elements):  # tqdm:Contar iteraciones, indicar el tiempo que tarda por iteración y el tiempo total transcurrido.  \n",
    "        name = element.find_element(By.XPATH,'.//a[@class=\"product-item__name\"]').text  # Buscar producto en base al XPATH y mostrar el texto\n",
    "        price = element.find_element(By.XPATH,'.//span[@class=\"product-prices__value product-prices__value--best-price\"]').text # Buscar precio en base al XPATH y mostrar el texto\n",
    "        productos.append(name)    # Agregar a la lista productos\n",
    "        precios.append(price)  # Agregar a la lista precios\n"
   ]
  },
  {
   "cell_type": "code",
   "execution_count": 291,
   "id": "e6aa007d",
   "metadata": {},
   "outputs": [
    {
     "name": "stdout",
     "output_type": "stream",
     "text": [
      "\u001b[34mImprimiendo resultados.\u001b[0m\n"
     ]
    },
    {
     "data": {
      "text/html": [
       "<div>\n",
       "<style scoped>\n",
       "    .dataframe tbody tr th:only-of-type {\n",
       "        vertical-align: middle;\n",
       "    }\n",
       "\n",
       "    .dataframe tbody tr th {\n",
       "        vertical-align: top;\n",
       "    }\n",
       "\n",
       "    .dataframe thead th {\n",
       "        text-align: right;\n",
       "    }\n",
       "</style>\n",
       "<table border=\"1\" class=\"dataframe\">\n",
       "  <thead>\n",
       "    <tr style=\"text-align: right;\">\n",
       "      <th></th>\n",
       "      <th>Producto</th>\n",
       "      <th>Precio</th>\n",
       "    </tr>\n",
       "  </thead>\n",
       "  <tbody>\n",
       "    <tr>\n",
       "      <th>0</th>\n",
       "      <td>Chocolate de Leche Snickers 53g</td>\n",
       "      <td>S/. 4.00</td>\n",
       "    </tr>\n",
       "    <tr>\n",
       "      <th>1</th>\n",
       "      <td>Chocolate de Leche Toblerone 100g</td>\n",
       "      <td>S/. 12.50</td>\n",
       "    </tr>\n",
       "    <tr>\n",
       "      <th>2</th>\n",
       "      <td>Leche Condensada Nestlé Lata 393g</td>\n",
       "      <td>S/. 5.99</td>\n",
       "    </tr>\n",
       "    <tr>\n",
       "      <th>3</th>\n",
       "      <td>Leche Entera UHT Laive 900ml</td>\n",
       "      <td>S/. 3.99</td>\n",
       "    </tr>\n",
       "    <tr>\n",
       "      <th>4</th>\n",
       "      <td>Leche Light Botella 400 g</td>\n",
       "      <td>S/. 3.99</td>\n",
       "    </tr>\n",
       "    <tr>\n",
       "      <th>...</th>\n",
       "      <td>...</td>\n",
       "      <td>...</td>\n",
       "    </tr>\n",
       "    <tr>\n",
       "      <th>302</th>\n",
       "      <td>Bebida de Almendra Chocolate Cuisine &amp; Co Caja...</td>\n",
       "      <td>S/. 10.90</td>\n",
       "    </tr>\n",
       "    <tr>\n",
       "      <th>303</th>\n",
       "      <td>Ajonjolí Tostado Naturandes</td>\n",
       "      <td>S/10.20</td>\n",
       "    </tr>\n",
       "    <tr>\n",
       "      <th>304</th>\n",
       "      <td>Bebida de Almendra Original Cuisine &amp; Co Caja ...</td>\n",
       "      <td>S/. 10.90</td>\n",
       "    </tr>\n",
       "    <tr>\n",
       "      <th>305</th>\n",
       "      <td>Mezcla Láctea Pura Vida Pack de 6 unid Lata 39...</td>\n",
       "      <td>S/18.00</td>\n",
       "    </tr>\n",
       "    <tr>\n",
       "      <th>306</th>\n",
       "      <td>Mezcla Láctea Pura Vida Lata 395 gr</td>\n",
       "      <td>S/3.40</td>\n",
       "    </tr>\n",
       "  </tbody>\n",
       "</table>\n",
       "<p>307 rows × 2 columns</p>\n",
       "</div>"
      ],
      "text/plain": [
       "                                              Producto     Precio\n",
       "0                      Chocolate de Leche Snickers 53g   S/. 4.00\n",
       "1                    Chocolate de Leche Toblerone 100g  S/. 12.50\n",
       "2                    Leche Condensada Nestlé Lata 393g   S/. 5.99\n",
       "3                         Leche Entera UHT Laive 900ml   S/. 3.99\n",
       "4                            Leche Light Botella 400 g   S/. 3.99\n",
       "..                                                 ...        ...\n",
       "302  Bebida de Almendra Chocolate Cuisine & Co Caja...  S/. 10.90\n",
       "303                        Ajonjolí Tostado Naturandes    S/10.20\n",
       "304  Bebida de Almendra Original Cuisine & Co Caja ...  S/. 10.90\n",
       "305  Mezcla Láctea Pura Vida Pack de 6 unid Lata 39...    S/18.00\n",
       "306                Mezcla Láctea Pura Vida Lata 395 gr     S/3.40\n",
       "\n",
       "[307 rows x 2 columns]"
      ]
     },
     "execution_count": 291,
     "metadata": {},
     "output_type": "execute_result"
    }
   ],
   "source": [
    "#Exportacion de productos y precios a un archivo excel \n",
    "dic= {'Producto': productos , \"Precio\": precios}  # Crear diccionario con los values productos y precios (listas)\n",
    "df = pd.DataFrame(dic , columns= [\"Producto\", \"Precio\"] ) # Convertir a dataframe con columnas de etiquetas Producto y Precio\n",
    "df.to_excel('metro.xlsx', index=False,encoding='cp1252')  # Exportar a excel, sin indices, y el encoding cp1252\n",
    "\n",
    "# Lectura y muestra de resultados\n",
    "print(colored('Imprimiendo resultados.','blue'))  \n",
    "pd.read_excel('metro.xlsx')"
   ]
  },
  {
   "cell_type": "markdown",
   "id": "49997eca",
   "metadata": {},
   "source": [
    "# Programa para obtener los productos y precios de supermercados Tottus  (Usuario Christian)"
   ]
  },
  {
   "cell_type": "code",
   "execution_count": 304,
   "id": "8955261d",
   "metadata": {},
   "outputs": [],
   "source": [
    "path = ('C:/Users/jorge/Documents/TRABAJO FINAL/chromedriver.exe')\n",
    "urls='https://www.tottus.com.pe/'\n",
    "options = webdriver.ChromeOptions()\n",
    "options.add_argument('--incognito')\n",
    "s = Service(path)\n",
    "driver = webdriver.Chrome(service=s, options = options)\n",
    "driver.maximize_window()\n",
    "driver.get(urls)\n",
    "time.sleep(3)"
   ]
  },
  {
   "cell_type": "code",
   "execution_count": 305,
   "id": "d533ca15",
   "metadata": {},
   "outputs": [],
   "source": [
    "# Configurando click para búsqueda de productos\n",
    "driver.find_element(By.XPATH, '/html/body/div[1]/div[2]/div[2]/div[1]/div[1]/section/div[1]/div/input').click()\n",
    "time.sleep(1)"
   ]
  },
  {
   "cell_type": "code",
   "execution_count": 306,
   "id": "28036ee0",
   "metadata": {},
   "outputs": [],
   "source": [
    "# Ingresando producto \n",
    "driver.find_element(By.XPATH, '/html/body/div[1]/div[2]/div[2]/div[1]/div[1]/section/div[1]/div/input').send_keys('leche')\n",
    "time.sleep(1)"
   ]
  },
  {
   "cell_type": "code",
   "execution_count": 307,
   "id": "593ed941",
   "metadata": {},
   "outputs": [],
   "source": [
    "# Buscar producto mediante el click al icono de busqueda\n",
    "driver.find_element(By.XPATH, '/html/body/div[1]/div[2]/div[2]/div[1]/div[1]/section/div[1]/div[1]/button').click()\n",
    "time.sleep(1)"
   ]
  },
  {
   "cell_type": "code",
   "execution_count": 308,
   "id": "e544480b",
   "metadata": {},
   "outputs": [
    {
     "data": {
      "text/plain": [
       "8"
      ]
     },
     "execution_count": 308,
     "metadata": {},
     "output_type": "execute_result"
    }
   ],
   "source": [
    "pages=driver.find_elements(By.XPATH, './/ul[@class=\"Pagination link\"]')\n",
    "\n",
    "for i in pages:\n",
    "    ultima= i.find_element(By.XPATH, './/a[@aria-label=\"Page 8\"]').text\n",
    "    pagina = int(ultima)\n",
    "\n",
    "pagina        "
   ]
  },
  {
   "cell_type": "code",
   "execution_count": 297,
   "id": "f0050eaf",
   "metadata": {},
   "outputs": [
    {
     "name": "stderr",
     "output_type": "stream",
     "text": [
      "100%|██████████| 48/48 [00:02<00:00, 16.43it/s]\n",
      "100%|██████████| 48/48 [00:03<00:00, 15.50it/s]\n",
      "100%|██████████| 48/48 [00:03<00:00, 14.40it/s]\n",
      "100%|██████████| 48/48 [00:03<00:00, 15.93it/s]\n",
      "100%|██████████| 48/48 [00:02<00:00, 16.82it/s]\n",
      "100%|██████████| 48/48 [00:03<00:00, 15.62it/s]\n",
      "100%|██████████| 48/48 [00:03<00:00, 14.89it/s]\n",
      "100%|██████████| 8/8 [00:00<00:00, 16.50it/s]\n"
     ]
    }
   ],
   "source": [
    "#busqueda = input()\n",
    "list= []\n",
    "n=1\n",
    "while n <= pagina:\n",
    "    driver.get(f'https://www.tottus.com.pe/buscar?q=leche&page={n}')\n",
    "    time.sleep(5)\n",
    "    lista = driver.find_elements(By.XPATH,'//li[@class=\"product\"]')\n",
    "    productos =  []\n",
    "    precios = []\n",
    "    for element in tqdm(lista):\n",
    "        name = element.find_element(By.XPATH,'.//h2[@class=\"jsx-369422875 name title mini\"]').text\n",
    "        price = element.find_element(By.XPATH,'.//span[@class=\"jsx-4019956066 \"]').text\n",
    "        productos.append(name)\n",
    "        precios.append(price)\n",
    "\n",
    "    lista=list.append(lista)\n",
    "    n += 1"
   ]
  },
  {
   "cell_type": "code",
   "execution_count": 298,
   "id": "83142979",
   "metadata": {},
   "outputs": [
    {
     "data": {
      "text/plain": [
       "8"
      ]
     },
     "execution_count": 298,
     "metadata": {},
     "output_type": "execute_result"
    }
   ],
   "source": [
    "len(list)"
   ]
  },
  {
   "cell_type": "code",
   "execution_count": 300,
   "id": "a22d2434",
   "metadata": {},
   "outputs": [
    {
     "data": {
      "text/html": [
       "<div>\n",
       "<style scoped>\n",
       "    .dataframe tbody tr th:only-of-type {\n",
       "        vertical-align: middle;\n",
       "    }\n",
       "\n",
       "    .dataframe tbody tr th {\n",
       "        vertical-align: top;\n",
       "    }\n",
       "\n",
       "    .dataframe thead th {\n",
       "        text-align: right;\n",
       "    }\n",
       "</style>\n",
       "<table border=\"1\" class=\"dataframe\">\n",
       "  <thead>\n",
       "    <tr style=\"text-align: right;\">\n",
       "      <th></th>\n",
       "      <th>Producto</th>\n",
       "      <th>Precio</th>\n",
       "    </tr>\n",
       "  </thead>\n",
       "  <tbody>\n",
       "    <tr>\n",
       "      <th>0</th>\n",
       "      <td>TORTA TRES LECHES VAINILLA MEDIANA</td>\n",
       "      <td>s/ 59.9 UN</td>\n",
       "    </tr>\n",
       "    <tr>\n",
       "      <th>1</th>\n",
       "      <td>TORTA TRES LECHES LUCUMA MEDIANA</td>\n",
       "      <td>s/ 59.9 UN</td>\n",
       "    </tr>\n",
       "    <tr>\n",
       "      <th>2</th>\n",
       "      <td>TORTA TRES LECHES VAINILLA GRANDE</td>\n",
       "      <td>s/ 65.9 UN</td>\n",
       "    </tr>\n",
       "    <tr>\n",
       "      <th>3</th>\n",
       "      <td>TORTA TRES LECHES COCO MEDIANA</td>\n",
       "      <td>s/ 59.9 UN</td>\n",
       "    </tr>\n",
       "    <tr>\n",
       "      <th>4</th>\n",
       "      <td>CREMA DE LECHE PASTEURIZADA PIAMONTE 236 ML</td>\n",
       "      <td>s/ 6.5 UN</td>\n",
       "    </tr>\n",
       "    <tr>\n",
       "      <th>5</th>\n",
       "      <td>BATIDO NUTRICIONAL BENET VAINILLA 400 GR</td>\n",
       "      <td>s/ 47.9 UN</td>\n",
       "    </tr>\n",
       "    <tr>\n",
       "      <th>6</th>\n",
       "      <td>BATIDO NUTRICIONAL BENET VAINILLA 800 GR</td>\n",
       "      <td>s/ 89.9 UN</td>\n",
       "    </tr>\n",
       "    <tr>\n",
       "      <th>7</th>\n",
       "      <td>BATIDO NUTRICIONAL BENET ENERGÍA 200 GR</td>\n",
       "      <td>s/ 34.9 UN</td>\n",
       "    </tr>\n",
       "  </tbody>\n",
       "</table>\n",
       "</div>"
      ],
      "text/plain": [
       "                                      Producto      Precio\n",
       "0           TORTA TRES LECHES VAINILLA MEDIANA  s/ 59.9 UN\n",
       "1             TORTA TRES LECHES LUCUMA MEDIANA  s/ 59.9 UN\n",
       "2            TORTA TRES LECHES VAINILLA GRANDE  s/ 65.9 UN\n",
       "3               TORTA TRES LECHES COCO MEDIANA  s/ 59.9 UN\n",
       "4  CREMA DE LECHE PASTEURIZADA PIAMONTE 236 ML   s/ 6.5 UN\n",
       "5     BATIDO NUTRICIONAL BENET VAINILLA 400 GR  s/ 47.9 UN\n",
       "6     BATIDO NUTRICIONAL BENET VAINILLA 800 GR  s/ 89.9 UN\n",
       "7      BATIDO NUTRICIONAL BENET ENERGÍA 200 GR  s/ 34.9 UN"
      ]
     },
     "execution_count": 300,
     "metadata": {},
     "output_type": "execute_result"
    }
   ],
   "source": [
    "dic= {'Producto': names,\"Precio\": precios }\n",
    "df = pd.DataFrame(dic , columns= [\"Producto\",\"Precio\"] )\n",
    "df.to_excel('tottus.xlsx', index=False,encoding='cp1252')\n",
    "\n",
    "# Lectura\n",
    "pd.read_excel('tottus.xlsx')"
   ]
  },
  {
   "cell_type": "markdown",
   "id": "430491e3",
   "metadata": {},
   "source": [
    "# Programa para obtener los productos y precios de supermercados Tottus  (Usuario Brian)"
   ]
  },
  {
   "cell_type": "code",
   "execution_count": 325,
   "id": "ac94eef4",
   "metadata": {},
   "outputs": [
    {
     "name": "stdout",
     "output_type": "stream",
     "text": [
      "https://www.plazavea.com.pe/leche\n"
     ]
    }
   ],
   "source": [
    "url='https://www.plazavea.com.pe'\n",
    "def busqueda(search):\n",
    "    \"generar url\"\n",
    "    template = 'https://www.plazavea.com.pe/{}'\n",
    "    search = search.replace('','')\n",
    "    return template.format(search)\n",
    "url = busqueda('leche')\n",
    "print(url)"
   ]
  },
  {
   "cell_type": "code",
   "execution_count": 326,
   "id": "67d6f92a",
   "metadata": {},
   "outputs": [],
   "source": [
    "driver = webdriver.Chrome()\n",
    "driver.maximize_window()\n",
    "driver.get(url)\n",
    "soup = BeautifulSoup(driver.page_source,'html.parser')"
   ]
  },
  {
   "cell_type": "code",
   "execution_count": 327,
   "id": "d53bddc5",
   "metadata": {},
   "outputs": [],
   "source": [
    "def extraerprecio(item):\n",
    "    #precio\n",
    "    precio = item.find('div', 'Showcase__salePrice')\n",
    "    precio1 = precio.text.split()\n",
    "    nombre=item.find('a','Showcase__name').text\n",
    "    #descripcion\n",
    "    descripcion= (precio1, nombre)\n",
    "    return descripcion"
   ]
  },
  {
   "cell_type": "code",
   "execution_count": 328,
   "id": "f88bd79b",
   "metadata": {},
   "outputs": [],
   "source": [
    "records = []\n",
    "resultados= soup.find_all('div','Showcase__content')\n",
    "\n",
    "for item in resultados:\n",
    "    record = extraerprecio(item)\n",
    "    if record:\n",
    "        records.append(record)"
   ]
  },
  {
   "cell_type": "code",
   "execution_count": 329,
   "id": "2cad6a76",
   "metadata": {},
   "outputs": [],
   "source": [
    "def busqueda(busqueda):\n",
    "    \"generar url\"\n",
    "    template = 'https://www.plazavea.com.pe/{}'\n",
    "    busqueda = busqueda.replace('','')\n",
    "    url=template.format(search)\n",
    "    url += '?page={}'\n",
    "    return url "
   ]
  },
  {
   "cell_type": "code",
   "execution_count": 333,
   "id": "feeeb7d2",
   "metadata": {},
   "outputs": [],
   "source": [
    "def busqueda(search):\n",
    "    \"generar url\"\n",
    "    template = 'https://www.plazavea.com.pe/{}'\n",
    "    search = search.replace('','')\n",
    "    return template.format(search)\n",
    "\n",
    "def main(term):\n",
    "    driver = webdriver.Chrome()\n",
    "    driver.maximize_window()\n",
    "    record = []\n",
    "    url= busqueda(term)\n",
    "\n",
    "    for page in range(1,9):\n",
    "        time.sleep(2)\n",
    "        driver.get(url.format(page))\n",
    "        soup= BeautifulSoup(driver.page_source,'html.parser')\n",
    "        resultados= soup.find_all('div','Showcase__content')\n",
    "\n",
    "        for item in resultados:\n",
    "            record = extraerprecio(item)\n",
    "\n",
    "            if record:\n",
    "                records.append(record)               "
   ]
  },
  {
   "cell_type": "code",
   "execution_count": null,
   "id": "6f489838",
   "metadata": {},
   "outputs": [],
   "source": [
    "main('leche')"
   ]
  },
  {
   "cell_type": "code",
   "execution_count": null,
   "id": "07401ce0",
   "metadata": {},
   "outputs": [],
   "source": [
    "with open(\"plazavea.csv\", 'w', newline='', encoding='utf-8') as f:\n",
    "    writer = csv.writer(f)\n",
    "    writer.writerow(['precio','descripción'])\n",
    "    writer.writerows(records)\n",
    "import pandas as pd\n",
    "df = pd.read_csv('plazavea.csv')\n",
    "df"
   ]
  },
  {
   "cell_type": "code",
   "execution_count": null,
   "id": "750a6878",
   "metadata": {},
   "outputs": [],
   "source": []
  },
  {
   "cell_type": "code",
   "execution_count": null,
   "id": "7f175262",
   "metadata": {},
   "outputs": [],
   "source": []
  },
  {
   "cell_type": "code",
   "execution_count": null,
   "id": "dd6fd3e8",
   "metadata": {},
   "outputs": [],
   "source": []
  },
  {
   "cell_type": "code",
   "execution_count": null,
   "id": "a58475b9",
   "metadata": {},
   "outputs": [],
   "source": []
  },
  {
   "cell_type": "code",
   "execution_count": null,
   "id": "4c946ffe",
   "metadata": {},
   "outputs": [],
   "source": []
  },
  {
   "cell_type": "code",
   "execution_count": 448,
   "id": "9f1647a3",
   "metadata": {},
   "outputs": [],
   "source": [
    "path = ('C:/Users/jorge/Documents/TRABAJO FINAL/chromedriver.exe')\n",
    "urls='https://www.plazavea.com.pe'\n",
    "options = webdriver.ChromeOptions()\n",
    "options.add_argument('--incognito')\n",
    "s = Service(path)\n",
    "driver = webdriver.Chrome(service=s, options = options)\n",
    "driver.maximize_window()\n",
    "driver.get(urls)\n",
    "time.sleep(3)"
   ]
  },
  {
   "cell_type": "code",
   "execution_count": 449,
   "id": "fed6e760",
   "metadata": {},
   "outputs": [],
   "source": [
    "driver.find_element(By.XPATH, '/html/body/div[12]/div/div/div[2]/button[2]').click()"
   ]
  },
  {
   "cell_type": "code",
   "execution_count": 450,
   "id": "9f821564",
   "metadata": {},
   "outputs": [],
   "source": [
    "driver.find_element(By.XPATH, '/html/body/div[3]/header/div[2]/div/div[4]/section/div[2]/div/div/input').click()"
   ]
  },
  {
   "cell_type": "code",
   "execution_count": 451,
   "id": "3caa17e7",
   "metadata": {},
   "outputs": [],
   "source": [
    "driver.find_element(By.XPATH, '/html/body/div[3]/header/div[2]/div/div[4]/section/div[2]/div[2]/div[1]/input').send_keys(\"leche\" + Keys.ENTER)"
   ]
  },
  {
   "cell_type": "code",
   "execution_count": 452,
   "id": "7ca57af5",
   "metadata": {},
   "outputs": [
    {
     "data": {
      "text/plain": [
       "203"
      ]
     },
     "execution_count": 452,
     "metadata": {},
     "output_type": "execute_result"
    }
   ],
   "source": [
    "# Cantidad de productos\n",
    "page=driver.find_element(By.XPATH, '/html/body/div[4]/main/div/div[1]/div[2]/div[3]/div/div[1]/div/h2/span[2]').text\n",
    "int(page[1:4])"
   ]
  },
  {
   "cell_type": "code",
   "execution_count": 453,
   "id": "1aca1a13",
   "metadata": {},
   "outputs": [
    {
     "data": {
      "text/plain": [
       "49"
      ]
     },
     "execution_count": 453,
     "metadata": {},
     "output_type": "execute_result"
    }
   ],
   "source": [
    "tiempo = 5 + 1           # Seran 15 scrolls automaticos\n",
    "while True:               # Mientras esto sea verdad se realizará lo siguiente:\n",
    "    tiempo -= 1           # Cuenta regresiva, se resta 1 cada ciclo\n",
    "    driver.execute_script(\"window.scrollTo(0, document.body.scrollHeight)\") # Cada segundo se desplazará hasta la parte inferior de la página \n",
    "    time.sleep(3)      # Cada scroll automático tendra un timelap de 1 segundo\n",
    "    if scrolls < 0:     # Cuando llegue a cero segundos:\n",
    "        time.sleep(3)   # Le damos 3 segundos a que la pagina carge los contenidos hasta el ultimo scroll automatico\n",
    "        driver.execute_script(\"window.scrollBy(0,-500)\") # Un scroll up (rueda hacia arriba) para mostrar la ultima fila de productos\n",
    "        elementos = driver.find_elements(By.XPATH,'//div[@class=\"HA Showcase Showcase--food\"]') # Encontrar los productos de la pagina de acuerdo al XPATH\n",
    "        break           # Se cierra el ciclo\n",
    "len(elementos)        "
   ]
  },
  {
   "cell_type": "code",
   "execution_count": 454,
   "id": "faaaa55b",
   "metadata": {},
   "outputs": [
    {
     "name": "stderr",
     "output_type": "stream",
     "text": [
      "100%|██████████| 49/49 [00:03<00:00, 15.27it/s]\n"
     ]
    }
   ],
   "source": [
    "productos =  []  # lista vacia\n",
    "precios = []  # lista vacia\n",
    "for element in tqdm(elementos):  # tqdm:Contar iteraciones, indicar el tiempo que tarda por iteración y el tiempo total transcurrido.  \n",
    "        name = element.find_element(By.XPATH,'.//div[@class=\"Showcase__details__text\"]').text  # Buscar producto en base al XPATH y mostrar el texto\n",
    "        price = element.find_element(By.XPATH,'.//span[@class=\"price\"]').text # Buscar precio en base al XPATH y mostrar el texto\n",
    "        productos.append(name)    # Agregar a la lista productos\n",
    "        precios.append(price)  # Agregar a la lista precios"
   ]
  },
  {
   "cell_type": "code",
   "execution_count": 455,
   "id": "f1e5f602",
   "metadata": {},
   "outputs": [
    {
     "data": {
      "text/html": [
       "<div>\n",
       "<style scoped>\n",
       "    .dataframe tbody tr th:only-of-type {\n",
       "        vertical-align: middle;\n",
       "    }\n",
       "\n",
       "    .dataframe tbody tr th {\n",
       "        vertical-align: top;\n",
       "    }\n",
       "\n",
       "    .dataframe thead th {\n",
       "        text-align: right;\n",
       "    }\n",
       "</style>\n",
       "<table border=\"1\" class=\"dataframe\">\n",
       "  <thead>\n",
       "    <tr style=\"text-align: right;\">\n",
       "      <th></th>\n",
       "      <th>Producto</th>\n",
       "      <th>Precio</th>\n",
       "    </tr>\n",
       "  </thead>\n",
       "  <tbody>\n",
       "    <tr>\n",
       "      <th>0</th>\n",
       "      <td>Leche Evaporada GLORIA Light Lata 400g Paquete...</td>\n",
       "      <td>S/ 21.60 un</td>\n",
       "    </tr>\n",
       "    <tr>\n",
       "      <th>1</th>\n",
       "      <td>Leche Evaporada GLORIA sin Lactosa Lata 400g P...</td>\n",
       "      <td>S/ 22.80 un</td>\n",
       "    </tr>\n",
       "    <tr>\n",
       "      <th>2</th>\n",
       "      <td>Leche GLORIA Evaporada Entera Lata 400g Paquet...</td>\n",
       "      <td>S/ 22.90 un</td>\n",
       "    </tr>\n",
       "    <tr>\n",
       "      <th>3</th>\n",
       "      <td>Leche GLORIA Evaporada Niños Lata 400g Paquete...</td>\n",
       "      <td>S/ 23.40 un</td>\n",
       "    </tr>\n",
       "    <tr>\n",
       "      <th>4</th>\n",
       "      <td>Leche Sin Lactosa LAIVE Botella 400g Paquete 6...</td>\n",
       "      <td>S/ 21.90 un</td>\n",
       "    </tr>\n",
       "    <tr>\n",
       "      <th>5</th>\n",
       "      <td>Leche GLORIA UHT Entera Bolsa 900ml Paquete 3u...</td>\n",
       "      <td>S/ 11.70 un</td>\n",
       "    </tr>\n",
       "    <tr>\n",
       "      <th>6</th>\n",
       "      <td>Leche UHT GLORIA Light Pack 3un x 1L\\nPaquete 3un</td>\n",
       "      <td>S/ 15.70 un</td>\n",
       "    </tr>\n",
       "    <tr>\n",
       "      <th>7</th>\n",
       "      <td>Leche UHT LAIVE Sin Lactosa Caja 1L Paquete 4u...</td>\n",
       "      <td>S/ 20.30 un</td>\n",
       "    </tr>\n",
       "    <tr>\n",
       "      <th>8</th>\n",
       "      <td>Leche UHT GLORIA Entera Pack 3un x 1L\\nPaquete...</td>\n",
       "      <td>S/ 15.10 un</td>\n",
       "    </tr>\n",
       "    <tr>\n",
       "      <th>9</th>\n",
       "      <td>Leche UHT GLORIA sin Lactosa Pack 3un x 1L\\nPa...</td>\n",
       "      <td>S/ 16.20 un</td>\n",
       "    </tr>\n",
       "    <tr>\n",
       "      <th>10</th>\n",
       "      <td>Leche Chocolatada BONLÉ UHT Tetrapack 180ml Pa...</td>\n",
       "      <td>S/ 6.50 un</td>\n",
       "    </tr>\n",
       "    <tr>\n",
       "      <th>11</th>\n",
       "      <td>Pack Leche LAIVE Sin Lactosa Sabor a Chocolate...</td>\n",
       "      <td>S/ 8.49 un</td>\n",
       "    </tr>\n",
       "    <tr>\n",
       "      <th>12</th>\n",
       "      <td>Bebida de Leche UHT BONLÉ Chocolatada Bolsa 80...</td>\n",
       "      <td>S/ 2.50 un</td>\n",
       "    </tr>\n",
       "    <tr>\n",
       "      <th>13</th>\n",
       "      <td>Leche Concentrada LAIVE Sin Lactosa Botella 40...</td>\n",
       "      <td>S/ 3.80 un</td>\n",
       "    </tr>\n",
       "    <tr>\n",
       "      <th>14</th>\n",
       "      <td>Leche Evaporada Entera IDEAL Lata 395g Paquete...</td>\n",
       "      <td>S/ 20.20 un</td>\n",
       "    </tr>\n",
       "    <tr>\n",
       "      <th>15</th>\n",
       "      <td>Crema de Leche UHT GLORIA Caja 200ml\\nCaja 200ml</td>\n",
       "      <td>S/ 6.50 un</td>\n",
       "    </tr>\n",
       "    <tr>\n",
       "      <th>16</th>\n",
       "      <td>Leche Evaporada LAIVE Entera Botella 400g Paqu...</td>\n",
       "      <td>S/ 22.90 un</td>\n",
       "    </tr>\n",
       "    <tr>\n",
       "      <th>17</th>\n",
       "      <td>Leche UHT GLORIA Sin Lactosa Bolsa 900ml\\nBols...</td>\n",
       "      <td>S/ 4.49 un</td>\n",
       "    </tr>\n",
       "    <tr>\n",
       "      <th>18</th>\n",
       "      <td>Leche GLORIA Evaporada Entera Lata 400g\\nLata ...</td>\n",
       "      <td>S/ 3.99 un</td>\n",
       "    </tr>\n",
       "    <tr>\n",
       "      <th>19</th>\n",
       "      <td>Leche Concentrada LAIVE Bolsitarro 400g\\nPote ...</td>\n",
       "      <td>S/ 2.90 un</td>\n",
       "    </tr>\n",
       "    <tr>\n",
       "      <th>20</th>\n",
       "      <td>Leche GLORIA Evaporada Descremada Lata 400g Pa...</td>\n",
       "      <td>S/ 26.50 un</td>\n",
       "    </tr>\n",
       "    <tr>\n",
       "      <th>21</th>\n",
       "      <td>Leche Evaporada GLORIA Entera Paquete 6un Lata...</td>\n",
       "      <td>S/ 12.99 un</td>\n",
       "    </tr>\n",
       "    <tr>\n",
       "      <th>22</th>\n",
       "      <td>Leche UHT GLORIA Niños Pack 3un x 1L\\nPaquete 3un</td>\n",
       "      <td>S/ 16.60 un</td>\n",
       "    </tr>\n",
       "    <tr>\n",
       "      <th>23</th>\n",
       "      <td>Leche LAIVE Entera Paquete 4un Caja 1L\\nPaquet...</td>\n",
       "      <td>S/ 19.90 un</td>\n",
       "    </tr>\n",
       "    <tr>\n",
       "      <th>24</th>\n",
       "      <td>Leche UHT LAIVE Entera Light Bolsa 900ml\\nBols...</td>\n",
       "      <td>S/ 3.99 un</td>\n",
       "    </tr>\n",
       "    <tr>\n",
       "      <th>25</th>\n",
       "      <td>Leche LAIVE Semidescremada Paquete 4un Caja 1L...</td>\n",
       "      <td>S/ 19.90 un</td>\n",
       "    </tr>\n",
       "    <tr>\n",
       "      <th>26</th>\n",
       "      <td>Leche UHT GLORIA Slim Descremada Caja 1L Paque...</td>\n",
       "      <td>S/ 16 un</td>\n",
       "    </tr>\n",
       "    <tr>\n",
       "      <th>27</th>\n",
       "      <td>Leche Fresca DANLAC Botella 900ml\\nBotella 900ml</td>\n",
       "      <td>S/ 6.30 un</td>\n",
       "    </tr>\n",
       "    <tr>\n",
       "      <th>28</th>\n",
       "      <td>Leche UHT LAIVE SBELT Descremada Caja 1L Paque...</td>\n",
       "      <td>S/ 20.90 un</td>\n",
       "    </tr>\n",
       "    <tr>\n",
       "      <th>29</th>\n",
       "      <td>Leche UHT GLORIA Chocolate Caja 180ml Paquete ...</td>\n",
       "      <td>S/ 9.50 un</td>\n",
       "    </tr>\n",
       "    <tr>\n",
       "      <th>30</th>\n",
       "      <td>Modificador de Leche MILO Nutri Plus Caja 165m...</td>\n",
       "      <td>S/ 10.80 un</td>\n",
       "    </tr>\n",
       "    <tr>\n",
       "      <th>31</th>\n",
       "      <td>Leche GLORIA UHT Light Bolsa 900ml\\nBolsa 900ml</td>\n",
       "      <td>S/ 4.50 un</td>\n",
       "    </tr>\n",
       "    <tr>\n",
       "      <th>32</th>\n",
       "      <td>Leche Evaporada BELL'S Light Lata 410g\\nLata 410g</td>\n",
       "      <td>S/ 3.49 un</td>\n",
       "    </tr>\n",
       "    <tr>\n",
       "      <th>33</th>\n",
       "      <td>Leche UHT Light BELL'S Descremada Caja 1L\\nCaj...</td>\n",
       "      <td>S/ 3.20 un</td>\n",
       "    </tr>\n",
       "    <tr>\n",
       "      <th>34</th>\n",
       "      <td>Leche UHT Entera BELL'S Caja 1L\\nCaja 1L</td>\n",
       "      <td>S/ 3.20 un</td>\n",
       "    </tr>\n",
       "    <tr>\n",
       "      <th>35</th>\n",
       "      <td>Leche en Polvo GLORIA Lata 800g\\nLata 800g</td>\n",
       "      <td>S/ 34.29 un</td>\n",
       "    </tr>\n",
       "    <tr>\n",
       "      <th>36</th>\n",
       "      <td>Leche Evaporada GLORIA Light Lata 170g Paquete...</td>\n",
       "      <td>S/ 14.19 un</td>\n",
       "    </tr>\n",
       "    <tr>\n",
       "      <th>37</th>\n",
       "      <td>Leche UHT LAIVE Niños Caja 1L Paquete 4un\\nPaq...</td>\n",
       "      <td>S/ 21.50 un</td>\n",
       "    </tr>\n",
       "    <tr>\n",
       "      <th>38</th>\n",
       "      <td>Leche Fresca UHT GLORIA sin Lactosa Caja 1L\\nC...</td>\n",
       "      <td>S/ 5.60 un</td>\n",
       "    </tr>\n",
       "    <tr>\n",
       "      <th>39</th>\n",
       "      <td>Leche UHT LAIVE Sin Lactosa Caja 1L\\nCaja 1L</td>\n",
       "      <td>S/ 5.30 un</td>\n",
       "    </tr>\n",
       "    <tr>\n",
       "      <th>40</th>\n",
       "      <td>Leche UHT LAIVE Entera Bolsa 900ml\\nBolsa 900ml</td>\n",
       "      <td>S/ 3.99 un</td>\n",
       "    </tr>\n",
       "    <tr>\n",
       "      <th>41</th>\n",
       "      <td>Crema de leche GLORIA Repostería Bolsa 946ml\\n...</td>\n",
       "      <td>S/ 20.49 un</td>\n",
       "    </tr>\n",
       "    <tr>\n",
       "      <th>42</th>\n",
       "      <td>Leche UHT LAIVE Entera Sin Lactosa Bolsa 900ml...</td>\n",
       "      <td>S/ 4.50 un</td>\n",
       "    </tr>\n",
       "    <tr>\n",
       "      <th>43</th>\n",
       "      <td>Leche GLORIA UHT Chocolatada Caja 1L\\nCaja 1L</td>\n",
       "      <td>S/ 6 un</td>\n",
       "    </tr>\n",
       "    <tr>\n",
       "      <th>44</th>\n",
       "      <td>Leche LAIVE Light Botella 400g Paquete 6un\\nPa...</td>\n",
       "      <td>S/ 23.20 un</td>\n",
       "    </tr>\n",
       "    <tr>\n",
       "      <th>45</th>\n",
       "      <td>Leche Evaporada BELL'S Entera Lata 410g\\nLata ...</td>\n",
       "      <td>S/ 3.49 un</td>\n",
       "    </tr>\n",
       "    <tr>\n",
       "      <th>46</th>\n",
       "      <td>Leche GLORIA UHT Entera Bolsa 900ml\\nBolsa 900ml</td>\n",
       "      <td>S/ 4.50 un</td>\n",
       "    </tr>\n",
       "    <tr>\n",
       "      <th>47</th>\n",
       "      <td>Crema de Leche NESTLÉ Lata 300g\\nLata 300g</td>\n",
       "      <td>S/ 10.40 un</td>\n",
       "    </tr>\n",
       "    <tr>\n",
       "      <th>48</th>\n",
       "      <td>Leche Concentrada LAIVE Niños Botella 400g Paq...</td>\n",
       "      <td>S/ 23.90 un</td>\n",
       "    </tr>\n",
       "  </tbody>\n",
       "</table>\n",
       "</div>"
      ],
      "text/plain": [
       "                                             Producto       Precio\n",
       "0   Leche Evaporada GLORIA Light Lata 400g Paquete...  S/ 21.60 un\n",
       "1   Leche Evaporada GLORIA sin Lactosa Lata 400g P...  S/ 22.80 un\n",
       "2   Leche GLORIA Evaporada Entera Lata 400g Paquet...  S/ 22.90 un\n",
       "3   Leche GLORIA Evaporada Niños Lata 400g Paquete...  S/ 23.40 un\n",
       "4   Leche Sin Lactosa LAIVE Botella 400g Paquete 6...  S/ 21.90 un\n",
       "5   Leche GLORIA UHT Entera Bolsa 900ml Paquete 3u...  S/ 11.70 un\n",
       "6   Leche UHT GLORIA Light Pack 3un x 1L\\nPaquete 3un  S/ 15.70 un\n",
       "7   Leche UHT LAIVE Sin Lactosa Caja 1L Paquete 4u...  S/ 20.30 un\n",
       "8   Leche UHT GLORIA Entera Pack 3un x 1L\\nPaquete...  S/ 15.10 un\n",
       "9   Leche UHT GLORIA sin Lactosa Pack 3un x 1L\\nPa...  S/ 16.20 un\n",
       "10  Leche Chocolatada BONLÉ UHT Tetrapack 180ml Pa...   S/ 6.50 un\n",
       "11  Pack Leche LAIVE Sin Lactosa Sabor a Chocolate...   S/ 8.49 un\n",
       "12  Bebida de Leche UHT BONLÉ Chocolatada Bolsa 80...   S/ 2.50 un\n",
       "13  Leche Concentrada LAIVE Sin Lactosa Botella 40...   S/ 3.80 un\n",
       "14  Leche Evaporada Entera IDEAL Lata 395g Paquete...  S/ 20.20 un\n",
       "15   Crema de Leche UHT GLORIA Caja 200ml\\nCaja 200ml   S/ 6.50 un\n",
       "16  Leche Evaporada LAIVE Entera Botella 400g Paqu...  S/ 22.90 un\n",
       "17  Leche UHT GLORIA Sin Lactosa Bolsa 900ml\\nBols...   S/ 4.49 un\n",
       "18  Leche GLORIA Evaporada Entera Lata 400g\\nLata ...   S/ 3.99 un\n",
       "19  Leche Concentrada LAIVE Bolsitarro 400g\\nPote ...   S/ 2.90 un\n",
       "20  Leche GLORIA Evaporada Descremada Lata 400g Pa...  S/ 26.50 un\n",
       "21  Leche Evaporada GLORIA Entera Paquete 6un Lata...  S/ 12.99 un\n",
       "22  Leche UHT GLORIA Niños Pack 3un x 1L\\nPaquete 3un  S/ 16.60 un\n",
       "23  Leche LAIVE Entera Paquete 4un Caja 1L\\nPaquet...  S/ 19.90 un\n",
       "24  Leche UHT LAIVE Entera Light Bolsa 900ml\\nBols...   S/ 3.99 un\n",
       "25  Leche LAIVE Semidescremada Paquete 4un Caja 1L...  S/ 19.90 un\n",
       "26  Leche UHT GLORIA Slim Descremada Caja 1L Paque...     S/ 16 un\n",
       "27   Leche Fresca DANLAC Botella 900ml\\nBotella 900ml   S/ 6.30 un\n",
       "28  Leche UHT LAIVE SBELT Descremada Caja 1L Paque...  S/ 20.90 un\n",
       "29  Leche UHT GLORIA Chocolate Caja 180ml Paquete ...   S/ 9.50 un\n",
       "30  Modificador de Leche MILO Nutri Plus Caja 165m...  S/ 10.80 un\n",
       "31    Leche GLORIA UHT Light Bolsa 900ml\\nBolsa 900ml   S/ 4.50 un\n",
       "32  Leche Evaporada BELL'S Light Lata 410g\\nLata 410g   S/ 3.49 un\n",
       "33  Leche UHT Light BELL'S Descremada Caja 1L\\nCaj...   S/ 3.20 un\n",
       "34           Leche UHT Entera BELL'S Caja 1L\\nCaja 1L   S/ 3.20 un\n",
       "35         Leche en Polvo GLORIA Lata 800g\\nLata 800g  S/ 34.29 un\n",
       "36  Leche Evaporada GLORIA Light Lata 170g Paquete...  S/ 14.19 un\n",
       "37  Leche UHT LAIVE Niños Caja 1L Paquete 4un\\nPaq...  S/ 21.50 un\n",
       "38  Leche Fresca UHT GLORIA sin Lactosa Caja 1L\\nC...   S/ 5.60 un\n",
       "39       Leche UHT LAIVE Sin Lactosa Caja 1L\\nCaja 1L   S/ 5.30 un\n",
       "40    Leche UHT LAIVE Entera Bolsa 900ml\\nBolsa 900ml   S/ 3.99 un\n",
       "41  Crema de leche GLORIA Repostería Bolsa 946ml\\n...  S/ 20.49 un\n",
       "42  Leche UHT LAIVE Entera Sin Lactosa Bolsa 900ml...   S/ 4.50 un\n",
       "43      Leche GLORIA UHT Chocolatada Caja 1L\\nCaja 1L      S/ 6 un\n",
       "44  Leche LAIVE Light Botella 400g Paquete 6un\\nPa...  S/ 23.20 un\n",
       "45  Leche Evaporada BELL'S Entera Lata 410g\\nLata ...   S/ 3.49 un\n",
       "46   Leche GLORIA UHT Entera Bolsa 900ml\\nBolsa 900ml   S/ 4.50 un\n",
       "47         Crema de Leche NESTLÉ Lata 300g\\nLata 300g  S/ 10.40 un\n",
       "48  Leche Concentrada LAIVE Niños Botella 400g Paq...  S/ 23.90 un"
      ]
     },
     "execution_count": 455,
     "metadata": {},
     "output_type": "execute_result"
    }
   ],
   "source": [
    "dic= {'Producto': productos,\"Precio\": precios }\n",
    "df = pd.DataFrame(dic , columns= [\"Producto\",\"Precio\"] )\n",
    "df.to_excel('plazavea.xlsx', index=False,encoding='cp1252')\n",
    "\n",
    "# Lectura\n",
    "pd.read_excel('plazavea.xlsx')"
   ]
  },
  {
   "cell_type": "code",
   "execution_count": 392,
   "id": "edbcd874",
   "metadata": {},
   "outputs": [],
   "source": [
    "# Volver al inicio\n",
    "driver.find_element(By.XPATH, '/html/body/div[4]/div[1]/header/div[2]/div/div[2]/a').click()"
   ]
  },
  {
   "cell_type": "code",
   "execution_count": null,
   "id": "6b416e37",
   "metadata": {},
   "outputs": [],
   "source": []
  },
  {
   "cell_type": "code",
   "execution_count": null,
   "id": "13c47af2",
   "metadata": {},
   "outputs": [],
   "source": []
  },
  {
   "cell_type": "markdown",
   "id": "75412473",
   "metadata": {},
   "source": [
    "# Envío de correo automático (FASE de prueba)"
   ]
  },
  {
   "cell_type": "code",
   "execution_count": 204,
   "id": "010fcc45",
   "metadata": {},
   "outputs": [],
   "source": [
    "import smtplib  # Importar la librería\n",
    "\n",
    "de_email =\"okoyekennethoptimizer@gmail.com\"   # Correo de envio (emisor)\n",
    "contraseña = \"nmmrjdphptwfgjgb\"               # contraseña del emisor\n",
    "para_email = \"20200339@LAMOLINA.EDU.PE\"       # Email de destino\n",
    "asunto = \"TRABAJO FINAL LP2\"                  # Asunto de llegada\n",
    "text =\"\"\"                                    \n",
    "Hola estimada profesora, le enviamos las comparaciones de los productos.\n",
    "Codigo de ntegrantes: \n",
    "\"\"\"                                           # Contenido del mensaje\n",
    "\n",
    "mensaje = f'Subject: {asunto}\\n\\n{text}\\n\\n'  # Formato de llegada del mensaje\n",
    "connection = smtplib.SMTP(\"smtp.gmail.com\", port= 587) # Conexión al dominio gmail.com con puerto = 587\n",
    "connection.starttls()             # Empezar  conexión            \n",
    "connection.login(user=de_email, password=contraseña) # Logeando con correo y contraseña\n",
    "connection.sendmail(from_addr=de_email, to_addrs=para_email, msg= mensaje) # Enviar email a destinatario\n",
    "connection.close()                # Cerrar conexión    "
   ]
  },
  {
   "cell_type": "code",
   "execution_count": null,
   "id": "70578db8",
   "metadata": {},
   "outputs": [],
   "source": []
  },
  {
   "cell_type": "code",
   "execution_count": null,
   "id": "2110eca8",
   "metadata": {},
   "outputs": [],
   "source": []
  },
  {
   "cell_type": "code",
   "execution_count": null,
   "id": "f80a51f7",
   "metadata": {},
   "outputs": [],
   "source": []
  },
  {
   "cell_type": "code",
   "execution_count": null,
   "id": "a4ef8101",
   "metadata": {},
   "outputs": [],
   "source": []
  }
 ],
 "metadata": {
  "kernelspec": {
   "display_name": "Python 3 (ipykernelGG)",
   "language": "python",
   "name": "python3"
  },
  "language_info": {
   "codemirror_mode": {
    "name": "ipython",
    "version": 3
   },
   "file_extension": ".py",
   "mimetype": "text/x-python",
   "name": "python",
   "nbconvert_exporter": "python",
   "pygments_lexer": "ipython3",
   "version": "3.9.12"
  },
  "vscode": {
   "interpreter": {
    "hash": "9412b45e6a57aa9914730508726d49801d3b2c579f461e1fb13c705887a7b1f6"
   }
  }
 },
 "nbformat": 4,
 "nbformat_minor": 5
}
