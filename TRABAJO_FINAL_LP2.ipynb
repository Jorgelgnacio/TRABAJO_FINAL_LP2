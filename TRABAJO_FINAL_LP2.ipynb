{
 "cells": [
  {
   "cell_type": "markdown",
   "id": "66b46d41",
   "metadata": {},
   "source": [
    "# COMPARACIÓN AUTOMATIZADA DE PRECIOS DE PRODUCTOS DE PRIMERA NECESIDAD EN LOS 3 SUPERMERCADOS MÁS POPULARES: METRO, PLAZA VEA, TOTTUS."
   ]
  },
  {
   "cell_type": "markdown",
   "id": "7775cc80",
   "metadata": {},
   "source": [
    "### DESCRIPCIÓN DEL CASO\n",
    "\n",
    "Se quiere automatizar la comparación de precios de productos básicos de la canasta familiar\n",
    "(arroz, azúcar, aceite, leche, etc) de tres supermercados que ofrecen sus productos a través de\n",
    "su propio portal web. Estos supermercados son: Metro, Plaza Vea y Tottus.\n",
    "Por lo que se pide escribir un programa en Python utilizando Jupyter notebook que recopile los\n",
    "precios de un producto de la canasta básica familiar de 3 Supermercados anteriormente\n",
    "mencionados y reporte todos sus artículos relacionados con la palabra clave ingresada en la\n",
    "búsqueda, para que posteriormente pueda comparar los precios en los distintos\n",
    "Supermercados de los productos exactamente iguales. Además, que se envíe\n",
    "automáticamente al correo del usuario-consultor un reporte de precio más alto, precio más\n",
    "bajo, productos en común comparando los precios entre los supermercados coincidentes."
   ]
  },
  {
   "cell_type": "markdown",
   "id": "0b2bd01c",
   "metadata": {},
   "source": [
    "# Importar librerías\n"
   ]
  },
  {
   "cell_type": "code",
   "execution_count": 121,
   "id": "b53fd5c0",
   "metadata": {},
   "outputs": [],
   "source": [
    "import pandas as pd\n",
    "import time\n",
    "from selenium import webdriver\n",
    "from selenium.webdriver.chrome.service import Service\n",
    "from selenium.webdriver.common.by import By\n",
    "from selenium.webdriver.common.keys import Keys\n",
    "from selenium.webdriver.support import expected_conditions as EC\n",
    "from selenium.webdriver.support.ui import WebDriverWait\n",
    "from pymongo import MongoClient\n",
    "from tqdm import tqdm\n",
    "from termcolor import colored\n",
    "import csv\n",
    "from bs4 import BeautifulSoup\n",
    "from selenium import webdriver\n",
    "import time\n",
    "#jupyter notebook --NotebookApp.iopub_data_rate_limit=1.0e10"
   ]
  },
  {
   "cell_type": "markdown",
   "id": "bce32bc8",
   "metadata": {},
   "source": [
    "# Documentación de la nueva actualización de Selenium\n"
   ]
  },
  {
   "cell_type": "code",
   "execution_count": 122,
   "id": "7dc03645",
   "metadata": {},
   "outputs": [],
   "source": [
    "ID = \"id\"\n",
    "NAME = \"name\"\n",
    "XPATH = \"xpath\"\n",
    "LINK_TEXT = \"link text\"\n",
    "PARTIAL_LINK_TEXT = \"partial link text\"\n",
    "TAG_NAME = \"tag name\"\n",
    "CLASS_NAME = \"class name\"\n",
    "CSS_SELECTOR = \"css selector\"\n",
    "\n",
    "# find_element(By.ID, \"id\")\n",
    "# find_element(By.NAME, \"name\")\n",
    "# find_element(By.XPATH, \"xpath\")\n",
    "# find_element(By.LINK_TEXT, \"link text\")\n",
    "# find_element(By.PARTIAL_LINK_TEXT, \"partial link text\")\n",
    "# find_element(By.TAG_NAME, \"tag name\")\n",
    "# find_element(By.CLASS_NAME, \"class name\")\n",
    "# find_element(By.CSS_SELECTOR, \"css selector\")"
   ]
  },
  {
   "cell_type": "markdown",
   "id": "8bc482f9",
   "metadata": {},
   "source": [
    "# Programa para obtener los productos y precios de supermercados Metro (Usuario Jorge)"
   ]
  },
  {
   "cell_type": "code",
   "execution_count": 124,
   "id": "86c77e7d",
   "metadata": {},
   "outputs": [],
   "source": [
    "path = ('C:/Users/jorge/Documents/TRABAJO FINAL/msedgedriver.exe')  # Dirección del ejecutable chromedriver.exe\n",
    "urls='https://www.metro.pe'          # URL de la pagina de Metro                   \n",
    "options = webdriver.EdgeOptions()   \n",
    "options.add_argument('--incognito')  # Opcion de abrir ventana de Edge en modo incognito\n",
    "s = Service(path)                       \n",
    "driver = webdriver.Edge(service=s, options = options)\n",
    "driver.maximize_window()\n",
    "driver.get(urls)\n",
    "\n",
    "time.sleep(3) # lapso de 3 segundo para que la pagina cargue los contenidos"
   ]
  },
  {
   "cell_type": "code",
   "execution_count": 126,
   "id": "ce53fba2",
   "metadata": {},
   "outputs": [],
   "source": [
    "# Cancelar notificaciones, ventana emergente \n",
    "driver.find_element(By.XPATH, '/html/body/div[47]/div/div/div[2]/button[2]').click()\n",
    "time.sleep(1)"
   ]
  },
  {
   "cell_type": "code",
   "execution_count": 127,
   "id": "38058503",
   "metadata": {},
   "outputs": [],
   "source": [
    "# Hacer clic en \"cerrar\", pagina emergente que sale en inicio\n",
    "driver.find_element(By.XPATH, '/html/body/div[46]/div/div[3]/button[1]').click()\n",
    "time.sleep(1)"
   ]
  },
  {
   "cell_type": "code",
   "execution_count": 128,
   "id": "69a56333",
   "metadata": {},
   "outputs": [],
   "source": [
    "# Hacer clic en la barra de búsqueda\n",
    "driver.find_element(By.XPATH, '/html/body/header[1]/div/div[2]/div[2]/div[1]/div[1]/input').click()\n",
    "time.sleep(1)"
   ]
  },
  {
   "cell_type": "code",
   "execution_count": 129,
   "id": "ea0a4c0d",
   "metadata": {},
   "outputs": [
    {
     "name": "stdout",
     "output_type": "stream",
     "text": [
      "azucar\n"
     ]
    }
   ],
   "source": [
    "busqueda=str(input())\n",
    "# Ingresar el producto en la barra de busqueda\n",
    "driver.find_element(By.XPATH, '/html/body/header[1]/div/div[2]/div[2]/div[1]/div[1]/input').send_keys(busqueda)\n",
    "time.sleep(1)"
   ]
  },
  {
   "cell_type": "code",
   "execution_count": 130,
   "id": "14c6e53e",
   "metadata": {},
   "outputs": [],
   "source": [
    "# Dar clic en ver todos los resultados.\n",
    "driver.find_element(By.XPATH, '/html/body/header[1]/div/div[2]/div[2]/div[1]/div[2]/div[2]/a/span').click()\n",
    "time.sleep(1)"
   ]
  },
  {
   "cell_type": "code",
   "execution_count": 131,
   "id": "cc69b9a7",
   "metadata": {},
   "outputs": [
    {
     "data": {
      "text/plain": [
       "164"
      ]
     },
     "execution_count": 131,
     "metadata": {},
     "output_type": "execute_result"
    }
   ],
   "source": [
    "# Cantidad de productos\n",
    "page=driver.find_element(By.XPATH, '/html/body/div[27]/div/div[2]/div[1]/div[1]/span[2]').text\n",
    "int(page[:3])"
   ]
  },
  {
   "cell_type": "code",
   "execution_count": 132,
   "id": "f428fa41",
   "metadata": {},
   "outputs": [
    {
     "name": "stdout",
     "output_type": "stream",
     "text": [
      "\u001b[31mProductos extraidos:\u001b[0m\n",
      "164\n",
      "\u001b[33m\n",
      " Se llegó a extraer todos los productos?.\u001b[0m\n",
      "True\n"
     ]
    }
   ],
   "source": [
    "# Automatización de scrolls (se correra las veces que sea necesario)\n",
    "scrolls = 15 + 1           # Seran 15 scrolls automaticos\n",
    "while True:               # Mientras esto sea verdad se realizará lo siguiente:\n",
    "    scrolls -= 1           # Cuenta regresiva, se resta 1 cada ciclo\n",
    "    driver.execute_script(\"window.scrollTo(0, document.body.scrollHeight)\") # Cada segundo se desplazará hasta la parte inferior de la página \n",
    "    time.sleep(1)      # Cada scroll automático tendra un timelap de 1 segundo\n",
    "    if scrolls < 0:     # Cuando llegue a cero segundos:\n",
    "        time.sleep(3)   # Le damos 3 segundos a que la pagina carge los contenidos hasta el ultimo scroll automatico\n",
    "        driver.execute_script(\"window.scrollBy(0,-310)\") # Un scroll up (rueda hacia arriba) para mostrar la ultima fila de productos\n",
    "        elements = driver.find_elements(By.XPATH,'//li[@layout=\"19ccd66b-b568-43cb-a106-b52f9796f5cd\"]') # Encontrar los productos de la pagina de acuerdo al XPATH\n",
    "        break           # Se cierra el ciclo\n",
    "\n",
    "        \n",
    "print(colored('Productos extraidos:','red'))  \n",
    "print(len(elements))        # Longitud de los elementos (productos) encontrados hasta coindicir con el total de productos\n",
    "\n",
    "print(colored('\\n Se llegó a extraer todos los productos?.','yellow'))  \n",
    "print(len(elements) == int(page[:3])) # Comparación "
   ]
  },
  {
   "cell_type": "code",
   "execution_count": 133,
   "id": "129576c7",
   "metadata": {},
   "outputs": [],
   "source": [
    "# Vista a todos los elementos a scrapear, desde el primero hasta el ultimo en ser extradio\n",
    "n = 1\n",
    "while n < len(elements):  # Ciclo de acuerdo  a la cantidad de elementos extraidos\n",
    "    listing = driver.find_element(By.XPATH, f'/html/body/div[27]/div/div[2]/div[4]/div[2]/div[2]/div[2]/div/ul/li[{n}]') \n",
    "    driver.execute_script(\"arguments[0].scrollIntoView(true);\", listing)  # Se ira a la parte inferior hasta la ultima fila de productos\n",
    "    n += 1\n",
    "    "
   ]
  },
  {
   "cell_type": "code",
   "execution_count": 134,
   "id": "344b6974",
   "metadata": {},
   "outputs": [
    {
     "name": "stderr",
     "output_type": "stream",
     "text": [
      "100%|██████████| 164/164 [00:15<00:00, 10.58it/s]\n"
     ]
    }
   ],
   "source": [
    "# Almacenar productos y precios \n",
    "productos =  []  # lista vacia\n",
    "precios = []     # lista vacia\n",
    "for element in tqdm(elements):  # tqdm:Contar iteraciones, indicar el tiempo que tarda por iteración y el tiempo total transcurrido.  \n",
    "        name = element.find_element(By.XPATH,'.//a[@class=\"product-item__name\"]').text  # Buscar producto en base al XPATH y mostrar el texto\n",
    "        price = element.find_element(By.XPATH,'.//span[@class=\"product-prices__value product-prices__value--best-price\"]').text # Buscar precio en base al XPATH y mostrar el texto\n",
    "        productos.append(name)    # Agregar a la lista productos\n",
    "        precios.append(price)  # Agregar a la lista precios\n"
   ]
  },
  {
   "cell_type": "code",
   "execution_count": 136,
   "id": "e6aa007d",
   "metadata": {},
   "outputs": [
    {
     "name": "stdout",
     "output_type": "stream",
     "text": [
      "\u001b[34mImprimiendo resultados.\u001b[0m\n"
     ]
    },
    {
     "data": {
      "text/html": [
       "<div>\n",
       "<style scoped>\n",
       "    .dataframe tbody tr th:only-of-type {\n",
       "        vertical-align: middle;\n",
       "    }\n",
       "\n",
       "    .dataframe tbody tr th {\n",
       "        vertical-align: top;\n",
       "    }\n",
       "\n",
       "    .dataframe thead th {\n",
       "        text-align: right;\n",
       "    }\n",
       "</style>\n",
       "<table border=\"1\" class=\"dataframe\">\n",
       "  <thead>\n",
       "    <tr style=\"text-align: right;\">\n",
       "      <th></th>\n",
       "      <th>Producto</th>\n",
       "      <th>Precio</th>\n",
       "    </tr>\n",
       "  </thead>\n",
       "  <tbody>\n",
       "    <tr>\n",
       "      <th>0</th>\n",
       "      <td>Azúcar Rubia Paramonga 1kg</td>\n",
       "      <td>S/4.95</td>\n",
       "    </tr>\n",
       "    <tr>\n",
       "      <th>1</th>\n",
       "      <td>Azúcar Morena Light Incauca 850g</td>\n",
       "      <td>S/15.85</td>\n",
       "    </tr>\n",
       "    <tr>\n",
       "      <th>2</th>\n",
       "      <td>Azúcar Blanca Light Incauca 850g</td>\n",
       "      <td>S/15.85</td>\n",
       "    </tr>\n",
       "    <tr>\n",
       "      <th>3</th>\n",
       "      <td>Azúcar Rubia Costeño 1 kg</td>\n",
       "      <td>S/5.90</td>\n",
       "    </tr>\n",
       "    <tr>\n",
       "      <th>4</th>\n",
       "      <td>Azúcar Impalpable Universal 200 g</td>\n",
       "      <td>S/3.10</td>\n",
       "    </tr>\n",
       "    <tr>\n",
       "      <th>...</th>\n",
       "      <td>...</td>\n",
       "      <td>...</td>\n",
       "    </tr>\n",
       "    <tr>\n",
       "      <th>159</th>\n",
       "      <td>Endulzante en Polvo Stevia Cuisine &amp; Co 50g</td>\n",
       "      <td>S/18.90</td>\n",
       "    </tr>\n",
       "    <tr>\n",
       "      <th>160</th>\n",
       "      <td>Endulzante en Polvo Stevia Cuisine &amp; Co 50un</td>\n",
       "      <td>S/12.20</td>\n",
       "    </tr>\n",
       "    <tr>\n",
       "      <th>161</th>\n",
       "      <td>Infusión Orgánica Diet Sunka Caja 21 unid</td>\n",
       "      <td>S/6.50</td>\n",
       "    </tr>\n",
       "    <tr>\n",
       "      <th>162</th>\n",
       "      <td>Endulzante En Polvo Vida Stevia 180 g</td>\n",
       "      <td>S/47.69</td>\n",
       "    </tr>\n",
       "    <tr>\n",
       "      <th>163</th>\n",
       "      <td>Stevia Splenda 160 Sobres</td>\n",
       "      <td>S/74.59</td>\n",
       "    </tr>\n",
       "  </tbody>\n",
       "</table>\n",
       "<p>164 rows × 2 columns</p>\n",
       "</div>"
      ],
      "text/plain": [
       "                                         Producto   Precio\n",
       "0                      Azúcar Rubia Paramonga 1kg   S/4.95\n",
       "1                Azúcar Morena Light Incauca 850g  S/15.85\n",
       "2                Azúcar Blanca Light Incauca 850g  S/15.85\n",
       "3                       Azúcar Rubia Costeño 1 kg   S/5.90\n",
       "4               Azúcar Impalpable Universal 200 g   S/3.10\n",
       "..                                            ...      ...\n",
       "159   Endulzante en Polvo Stevia Cuisine & Co 50g  S/18.90\n",
       "160  Endulzante en Polvo Stevia Cuisine & Co 50un  S/12.20\n",
       "161     Infusión Orgánica Diet Sunka Caja 21 unid   S/6.50\n",
       "162         Endulzante En Polvo Vida Stevia 180 g  S/47.69\n",
       "163                     Stevia Splenda 160 Sobres  S/74.59\n",
       "\n",
       "[164 rows x 2 columns]"
      ]
     },
     "execution_count": 136,
     "metadata": {},
     "output_type": "execute_result"
    }
   ],
   "source": [
    "#Exportacion de productos y precios a un archivo excel \n",
    "dic= {'Producto': productos , \"Precio\": precios}  # Crear diccionario con los values productos y precios (listas)\n",
    "df = pd.DataFrame(dic , columns= [\"Producto\", \"Precio\"] ) # Convertir a dataframe con columnas de etiquetas Producto y Precio\n",
    "df.to_excel('metro.xlsx', index=False,encoding='cp1252')  # Exportar a excel, sin indices, y el encoding cp1252\n",
    "\n",
    "# Lectura y muestra de resultados\n",
    "print(colored('Imprimiendo resultados.','blue'))  \n",
    "pd.read_excel('metro.xlsx')"
   ]
  },
  {
   "cell_type": "code",
   "execution_count": 137,
   "id": "76f7436d",
   "metadata": {},
   "outputs": [],
   "source": [
    "driver.close()  # Cerrar chromedriver"
   ]
  },
  {
   "cell_type": "markdown",
   "id": "49997eca",
   "metadata": {},
   "source": [
    "# Programa para obtener los productos y precios de supermercados Tottus  (Usuario Christian)"
   ]
  },
  {
   "cell_type": "code",
   "execution_count": 141,
   "id": "8955261d",
   "metadata": {},
   "outputs": [],
   "source": [
    "path = (\"C:/Users/jorge/Documents/TRABAJO FINAL/msedgedriver.exe\")\n",
    "urls='https://www.tottus.com.pe/'\n",
    "options = webdriver.EdgeOptions()\n",
    "options.add_argument('--incognito')\n",
    "s = Service(path)\n",
    "driver = webdriver.Edge(service=s, options = options)\n",
    "driver.maximize_window()\n",
    "driver.get(urls)\n",
    "time.sleep(3)"
   ]
  },
  {
   "cell_type": "code",
   "execution_count": 142,
   "id": "c4551226",
   "metadata": {},
   "outputs": [],
   "source": [
    "#Al iniciar y entrar a la pagina de tottus nos salta un anuncio donde tottus nos quiere informar sobre sus mejores ofertas,\n",
    "#con este codigo automatizamos dando click en cancelar. \n",
    "WebDriverWait(driver, 5)\\\n",
    "    .until(EC.element_to_be_clickable((By.CSS_SELECTOR,\n",
    "                                      'button.align-right secondary slidedown-button'.replace(' ', '.'))))\\\n",
    "    .click()"
   ]
  },
  {
   "cell_type": "code",
   "execution_count": 143,
   "id": "d533ca15",
   "metadata": {},
   "outputs": [],
   "source": [
    "# Configurando click para búsqueda de productos\n",
    "driver.find_element(By.XPATH, '/html/body/div[1]/div[2]/div[2]/div[1]/div[1]/section/div[1]/div/input').click()\n",
    "time.sleep(1)"
   ]
  },
  {
   "cell_type": "code",
   "execution_count": 144,
   "id": "28036ee0",
   "metadata": {},
   "outputs": [
    {
     "name": "stdout",
     "output_type": "stream",
     "text": [
      "azucar\n"
     ]
    }
   ],
   "source": [
    "# Ingresando producto \n",
    "busqueda=str(input())\n",
    "driver.find_element(By.XPATH, '/html/body/div[1]/div[2]/div[2]/div[1]/div[1]/section/div[1]/div/input').send_keys(busqueda)\n",
    "time.sleep(1)"
   ]
  },
  {
   "cell_type": "code",
   "execution_count": 146,
   "id": "593ed941",
   "metadata": {},
   "outputs": [],
   "source": [
    "# Buscar producto mediante el click al icono de busqueda\n",
    "driver.find_element(By.XPATH, '/html/body/div[1]/div[2]/div[2]/div[1]/div[1]/section/div[1]/div[1]/button').click()\n",
    "time.sleep(1)"
   ]
  },
  {
   "cell_type": "code",
   "execution_count": 147,
   "id": "e544480b",
   "metadata": {},
   "outputs": [
    {
     "name": "stdout",
     "output_type": "stream",
     "text": [
      "4\n"
     ]
    }
   ],
   "source": [
    "#Funcion para obtener el número de paginas\n",
    "WebDriverWait(driver, 5)\\\n",
    "    .until(EC.element_to_be_clickable((By.XPATH,\n",
    "                                      '/html/body/div[1]/section/div[1]/section/div[2]/div[2]/ul[1]')))\n",
    "\n",
    "\n",
    "pag = driver.find_element(\"xpath\",'/html/body/div[1]/section/div[1]/section/div[1]/div[2]/ul/li[5]')\n",
    "pag=pag.text\n",
    "def n_pag(pag):\n",
    "    if pag==\"Siguiente\":\n",
    "        pag = driver.find_element(\"xpath\",'/html/body/div[1]/section/div[1]/section/div[1]/div[2]/ul/li[4]')\n",
    "        pag=pag.text\n",
    "        print(pag)\n",
    "    else:\n",
    "        if int(pag)>3:\n",
    "            pag = driver.find_element(\"xpath\",'/html/body/div[1]/section/div[1]/section/div[1]/div[2]/ul/li[5]')\n",
    "            pag=pag.text\n",
    "            print(pag)\n",
    "        else:\n",
    "            if pag==3:\n",
    "                pag = driver.find_element(\"xpath\",'/html/body/div[1]/section/div[1]/section/div[1]/div[2]/ul/li[4]')\n",
    "                pag=pag.text\n",
    "                print(pag.text)\n",
    "            else:\n",
    "                if pag==2:\n",
    "                    pag= driver.find_element(\"xpath\",'/html/body/div[1]/section/div[1]/section/div[1]/div[2]/ul/li[3]')\n",
    "                    pag=pag.text\n",
    "                    print(pag.text)\n",
    "                else:\n",
    "                    pag= driver.find_element(\"xpath\",'/html/body/div[1]/section/div[1]/section/div[1]/div[2]/ul/li[2]')\n",
    "                    pag=pag.text\n",
    "                    print(pag.text)\n",
    "# Aca se obtiene el numero de paginas de la busqueda realizada\n",
    "n_pag(pag)"
   ]
  },
  {
   "cell_type": "code",
   "execution_count": 148,
   "id": "f0050eaf",
   "metadata": {},
   "outputs": [
    {
     "name": "stdout",
     "output_type": "stream",
     "text": [
      "azucar\n"
     ]
    },
    {
     "name": "stderr",
     "output_type": "stream",
     "text": [
      "100%|██████████| 48/48 [00:02<00:00, 17.38it/s]\n",
      "100%|██████████| 48/48 [00:02<00:00, 16.50it/s]\n",
      "100%|██████████| 48/48 [00:02<00:00, 16.77it/s]\n",
      "100%|██████████| 40/40 [00:02<00:00, 15.78it/s]\n"
     ]
    }
   ],
   "source": [
    "busqueda = input()\n",
    "list= []\n",
    "productos = []\n",
    "precios =[]\n",
    "n=1\n",
    "while n <= int(pag):\n",
    "    driver.get(f'https://www.tottus.com.pe/buscar?q={busqueda}&page={n}')\n",
    "    time.sleep(5)\n",
    "    lista = driver.find_elements(By.XPATH,'//li[@class=\"product\"]')\n",
    "    for element in tqdm(lista):\n",
    "        name = element.find_element(By.XPATH,'.//h2[@class=\"jsx-369422875 name title mini\"]').text\n",
    "        price = element.find_element(By.XPATH,'.//span[@class=\"jsx-4019956066 \"]').text\n",
    "        productos.append(name)\n",
    "        precios.append(price)\n",
    "\n",
    "    lista=list.append(lista)\n",
    "    n += 1"
   ]
  },
  {
   "cell_type": "code",
   "execution_count": 149,
   "id": "83142979",
   "metadata": {},
   "outputs": [
    {
     "data": {
      "text/plain": [
       "4"
      ]
     },
     "execution_count": 149,
     "metadata": {},
     "output_type": "execute_result"
    }
   ],
   "source": [
    "len(list)"
   ]
  },
  {
   "cell_type": "code",
   "execution_count": 150,
   "id": "a22d2434",
   "metadata": {},
   "outputs": [
    {
     "data": {
      "text/html": [
       "<div>\n",
       "<style scoped>\n",
       "    .dataframe tbody tr th:only-of-type {\n",
       "        vertical-align: middle;\n",
       "    }\n",
       "\n",
       "    .dataframe tbody tr th {\n",
       "        vertical-align: top;\n",
       "    }\n",
       "\n",
       "    .dataframe thead th {\n",
       "        text-align: right;\n",
       "    }\n",
       "</style>\n",
       "<table border=\"1\" class=\"dataframe\">\n",
       "  <thead>\n",
       "    <tr style=\"text-align: right;\">\n",
       "      <th></th>\n",
       "      <th>Producto</th>\n",
       "      <th>Precio</th>\n",
       "    </tr>\n",
       "  </thead>\n",
       "  <tbody>\n",
       "    <tr>\n",
       "      <th>0</th>\n",
       "      <td>AZÚCAR RUBIA TOTTUS 5 KG</td>\n",
       "      <td>s/ 19.9 UN</td>\n",
       "    </tr>\n",
       "    <tr>\n",
       "      <th>1</th>\n",
       "      <td>AZÚCAR RUBIA DULFINA 5 KG</td>\n",
       "      <td>s/ 22.9 UN</td>\n",
       "    </tr>\n",
       "    <tr>\n",
       "      <th>2</th>\n",
       "      <td>AZÚCAR RUBIA TOTTUS 1 KG</td>\n",
       "      <td>s/ 4.7 UN</td>\n",
       "    </tr>\n",
       "    <tr>\n",
       "      <th>3</th>\n",
       "      <td>AZÚCAR RUBIA TOTTUS 2 KG</td>\n",
       "      <td>s/ 8.5 UN</td>\n",
       "    </tr>\n",
       "    <tr>\n",
       "      <th>4</th>\n",
       "      <td>AZÚCAR RUBIA DULFINA 1 KG</td>\n",
       "      <td>s/ 5.2 UN</td>\n",
       "    </tr>\n",
       "    <tr>\n",
       "      <th>...</th>\n",
       "      <td>...</td>\n",
       "      <td>...</td>\n",
       "    </tr>\n",
       "    <tr>\n",
       "      <th>179</th>\n",
       "      <td>TRIPACK GASEOSA COCA COLA + INCA KOLA + FANTA ...</td>\n",
       "      <td>s/ 23.9 UN\\ns/ 24.9 UN\\ns/ 27 UN</td>\n",
       "    </tr>\n",
       "    <tr>\n",
       "      <th>180</th>\n",
       "      <td>TWO PACK COCA COLA + INCA KOLA 3 LT</td>\n",
       "      <td>s/ 19.5 UN\\ns/ 19.9 UN\\ns/ 20.2 UN</td>\n",
       "    </tr>\n",
       "    <tr>\n",
       "      <th>181</th>\n",
       "      <td>MASCARILLA FACIAL PULIDORA DE CARBÓN Y AZÚCAR ...</td>\n",
       "      <td>s/ 8.4 UN</td>\n",
       "    </tr>\n",
       "    <tr>\n",
       "      <th>182</th>\n",
       "      <td>ESTOFADO DE POLLO Y PURÉ + COCA COLA ZERO 300 ML</td>\n",
       "      <td>s/ 13.5 UN</td>\n",
       "    </tr>\n",
       "    <tr>\n",
       "      <th>183</th>\n",
       "      <td>EQUAL STEVIA 200 SOBRES</td>\n",
       "      <td>s/ 65 UN</td>\n",
       "    </tr>\n",
       "  </tbody>\n",
       "</table>\n",
       "<p>184 rows × 2 columns</p>\n",
       "</div>"
      ],
      "text/plain": [
       "                                              Producto  \\\n",
       "0                             AZÚCAR RUBIA TOTTUS 5 KG   \n",
       "1                            AZÚCAR RUBIA DULFINA 5 KG   \n",
       "2                             AZÚCAR RUBIA TOTTUS 1 KG   \n",
       "3                             AZÚCAR RUBIA TOTTUS 2 KG   \n",
       "4                            AZÚCAR RUBIA DULFINA 1 KG   \n",
       "..                                                 ...   \n",
       "179  TRIPACK GASEOSA COCA COLA + INCA KOLA + FANTA ...   \n",
       "180                TWO PACK COCA COLA + INCA KOLA 3 LT   \n",
       "181  MASCARILLA FACIAL PULIDORA DE CARBÓN Y AZÚCAR ...   \n",
       "182   ESTOFADO DE POLLO Y PURÉ + COCA COLA ZERO 300 ML   \n",
       "183                            EQUAL STEVIA 200 SOBRES   \n",
       "\n",
       "                                 Precio  \n",
       "0                            s/ 19.9 UN  \n",
       "1                            s/ 22.9 UN  \n",
       "2                             s/ 4.7 UN  \n",
       "3                             s/ 8.5 UN  \n",
       "4                             s/ 5.2 UN  \n",
       "..                                  ...  \n",
       "179    s/ 23.9 UN\\ns/ 24.9 UN\\ns/ 27 UN  \n",
       "180  s/ 19.5 UN\\ns/ 19.9 UN\\ns/ 20.2 UN  \n",
       "181                           s/ 8.4 UN  \n",
       "182                          s/ 13.5 UN  \n",
       "183                            s/ 65 UN  \n",
       "\n",
       "[184 rows x 2 columns]"
      ]
     },
     "execution_count": 150,
     "metadata": {},
     "output_type": "execute_result"
    }
   ],
   "source": [
    "dic= {'Producto': productos,\"Precio\": precios }\n",
    "df = pd.DataFrame(dic , columns= [\"Producto\",\"Precio\"] )\n",
    "df.to_excel('tottus.xlsx', index=False,encoding='cp1252')\n",
    "\n",
    "# Lectura\n",
    "pd.read_excel('tottus.xlsx')"
   ]
  },
  {
   "cell_type": "code",
   "execution_count": 151,
   "id": "95e4b758",
   "metadata": {},
   "outputs": [],
   "source": [
    "driver.close()  # Cerrar chromedriver"
   ]
  },
  {
   "cell_type": "markdown",
   "id": "430491e3",
   "metadata": {},
   "source": [
    "# Programa para obtener los productos y precios de supermercados Tottus  (Usuario Brian)"
   ]
  },
  {
   "cell_type": "code",
   "execution_count": 201,
   "id": "ac94eef4",
   "metadata": {},
   "outputs": [],
   "source": [
    "import csv #importando codigos\n",
    "from bs4 import BeautifulSoup\n",
    "from selenium import webdriver\n",
    "import time\n",
    "import pandas as pd"
   ]
  },
  {
   "cell_type": "code",
   "execution_count": 202,
   "id": "67d6f92a",
   "metadata": {},
   "outputs": [],
   "source": [
    "driver = webdriver.Chrome()                 #probando driver\n",
    "url='https://www.plazavea.com.pe'            #probando url\n",
    "\n",
    "def busqueda(search):                       #definiendo funcion search\n",
    "    \"generar url\"\n",
    "    template = 'https://www.plazavea.com.pe/{}'\n",
    "    search = search.replace('','')\n",
    "    return template.format(search)  "
   ]
  },
  {
   "cell_type": "code",
   "execution_count": 203,
   "id": "d53bddc5",
   "metadata": {},
   "outputs": [
    {
     "name": "stdout",
     "output_type": "stream",
     "text": [
      "https://www.plazavea.com.pe/packs\n"
     ]
    }
   ],
   "source": [
    "url = busqueda('packs')\n",
    "print(url)"
   ]
  },
  {
   "cell_type": "code",
   "execution_count": 204,
   "id": "f88bd79b",
   "metadata": {},
   "outputs": [],
   "source": [
    "driver.get(url) #almacenandor driver"
   ]
  },
  {
   "cell_type": "code",
   "execution_count": 205,
   "id": "2cad6a76",
   "metadata": {},
   "outputs": [],
   "source": [
    "soup = BeautifulSoup(driver.page_source,'html.parser') #transformando a tipo BeatifulSoup"
   ]
  },
  {
   "cell_type": "code",
   "execution_count": 206,
   "id": "feeeb7d2",
   "metadata": {},
   "outputs": [],
   "source": [
    "def extraerprecio(item): #definiendo funcion para extraer el precio\n",
    "    #precio\n",
    "    precio = item.find('div', 'Showcase__salePrice') #scrapeando html\n",
    "    precio1 = precio.text.split() #limpiando el precio\n",
    "    nombre=item.find('a','Showcase__name').text #limpiando el nombre del item\n",
    "    #descripcion\n",
    "    descripcion= (precio1, nombre)\n",
    "    return descripcion             "
   ]
  },
  {
   "cell_type": "code",
   "execution_count": 207,
   "id": "6f489838",
   "metadata": {},
   "outputs": [],
   "source": [
    "records = []\n",
    "resultados= soup.find_all('div','Showcase__content')\n",
    "\n",
    "for item in resultados:\n",
    "    record = extraerprecio(item)\n",
    "\n",
    "    if record:\n",
    "        records.append(record)"
   ]
  },
  {
   "cell_type": "code",
   "execution_count": 208,
   "id": "07401ce0",
   "metadata": {},
   "outputs": [],
   "source": [
    "def busqueda(busqueda):\n",
    "    \"generar url\"\n",
    "    template = 'https://www.plazavea.com.pe/{}'\n",
    "    busqueda = busqueda.replace('','')\n",
    "    url=template.format(search)\n",
    "    url += '?page={}'\n",
    "    return url"
   ]
  },
  {
   "cell_type": "code",
   "execution_count": 209,
   "id": "750a6878",
   "metadata": {},
   "outputs": [],
   "source": [
    "#escribiendo el codigo para la busqueda\n",
    "records = []\n",
    "def busqueda(search):     #Creando función para buscar producto\n",
    "    \"generar url\"         \n",
    "    template = 'https://www.plazavea.com.pe/{}'\n",
    "    search = search.replace('','')\n",
    "    return template.format(search)  \n",
    "def main(term):\n",
    "    driver = webdriver.Chrome()# abriendo driver\n",
    "    record = [] #almacenando resultados\n",
    "    url= busqueda(term) \n",
    "\n",
    "    for page in range(1,9): #definiendo funcion para pasar pagina\n",
    "        time.sleep(2)\n",
    "        driver.get(url.format(page))\n",
    "        soup= BeautifulSoup(driver.page_source,'html.parser') #escrapeando html\n",
    "        resultados= soup.find_all('div','Showcase__content') #escrapeando html\n",
    "\n",
    "        for item in resultados:\n",
    "            record = extraerprecio(item) # recall extrayendo precios\n",
    "\n",
    "            if record:\n",
    "                records.append(record)\n",
    "driver.close()"
   ]
  },
  {
   "cell_type": "code",
   "execution_count": 211,
   "id": "6c70d084",
   "metadata": {},
   "outputs": [],
   "source": [
    "main('azucar') #utilizando funcion final"
   ]
  },
  {
   "cell_type": "code",
   "execution_count": 216,
   "id": "c3f5d514",
   "metadata": {},
   "outputs": [],
   "source": [
    "with open(\"plazavea.csv\", 'w', newline='', encoding='utf-8') as f: # almacenando resultados\n",
    "    writer = csv.writer(f)\n",
    "    writer.writerow(['precio','descripción'])\n",
    "    writer.writerows(records)"
   ]
  },
  {
   "cell_type": "code",
   "execution_count": 223,
   "id": "d7976794",
   "metadata": {},
   "outputs": [
    {
     "name": "stdout",
     "output_type": "stream",
     "text": [
      "              precio                                        descripción\n",
      "0    ['S/', '16.70']                      Azúcar Rubia BELL'S Bolsa 4Kg\n",
      "1       ['S/', '23']            Azúcar Rubia BELL'S Selección Bolsa 5Kg\n",
      "2    ['S/', '12.59']  Bebida de Almendra NATURE'S HEART Sin Azúcar C...\n",
      "3    ['S/', '17.30']     Yogurt Griego TIGO Natural Sin Azúcar Pote 1Kg\n",
      "4     ['S/', '7.90']        Azucarero VIVA HOME Porcelana Blanca Puntos\n",
      "..               ...                                                ...\n",
      "187   ['S/', '5.90']                     Azúcar Rubia COSTEÑO Bolsa 1Kg\n",
      "188  ['S/', '11.80']  Gaseosa INCA KOLA Sin Azúcar Botella 1.5L Paqu...\n",
      "189     ['S/', '13']  Gaseosa COCA COLA Sin Azúcar 6 Pack Botella 50...\n",
      "190   ['S/', '4.80']                     Azúcar Rubia DULFINA Bolsa 1Kg\n",
      "191      ['S/', '8']          Gaseosa COCA COLA sin Azúcar Botella 2.5L\n",
      "\n",
      "[192 rows x 2 columns]\n"
     ]
    }
   ],
   "source": [
    "df = pd.read_csv('plazavea.csv')\n",
    "print(df)"
   ]
  },
  {
   "cell_type": "code",
   "execution_count": 224,
   "id": "1f8f21d1",
   "metadata": {},
   "outputs": [],
   "source": [
    "plazaveafinal = df.iloc[70:]\n",
    "plazaveafinal.to_excel('salida.xlsx')"
   ]
  },
  {
   "cell_type": "code",
   "execution_count": 225,
   "id": "4b296384",
   "metadata": {},
   "outputs": [
    {
     "data": {
      "text/html": [
       "<div>\n",
       "<style scoped>\n",
       "    .dataframe tbody tr th:only-of-type {\n",
       "        vertical-align: middle;\n",
       "    }\n",
       "\n",
       "    .dataframe tbody tr th {\n",
       "        vertical-align: top;\n",
       "    }\n",
       "\n",
       "    .dataframe thead th {\n",
       "        text-align: right;\n",
       "    }\n",
       "</style>\n",
       "<table border=\"1\" class=\"dataframe\">\n",
       "  <thead>\n",
       "    <tr style=\"text-align: right;\">\n",
       "      <th></th>\n",
       "      <th>Unnamed: 0</th>\n",
       "      <th>precio</th>\n",
       "      <th>descripción</th>\n",
       "    </tr>\n",
       "  </thead>\n",
       "  <tbody>\n",
       "    <tr>\n",
       "      <th>0</th>\n",
       "      <td>70</td>\n",
       "      <td>['S/', '4.80']</td>\n",
       "      <td>Azúcar Rubia DULFINA Bolsa 1Kg</td>\n",
       "    </tr>\n",
       "    <tr>\n",
       "      <th>1</th>\n",
       "      <td>71</td>\n",
       "      <td>['S/', '8.00']</td>\n",
       "      <td>Gaseosa COCA COLA sin Azúcar Botella 2.5L</td>\n",
       "    </tr>\n",
       "    <tr>\n",
       "      <th>2</th>\n",
       "      <td>72</td>\n",
       "      <td>['S/', '16.70']</td>\n",
       "      <td>Azúcar Rubia BELL'S Bolsa 4Kg</td>\n",
       "    </tr>\n",
       "    <tr>\n",
       "      <th>3</th>\n",
       "      <td>73</td>\n",
       "      <td>['S/', '23.00']</td>\n",
       "      <td>Azúcar Rubia BELL'S Selección Bolsa 5Kg</td>\n",
       "    </tr>\n",
       "    <tr>\n",
       "      <th>4</th>\n",
       "      <td>74</td>\n",
       "      <td>['S/', '12.59']</td>\n",
       "      <td>Bebida de Almendra NATURE'S HEART Sin Azúcar C...</td>\n",
       "    </tr>\n",
       "    <tr>\n",
       "      <th>...</th>\n",
       "      <td>...</td>\n",
       "      <td>...</td>\n",
       "      <td>...</td>\n",
       "    </tr>\n",
       "    <tr>\n",
       "      <th>117</th>\n",
       "      <td>187</td>\n",
       "      <td>['S/', '5.90']</td>\n",
       "      <td>Azúcar Rubia COSTEÑO Bolsa 1Kg</td>\n",
       "    </tr>\n",
       "    <tr>\n",
       "      <th>118</th>\n",
       "      <td>188</td>\n",
       "      <td>['S/', '11.80']</td>\n",
       "      <td>Gaseosa INCA KOLA Sin Azúcar Botella 1.5L Paqu...</td>\n",
       "    </tr>\n",
       "    <tr>\n",
       "      <th>119</th>\n",
       "      <td>189</td>\n",
       "      <td>['S/', '13']</td>\n",
       "      <td>Gaseosa COCA COLA Sin Azúcar 6 Pack Botella 50...</td>\n",
       "    </tr>\n",
       "    <tr>\n",
       "      <th>120</th>\n",
       "      <td>190</td>\n",
       "      <td>['S/', '4.80']</td>\n",
       "      <td>Azúcar Rubia DULFINA Bolsa 1Kg</td>\n",
       "    </tr>\n",
       "    <tr>\n",
       "      <th>121</th>\n",
       "      <td>191</td>\n",
       "      <td>['S/', '8']</td>\n",
       "      <td>Gaseosa COCA COLA sin Azúcar Botella 2.5L</td>\n",
       "    </tr>\n",
       "  </tbody>\n",
       "</table>\n",
       "<p>122 rows × 3 columns</p>\n",
       "</div>"
      ],
      "text/plain": [
       "     Unnamed: 0           precio  \\\n",
       "0            70   ['S/', '4.80']   \n",
       "1            71   ['S/', '8.00']   \n",
       "2            72  ['S/', '16.70']   \n",
       "3            73  ['S/', '23.00']   \n",
       "4            74  ['S/', '12.59']   \n",
       "..          ...              ...   \n",
       "117         187   ['S/', '5.90']   \n",
       "118         188  ['S/', '11.80']   \n",
       "119         189     ['S/', '13']   \n",
       "120         190   ['S/', '4.80']   \n",
       "121         191      ['S/', '8']   \n",
       "\n",
       "                                           descripción  \n",
       "0                       Azúcar Rubia DULFINA Bolsa 1Kg  \n",
       "1            Gaseosa COCA COLA sin Azúcar Botella 2.5L  \n",
       "2                        Azúcar Rubia BELL'S Bolsa 4Kg  \n",
       "3              Azúcar Rubia BELL'S Selección Bolsa 5Kg  \n",
       "4    Bebida de Almendra NATURE'S HEART Sin Azúcar C...  \n",
       "..                                                 ...  \n",
       "117                     Azúcar Rubia COSTEÑO Bolsa 1Kg  \n",
       "118  Gaseosa INCA KOLA Sin Azúcar Botella 1.5L Paqu...  \n",
       "119  Gaseosa COCA COLA Sin Azúcar 6 Pack Botella 50...  \n",
       "120                     Azúcar Rubia DULFINA Bolsa 1Kg  \n",
       "121          Gaseosa COCA COLA sin Azúcar Botella 2.5L  \n",
       "\n",
       "[122 rows x 3 columns]"
      ]
     },
     "execution_count": 225,
     "metadata": {},
     "output_type": "execute_result"
    }
   ],
   "source": [
    "plazavea = pd.read_excel('salida.xlsx')\n",
    "plazavea"
   ]
  },
  {
   "cell_type": "markdown",
   "id": "f2e78049",
   "metadata": {},
   "source": [
    "# Comparar productos de acuerdo a un búsqueda en común (FASE de prueba)"
   ]
  },
  {
   "cell_type": "code",
   "execution_count": 152,
   "id": "a58475b9",
   "metadata": {},
   "outputs": [
    {
     "data": {
      "text/html": [
       "<div>\n",
       "<style scoped>\n",
       "    .dataframe tbody tr th:only-of-type {\n",
       "        vertical-align: middle;\n",
       "    }\n",
       "\n",
       "    .dataframe tbody tr th {\n",
       "        vertical-align: top;\n",
       "    }\n",
       "\n",
       "    .dataframe thead th {\n",
       "        text-align: right;\n",
       "    }\n",
       "</style>\n",
       "<table border=\"1\" class=\"dataframe\">\n",
       "  <thead>\n",
       "    <tr style=\"text-align: right;\">\n",
       "      <th></th>\n",
       "      <th>Producto</th>\n",
       "      <th>Precio</th>\n",
       "    </tr>\n",
       "  </thead>\n",
       "  <tbody>\n",
       "    <tr>\n",
       "      <th>0</th>\n",
       "      <td>AZÚCAR RUBIA TOTTUS 5 KG</td>\n",
       "      <td>s/ 19.9 UN</td>\n",
       "    </tr>\n",
       "    <tr>\n",
       "      <th>1</th>\n",
       "      <td>AZÚCAR RUBIA DULFINA 5 KG</td>\n",
       "      <td>s/ 22.9 UN</td>\n",
       "    </tr>\n",
       "  </tbody>\n",
       "</table>\n",
       "</div>"
      ],
      "text/plain": [
       "                    Producto      Precio\n",
       "0   AZÚCAR RUBIA TOTTUS 5 KG  s/ 19.9 UN\n",
       "1  AZÚCAR RUBIA DULFINA 5 KG  s/ 22.9 UN"
      ]
     },
     "execution_count": 152,
     "metadata": {},
     "output_type": "execute_result"
    }
   ],
   "source": [
    "tottus = pd.read_excel('tottus.xlsx')\n",
    "tottus[tottus['Producto'].str.count(r'(AZÚCAR.*RUBIA.*5.*KG.*)')==1]"
   ]
  },
  {
   "cell_type": "code",
   "execution_count": 153,
   "id": "4c946ffe",
   "metadata": {},
   "outputs": [
    {
     "data": {
      "text/html": [
       "<div>\n",
       "<style scoped>\n",
       "    .dataframe tbody tr th:only-of-type {\n",
       "        vertical-align: middle;\n",
       "    }\n",
       "\n",
       "    .dataframe tbody tr th {\n",
       "        vertical-align: top;\n",
       "    }\n",
       "\n",
       "    .dataframe thead th {\n",
       "        text-align: right;\n",
       "    }\n",
       "</style>\n",
       "<table border=\"1\" class=\"dataframe\">\n",
       "  <thead>\n",
       "    <tr style=\"text-align: right;\">\n",
       "      <th></th>\n",
       "      <th>Producto</th>\n",
       "      <th>Precio</th>\n",
       "    </tr>\n",
       "  </thead>\n",
       "  <tbody>\n",
       "    <tr>\n",
       "      <th>6</th>\n",
       "      <td>Azúcar Rubia Paramonga Bolsa 5 kg</td>\n",
       "      <td>S/18.90</td>\n",
       "    </tr>\n",
       "    <tr>\n",
       "      <th>13</th>\n",
       "      <td>Azúcar Rubia Máxima Bolsa 5 kg</td>\n",
       "      <td>S/19.95</td>\n",
       "    </tr>\n",
       "    <tr>\n",
       "      <th>14</th>\n",
       "      <td>Azúcar Rubia Metro Bolsa 5 kg</td>\n",
       "      <td>S/20.45</td>\n",
       "    </tr>\n",
       "    <tr>\n",
       "      <th>17</th>\n",
       "      <td>Azúcar Rubia Dulfina Bolsa 5 kg</td>\n",
       "      <td>S/21.95</td>\n",
       "    </tr>\n",
       "    <tr>\n",
       "      <th>21</th>\n",
       "      <td>Azúcar Rubia Paramonga Bolsa 5 kg</td>\n",
       "      <td>S/18.90</td>\n",
       "    </tr>\n",
       "  </tbody>\n",
       "</table>\n",
       "</div>"
      ],
      "text/plain": [
       "                             Producto   Precio\n",
       "6   Azúcar Rubia Paramonga Bolsa 5 kg  S/18.90\n",
       "13     Azúcar Rubia Máxima Bolsa 5 kg  S/19.95\n",
       "14      Azúcar Rubia Metro Bolsa 5 kg  S/20.45\n",
       "17    Azúcar Rubia Dulfina Bolsa 5 kg  S/21.95\n",
       "21  Azúcar Rubia Paramonga Bolsa 5 kg  S/18.90"
      ]
     },
     "execution_count": 153,
     "metadata": {},
     "output_type": "execute_result"
    }
   ],
   "source": [
    "metro=pd.read_excel('metro.xlsx')   \n",
    "metro\n",
    "metro[metro['Producto'].str.count(r'(Azúcar.*Rubia.*5.*kg.*)')==1]"
   ]
  },
  {
   "cell_type": "code",
   "execution_count": 230,
   "id": "13c47af2",
   "metadata": {},
   "outputs": [
    {
     "data": {
      "text/html": [
       "<div>\n",
       "<style scoped>\n",
       "    .dataframe tbody tr th:only-of-type {\n",
       "        vertical-align: middle;\n",
       "    }\n",
       "\n",
       "    .dataframe tbody tr th {\n",
       "        vertical-align: top;\n",
       "    }\n",
       "\n",
       "    .dataframe thead th {\n",
       "        text-align: right;\n",
       "    }\n",
       "</style>\n",
       "<table border=\"1\" class=\"dataframe\">\n",
       "  <thead>\n",
       "    <tr style=\"text-align: right;\">\n",
       "      <th></th>\n",
       "      <th>Unnamed: 0</th>\n",
       "      <th>precio</th>\n",
       "      <th>descripción</th>\n",
       "    </tr>\n",
       "  </thead>\n",
       "  <tbody>\n",
       "    <tr>\n",
       "      <th>3</th>\n",
       "      <td>73</td>\n",
       "      <td>['S/', '23.00']</td>\n",
       "      <td>Azúcar Rubia BELL'S Selección Bolsa 5Kg</td>\n",
       "    </tr>\n",
       "    <tr>\n",
       "      <th>12</th>\n",
       "      <td>82</td>\n",
       "      <td>['S/', '21.90']</td>\n",
       "      <td>Azúcar Rubia DULFINA Bolsa 5Kg</td>\n",
       "    </tr>\n",
       "    <tr>\n",
       "      <th>19</th>\n",
       "      <td>89</td>\n",
       "      <td>['S/', '3.10']</td>\n",
       "      <td>Azúcar Rubia BELL'S Bolsa 650g</td>\n",
       "    </tr>\n",
       "    <tr>\n",
       "      <th>27</th>\n",
       "      <td>97</td>\n",
       "      <td>['S/', '23.00']</td>\n",
       "      <td>Azúcar Rubia BELL'S Selección Bolsa 5Kg</td>\n",
       "    </tr>\n",
       "    <tr>\n",
       "      <th>36</th>\n",
       "      <td>106</td>\n",
       "      <td>['S/', '21.90']</td>\n",
       "      <td>Azúcar Rubia DULFINA Bolsa 5Kg</td>\n",
       "    </tr>\n",
       "    <tr>\n",
       "      <th>43</th>\n",
       "      <td>113</td>\n",
       "      <td>['S/', '3.10']</td>\n",
       "      <td>Azúcar Rubia BELL'S Bolsa 650g</td>\n",
       "    </tr>\n",
       "    <tr>\n",
       "      <th>51</th>\n",
       "      <td>121</td>\n",
       "      <td>['S/', '23.00']</td>\n",
       "      <td>Azúcar Rubia BELL'S Selección Bolsa 5Kg</td>\n",
       "    </tr>\n",
       "    <tr>\n",
       "      <th>60</th>\n",
       "      <td>130</td>\n",
       "      <td>['S/', '21.90']</td>\n",
       "      <td>Azúcar Rubia DULFINA Bolsa 5Kg</td>\n",
       "    </tr>\n",
       "    <tr>\n",
       "      <th>67</th>\n",
       "      <td>137</td>\n",
       "      <td>['S/', '3.10']</td>\n",
       "      <td>Azúcar Rubia BELL'S Bolsa 650g</td>\n",
       "    </tr>\n",
       "    <tr>\n",
       "      <th>75</th>\n",
       "      <td>145</td>\n",
       "      <td>['S/', '23']</td>\n",
       "      <td>Azúcar Rubia BELL'S Selección Bolsa 5Kg</td>\n",
       "    </tr>\n",
       "    <tr>\n",
       "      <th>84</th>\n",
       "      <td>154</td>\n",
       "      <td>['S/', '21.90']</td>\n",
       "      <td>Azúcar Rubia DULFINA Bolsa 5Kg</td>\n",
       "    </tr>\n",
       "    <tr>\n",
       "      <th>91</th>\n",
       "      <td>161</td>\n",
       "      <td>['S/', '3.10']</td>\n",
       "      <td>Azúcar Rubia BELL'S Bolsa 650g</td>\n",
       "    </tr>\n",
       "    <tr>\n",
       "      <th>99</th>\n",
       "      <td>169</td>\n",
       "      <td>['S/', '23']</td>\n",
       "      <td>Azúcar Rubia BELL'S Selección Bolsa 5Kg</td>\n",
       "    </tr>\n",
       "    <tr>\n",
       "      <th>108</th>\n",
       "      <td>178</td>\n",
       "      <td>['S/', '21.90']</td>\n",
       "      <td>Azúcar Rubia DULFINA Bolsa 5Kg</td>\n",
       "    </tr>\n",
       "    <tr>\n",
       "      <th>115</th>\n",
       "      <td>185</td>\n",
       "      <td>['S/', '3.10']</td>\n",
       "      <td>Azúcar Rubia BELL'S Bolsa 650g</td>\n",
       "    </tr>\n",
       "  </tbody>\n",
       "</table>\n",
       "</div>"
      ],
      "text/plain": [
       "     Unnamed: 0           precio                              descripción\n",
       "3            73  ['S/', '23.00']  Azúcar Rubia BELL'S Selección Bolsa 5Kg\n",
       "12           82  ['S/', '21.90']           Azúcar Rubia DULFINA Bolsa 5Kg\n",
       "19           89   ['S/', '3.10']           Azúcar Rubia BELL'S Bolsa 650g\n",
       "27           97  ['S/', '23.00']  Azúcar Rubia BELL'S Selección Bolsa 5Kg\n",
       "36          106  ['S/', '21.90']           Azúcar Rubia DULFINA Bolsa 5Kg\n",
       "43          113   ['S/', '3.10']           Azúcar Rubia BELL'S Bolsa 650g\n",
       "51          121  ['S/', '23.00']  Azúcar Rubia BELL'S Selección Bolsa 5Kg\n",
       "60          130  ['S/', '21.90']           Azúcar Rubia DULFINA Bolsa 5Kg\n",
       "67          137   ['S/', '3.10']           Azúcar Rubia BELL'S Bolsa 650g\n",
       "75          145     ['S/', '23']  Azúcar Rubia BELL'S Selección Bolsa 5Kg\n",
       "84          154  ['S/', '21.90']           Azúcar Rubia DULFINA Bolsa 5Kg\n",
       "91          161   ['S/', '3.10']           Azúcar Rubia BELL'S Bolsa 650g\n",
       "99          169     ['S/', '23']  Azúcar Rubia BELL'S Selección Bolsa 5Kg\n",
       "108         178  ['S/', '21.90']           Azúcar Rubia DULFINA Bolsa 5Kg\n",
       "115         185   ['S/', '3.10']           Azúcar Rubia BELL'S Bolsa 650g"
      ]
     },
     "execution_count": 230,
     "metadata": {},
     "output_type": "execute_result"
    }
   ],
   "source": [
    "plazavea[plazavea['descripción'].str.count(r'(Azúcar.*Rubia.*5.*)')==1]"
   ]
  },
  {
   "cell_type": "markdown",
   "id": "75412473",
   "metadata": {},
   "source": [
    "# Envío de correo automático (FASE de prueba)"
   ]
  },
  {
   "cell_type": "code",
   "execution_count": 47,
   "id": "010fcc45",
   "metadata": {},
   "outputs": [],
   "source": [
    "import smtplib  # Importar la librería\n",
    "\n",
    "de_email =\"okoyekennethoptimizer@gmail.com\"   # Correo de envio (emisor)\n",
    "contraseña = \"nmmrjdphptwfgjgb\"               # contraseña del emisor\n",
    "para_email = \"20200338@LAMOLINA.EDU.PE\"       # Email de destino\n",
    "asunto = \"TRABAJO FINAL LP2\"                  # Asunto de llegada\n",
    "text =\"\"\"                                    \n",
    "Hola estimada profesora, le enviamos las comparaciones de los productos.\n",
    "Codigo de integrantes: \n",
    "\"\"\"                                           # Contenido del mensaje\n",
    "\n",
    "mensaje = f'Subject: {asunto}\\n\\n{text}\\n\\n'  # Formato de llegada del mensaje\n",
    "connection = smtplib.SMTP(\"smtp.gmail.com\", port= 587) # Conexión al dominio gmail.com con puerto = 587\n",
    "connection.starttls()             # Empezar  conexión            \n",
    "connection.login(user=de_email, password=contraseña) # Logeando con correo y contraseña\n",
    "connection.sendmail(from_addr=de_email, to_addrs=para_email, msg= mensaje) # Enviar email a destinatario\n",
    "connection.close()                # Cerrar conexión    "
   ]
  },
  {
   "cell_type": "code",
   "execution_count": null,
   "id": "70578db8",
   "metadata": {},
   "outputs": [],
   "source": []
  },
  {
   "cell_type": "code",
   "execution_count": null,
   "id": "2110eca8",
   "metadata": {},
   "outputs": [],
   "source": []
  },
  {
   "cell_type": "code",
   "execution_count": null,
   "id": "f80a51f7",
   "metadata": {},
   "outputs": [],
   "source": []
  },
  {
   "cell_type": "code",
   "execution_count": null,
   "id": "a4ef8101",
   "metadata": {},
   "outputs": [],
   "source": []
  }
 ],
 "metadata": {
  "kernelspec": {
   "display_name": "Python 3 (ipykernelGG)",
   "language": "python",
   "name": "python3"
  },
  "language_info": {
   "codemirror_mode": {
    "name": "ipython",
    "version": 3
   },
   "file_extension": ".py",
   "mimetype": "text/x-python",
   "name": "python",
   "nbconvert_exporter": "python",
   "pygments_lexer": "ipython3",
   "version": "3.9.12"
  },
  "vscode": {
   "interpreter": {
    "hash": "9412b45e6a57aa9914730508726d49801d3b2c579f461e1fb13c705887a7b1f6"
   }
  }
 },
 "nbformat": 4,
 "nbformat_minor": 5
}
