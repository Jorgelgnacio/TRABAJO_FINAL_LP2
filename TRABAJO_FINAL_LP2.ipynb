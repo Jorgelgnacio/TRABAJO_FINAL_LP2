{
 "cells": [
  {
   "cell_type": "markdown",
   "id": "66b46d41",
   "metadata": {},
   "source": [
    "<p style=\"color:#211f78\"> <center><font size= 6> <b> COMPARACIÓN AUTOMATIZADA DE PRECIOS DE PRODUCTOS DE PRIMERA NECESIDAD EN LOS 3 SUPERMERCADOS MÁS POPULARES: METRO, TOTTUS y PLAZA VEA. </b> </font> </center> </p>"
   ]
  },
  {
   "cell_type": "markdown",
   "id": "7775cc80",
   "metadata": {},
   "source": [
    "## DESCRIPCIÓN DEL CASO\n",
    "\n",
    "Se quiere automatizar la comparación de precios de productos básicos de la canasta familiar\n",
    "(arroz, azúcar, aceite, leche, etc) de tres supermercados que ofrecen sus productos a través de\n",
    "su propio portal web. Estos supermercados son: Metro, Plaza Vea y Tottus.\n",
    "Por lo que se pide escribir un programa en Python utilizando Jupyter notebook que recopile los\n",
    "precios de un producto de la canasta básica familiar de 3 Supermercados anteriormente\n",
    "mencionados y reporte todos sus artículos relacionados con la palabra clave ingresada en la\n",
    "búsqueda, para que posteriormente pueda comparar los precios en los distintos\n",
    "Supermercados de los productos exactamente iguales. Además, que se envíe\n",
    "automáticamente al correo del usuario-consultor un reporte de precio más alto, precio más\n",
    "bajo, productos en común comparando los precios entre los supermercados coincidentes."
   ]
  },
  {
   "cell_type": "markdown",
   "id": "0b2bd01c",
   "metadata": {},
   "source": [
    "# Importar librerías\n"
   ]
  },
  {
   "cell_type": "code",
   "execution_count": 1,
   "id": "b53fd5c0",
   "metadata": {},
   "outputs": [
    {
     "name": "stderr",
     "output_type": "stream",
     "text": [
      "C:\\Users\\user\\AppData\\Local\\Temp/ipykernel_10580/1607001063.py:23: FutureWarning: Passing a negative integer is deprecated in version 1.0 and will not be supported in future version. Instead, use None to not limit the column width.\n",
      "  pd.set_option('display.max_colwidth', -1)\n"
     ]
    }
   ],
   "source": [
    "import pandas as pd\n",
    "import time\n",
    "from selenium import webdriver\n",
    "from selenium.webdriver.chrome.service import Service\n",
    "from selenium.webdriver.common.by import By\n",
    "from selenium.webdriver.common.keys import Keys\n",
    "from selenium.webdriver.support import expected_conditions as EC\n",
    "from selenium.webdriver.support.ui import WebDriverWait\n",
    "from pymongo import MongoClient\n",
    "from tqdm import tqdm\n",
    "from termcolor import colored\n",
    "import csv\n",
    "from bs4 import BeautifulSoup\n",
    "import time\n",
    "from webdriver_manager.microsoft import EdgeChromiumDriverManager\n",
    "from webdriver_manager.chrome import ChromeDriverManager\n",
    "import math\n",
    "from IPython import display\n",
    "\n",
    "\n",
    "pd.set_option('display.max_columns', None)  \n",
    "#pd.set_option('display.max_rows', None)\n",
    "pd.set_option('display.max_colwidth', -1)\n",
    "pd.set_option('display.width', 200)\n",
    "pd.set_option('display.expand_frame_repr', False)\n",
    "pd.set_option('display.float_format', '{:20,.2f}'.format)\n",
    "                      \n",
    "#jupyter notebook --NotebookApp.iopub_data_rate_limit=1.0e10"
   ]
  },
  {
   "cell_type": "markdown",
   "id": "bce32bc8",
   "metadata": {},
   "source": [
    "# Documentación de la nueva actualización de Selenium\n"
   ]
  },
  {
   "cell_type": "code",
   "execution_count": 2,
   "id": "7dc03645",
   "metadata": {},
   "outputs": [],
   "source": [
    "ID = \"id\"\n",
    "NAME = \"name\"\n",
    "XPATH = \"xpath\"\n",
    "LINK_TEXT = \"link text\"\n",
    "PARTIAL_LINK_TEXT = \"partial link text\"\n",
    "TAG_NAME = \"tag name\"\n",
    "CLASS_NAME = \"class name\"\n",
    "CSS_SELECTOR = \"css selector\"\n",
    "\n",
    "# find_element(By.ID, \"id\")\n",
    "# find_element(By.NAME, \"name\")\n",
    "# find_element(By.XPATH, \"xpath\")\n",
    "# find_element(By.LINK_TEXT, \"link text\")\n",
    "# find_element(By.PARTIAL_LINK_TEXT, \"partial link text\")\n",
    "# find_element(By.TAG_NAME, \"tag name\")\n",
    "# find_element(By.CLASS_NAME, \"class name\")\n",
    "# find_element(By.CSS_SELECTOR, \"css selector\")"
   ]
  },
  {
   "cell_type": "markdown",
   "id": "eeb589c3",
   "metadata": {},
   "source": [
    "# Ingresar producto y correo "
   ]
  },
  {
   "cell_type": "code",
   "execution_count": 3,
   "id": "7c981112",
   "metadata": {},
   "outputs": [
    {
     "name": "stdout",
     "output_type": "stream",
     "text": [
      "Coloque el producto a buscar:Leche\n",
      "Enviar comparación de productos al correo: 20200338@lamolina.edu.pe\n"
     ]
    }
   ],
   "source": [
    "busqueda=str(input(\"Coloque el producto a buscar:\"))\n",
    "para_email= input(\"Enviar comparación de productos al correo: \") # Email de destino"
   ]
  },
  {
   "cell_type": "markdown",
   "id": "8bc482f9",
   "metadata": {},
   "source": [
    "<p style=\"color:#deb03e\"> <font size=6.5> <b> Programa para obtener los productos y precios de supermercados Metro (Usuario Jorge) </b> </font> </p>  "
   ]
  },
  {
   "cell_type": "code",
   "execution_count": 4,
   "id": "86c77e7d",
   "metadata": {},
   "outputs": [
    {
     "name": "stdout",
     "output_type": "stream",
     "text": [
      "\n"
     ]
    }
   ],
   "source": [
    "urls='https://www.metro.pe'          # URL de la pagina de Metro                   \n",
    "options = webdriver.EdgeOptions()    #opciones del buscador \n",
    "options.add_argument('--incognito')  # Opcion de abrir ventana de Edge en modo incognito\n",
    "options.add_argument(\"--start-maximized\") # ventana maximizada \n",
    "s = Service(EdgeChromiumDriverManager().install())                       \n",
    "driver = webdriver.Edge(service=s, options = options) #,service=s\n",
    "driver.implicitly_wait(4) \n",
    "#driver.maximize_window()\n",
    "driver.get(urls)\n",
    "\n",
    "time.sleep(2)"
   ]
  },
  {
   "cell_type": "code",
   "execution_count": 5,
   "id": "ce53fba2",
   "metadata": {},
   "outputs": [],
   "source": [
    "# Para cancelar las notificaciones de Metro (ventana emergente)\n",
    "driver.find_element(By.XPATH, '/html/body/div[46]/div/div/div[2]/button[2]').click()\n",
    "time.sleep(1)"
   ]
  },
  {
   "cell_type": "code",
   "execution_count": 6,
   "id": "38058503",
   "metadata": {},
   "outputs": [],
   "source": [
    "# Hacer clic en \"Si acepto\", pagina emergente sobre \"Políticas general de Cookies\"\n",
    "driver.find_element(By.XPATH, '/html/body/div[46]/div/div[3]/button[1]').click()\n",
    "time.sleep(1)"
   ]
  },
  {
   "cell_type": "code",
   "execution_count": 7,
   "id": "69a56333",
   "metadata": {},
   "outputs": [],
   "source": [
    "# Hacer clic en la barra de búsqueda\n",
    "driver.find_element(By.XPATH, '/html/body/header[1]/div/div[2]/div[2]/div[1]/div[1]/input').click()\n",
    "time.sleep(1)"
   ]
  },
  {
   "cell_type": "code",
   "execution_count": 8,
   "id": "ea0a4c0d",
   "metadata": {},
   "outputs": [],
   "source": [
    "# Ingresar el producto en la barra de busqueda y realizar la busqueda\n",
    "driver.find_element(By.XPATH, '/html/body/header[1]/div/div[2]/div[2]/div[1]/div[1]/input').send_keys(busqueda+ Keys.ENTER)\n",
    "time.sleep(1)"
   ]
  },
  {
   "cell_type": "code",
   "execution_count": 9,
   "id": "cc69b9a7",
   "metadata": {},
   "outputs": [
    {
     "name": "stdout",
     "output_type": "stream",
     "text": [
      "313 productos\n"
     ]
    }
   ],
   "source": [
    "# Cantidad de productos\n",
    "page=driver.find_element(By.XPATH, '/html/body/div[27]/div/div[2]/div[1]/div[1]/span[2]').text\n",
    "print(page)\n",
    "#int(page[:-10])"
   ]
  },
  {
   "cell_type": "code",
   "execution_count": 10,
   "id": "f428fa41",
   "metadata": {},
   "outputs": [
    {
     "name": "stdout",
     "output_type": "stream",
     "text": [
      "\u001b[31mProductos extraidos:\u001b[0m\n",
      "180\n",
      "\n",
      "\n",
      "\u001b[33mSe llegó a extraer todos los productos?\u001b[0m\n",
      "False\n"
     ]
    }
   ],
   "source": [
    "# Automatización de scrolls (se correra las veces que sea necesario)\n",
    "scrolls = 10 + 1            # Seran 10 scrolls automaticos\n",
    "while True:                # Mientras esto sea verdad se realizará lo siguiente:\n",
    "    scrolls -= 1           # Cuenta regresiva, se resta 1 cada ciclo\n",
    "    driver.execute_script(\"window.scrollTo(0, document.body.scrollHeight)\") # Se desplazará hasta la parte inferior de la página \n",
    "    time.sleep(1)      # Cada scroll automático tendra un timelap de 1 segundo\n",
    "    if scrolls < 0:     # Cuando llegue a cero segundos:\n",
    "        time.sleep(2)   # Le damos 2 segundos a que la pagina carge los contenidos hasta el ultimo scroll automatico\n",
    "        driver.execute_script(\"window.scrollBy(0,-750)\") # Un scroll up (rueda hacia arriba) para mostrar la ultima fila de productos\n",
    "        elements = driver.find_elements(By.XPATH,'//li[@layout=\"19ccd66b-b568-43cb-a106-b52f9796f5cd\"]') # Encontrar los productos de la pagina de acuerdo al XPATH\n",
    "        break           # Se cierra el ciclo\n",
    "\n",
    "        \n",
    "print(colored('Productos extraidos:','red'))  \n",
    "print(len(elements))        # Longitud de los elementos (productos) encontrados hasta coindicir con el total de productos\n",
    "print('\\n')\n",
    "print(colored('Se llegó a extraer todos los productos?','yellow'))  \n",
    "print(len(elements) >= int(page[:-10])) # Comparación "
   ]
  },
  {
   "cell_type": "code",
   "execution_count": 11,
   "id": "344b6974",
   "metadata": {},
   "outputs": [
    {
     "name": "stderr",
     "output_type": "stream",
     "text": [
      "100%|████████████████████████████████████████████████████████████████████████████████| 180/180 [00:16<00:00, 10.92it/s]\n"
     ]
    }
   ],
   "source": [
    "# Almacenar productos y precios \n",
    "productos1 =  []  # lista vacia\n",
    "precios1 = []     # lista vacia\n",
    "supermercado1 = []\n",
    "for element in tqdm(elements):  # tqdm:Contar iteraciones, indicar el tiempo que tarda por iteración y el tiempo total transcurrido.  \n",
    "        producto = element.find_element(By.XPATH,'.//a[@class=\"product-item__name\"]').text  # Buscar producto en base al XPATH y mostrar el texto\n",
    "        precio = element.find_element(By.XPATH,'.//span[@class=\"product-prices__value product-prices__value--best-price\"]').text # Buscar precio en base al XPATH y mostrar el texto\n",
    "        productos1.append(producto)    # Agregar a la lista productos\n",
    "        precios1.append(precio)        # Agregar a la lista precios\n",
    "        supermercado1.append('Metro')\n"
   ]
  },
  {
   "cell_type": "code",
   "execution_count": 12,
   "id": "e6aa007d",
   "metadata": {},
   "outputs": [
    {
     "name": "stdout",
     "output_type": "stream",
     "text": [
      "\u001b[34mImprimiendo resultados.\u001b[0m\n"
     ]
    },
    {
     "data": {
      "text/html": [
       "<div>\n",
       "<style scoped>\n",
       "    .dataframe tbody tr th:only-of-type {\n",
       "        vertical-align: middle;\n",
       "    }\n",
       "\n",
       "    .dataframe tbody tr th {\n",
       "        vertical-align: top;\n",
       "    }\n",
       "\n",
       "    .dataframe thead th {\n",
       "        text-align: right;\n",
       "    }\n",
       "</style>\n",
       "<table border=\"1\" class=\"dataframe\">\n",
       "  <thead>\n",
       "    <tr style=\"text-align: right;\">\n",
       "      <th></th>\n",
       "      <th>Supermercado</th>\n",
       "      <th>Producto</th>\n",
       "      <th>Precio</th>\n",
       "    </tr>\n",
       "  </thead>\n",
       "  <tbody>\n",
       "    <tr>\n",
       "      <th>0</th>\n",
       "      <td>Metro</td>\n",
       "      <td>Leche Evaporada Entera Gloria Pack de 6un 400g</td>\n",
       "      <td>S/21.60</td>\n",
       "    </tr>\n",
       "    <tr>\n",
       "      <th>1</th>\n",
       "      <td>Metro</td>\n",
       "      <td>Leche UHT Gloria Sin Lactosa tripack 1 L</td>\n",
       "      <td>S/16.20</td>\n",
       "    </tr>\n",
       "    <tr>\n",
       "      <th>2</th>\n",
       "      <td>Metro</td>\n",
       "      <td>Leche Entera Lata 395 g Pack 6 unid</td>\n",
       "      <td>S/21.40</td>\n",
       "    </tr>\n",
       "    <tr>\n",
       "      <th>3</th>\n",
       "      <td>Metro</td>\n",
       "      <td>Leche UHT Entera Cuisine &amp; Co Caja 1 lt</td>\n",
       "      <td>S/. 4.75</td>\n",
       "    </tr>\n",
       "    <tr>\n",
       "      <th>4</th>\n",
       "      <td>Metro</td>\n",
       "      <td>Leche UHT Entera Monteagle Caja 1 Litro</td>\n",
       "      <td>S/. 3.90</td>\n",
       "    </tr>\n",
       "    <tr>\n",
       "      <th>...</th>\n",
       "      <td>...</td>\n",
       "      <td>...</td>\n",
       "      <td>...</td>\n",
       "    </tr>\n",
       "    <tr>\n",
       "      <th>175</th>\n",
       "      <td>Metro</td>\n",
       "      <td>Chocolate con Leche con Almendras Sublime Tableta 50 g</td>\n",
       "      <td>S/2.89</td>\n",
       "    </tr>\n",
       "    <tr>\n",
       "      <th>176</th>\n",
       "      <td>Metro</td>\n",
       "      <td>Chocolate con Leche Confitado Chin Chin Fiesta 200g</td>\n",
       "      <td>NaN</td>\n",
       "    </tr>\n",
       "    <tr>\n",
       "      <th>177</th>\n",
       "      <td>Metro</td>\n",
       "      <td>Chocolate con Leche 40% Cacao La Ibérica Ilusión de Chocolate 110g</td>\n",
       "      <td>S/24.50</td>\n",
       "    </tr>\n",
       "    <tr>\n",
       "      <th>178</th>\n",
       "      <td>Metro</td>\n",
       "      <td>Cereal Infantil en Polvo Cerelac 5 Cereales y Leche 400g</td>\n",
       "      <td>S/25.30</td>\n",
       "    </tr>\n",
       "    <tr>\n",
       "      <th>179</th>\n",
       "      <td>Metro</td>\n",
       "      <td>Chocolate con Leche XL Triángulo Barra 200 g</td>\n",
       "      <td>NaN</td>\n",
       "    </tr>\n",
       "  </tbody>\n",
       "</table>\n",
       "<p>180 rows × 3 columns</p>\n",
       "</div>"
      ],
      "text/plain": [
       "    Supermercado                                                            Producto    Precio\n",
       "0    Metro        Leche Evaporada Entera Gloria Pack de 6un 400g                      S/21.60 \n",
       "1    Metro        Leche UHT Gloria Sin Lactosa tripack 1 L                            S/16.20 \n",
       "2    Metro        Leche Entera Lata 395 g Pack 6 unid                                 S/21.40 \n",
       "3    Metro        Leche UHT Entera Cuisine & Co Caja 1 lt                             S/. 4.75\n",
       "4    Metro        Leche UHT Entera Monteagle Caja 1 Litro                             S/. 3.90\n",
       "..     ...                                            ...                                  ...\n",
       "175  Metro        Chocolate con Leche con Almendras Sublime Tableta 50 g              S/2.89  \n",
       "176  Metro        Chocolate con Leche Confitado Chin Chin Fiesta 200g                 NaN     \n",
       "177  Metro        Chocolate con Leche 40% Cacao La Ibérica Ilusión de Chocolate 110g  S/24.50 \n",
       "178  Metro        Cereal Infantil en Polvo Cerelac 5 Cereales y Leche 400g            S/25.30 \n",
       "179  Metro        Chocolate con Leche XL Triángulo Barra 200 g                        NaN     \n",
       "\n",
       "[180 rows x 3 columns]"
      ]
     },
     "execution_count": 12,
     "metadata": {},
     "output_type": "execute_result"
    }
   ],
   "source": [
    "#Exportacion de productos y precios a un archivo excel \n",
    "dic= {'Supermercado': supermercado1 ,'Producto': productos1 , \"Precio\": precios1}  # Crear diccionario con los values productos y precios (listas)\n",
    "df = pd.DataFrame(dic , columns= ['Supermercado', \"Producto\", \"Precio\"] ) # Convertir a dataframe con columnas de etiquetas Producto y Precio\n",
    "df.to_excel('metro.xlsx', index=False,encoding='cp1252')  # Exportar a excel\n",
    "\n",
    "# Lectura y muestra de resultados\n",
    "print(colored('Imprimiendo resultados.','blue'))  \n",
    "metro = pd.read_excel('metro.xlsx')\n",
    "metro"
   ]
  },
  {
   "cell_type": "code",
   "execution_count": 13,
   "id": "76f7436d",
   "metadata": {},
   "outputs": [],
   "source": [
    "driver.close()  # Cerrar chromedriver"
   ]
  },
  {
   "cell_type": "markdown",
   "id": "49997eca",
   "metadata": {},
   "source": [
    "<p style=\"color:#059a38\"> <font size=6.5> <b> Programa para obtener los productos y precios de supermercados Tottus (Usuario Christian) </b> </font> </p>   <font size=6.5> <b> "
   ]
  },
  {
   "cell_type": "code",
   "execution_count": 14,
   "id": "8955261d",
   "metadata": {},
   "outputs": [
    {
     "name": "stdout",
     "output_type": "stream",
     "text": [
      "\n"
     ]
    }
   ],
   "source": [
    "urls='https://www.tottus.com.pe/'\n",
    "options = webdriver.EdgeOptions()    #opciones del buscador \n",
    "options.add_argument('--incognito')  # Opcion de abrir ventana de Edge en modo incognito\n",
    "options.add_argument(\"--start-maximized\") # ventana maximizada \n",
    "s = Service(EdgeChromiumDriverManager().install())                       \n",
    "driver = webdriver.Edge(service=s, options = options) #,service=s\n",
    "driver.implicitly_wait(4) \n",
    "#driver.maximize_window()\n",
    "driver.get(urls)\n",
    "\n",
    "time.sleep(2)"
   ]
  },
  {
   "cell_type": "code",
   "execution_count": 15,
   "id": "c4551226",
   "metadata": {},
   "outputs": [],
   "source": [
    "#Al iniciar y entrar a la pagina de tottus nos salta un anuncio donde tottus nos quiere informar sobre sus mejores ofertas,\n",
    "#con este codigo automatizamos dando click en cancelar. \n",
    "WebDriverWait(driver, 20)\\\n",
    "    .until(EC.element_to_be_clickable((By.CSS_SELECTOR,\n",
    "                                      'button.align-right secondary slidedown-button'.replace(' ', '.'))))\\\n",
    "    .click()"
   ]
  },
  {
   "cell_type": "code",
   "execution_count": 16,
   "id": "761cc18e",
   "metadata": {},
   "outputs": [],
   "source": [
    "# Cerrando ventana de mensaje de anuncios de oferta por agosto\n",
    "driver.find_element(By.XPATH, '/html/body/div[3]/div/div/section/div[1]/div/button').click()\n",
    "time.sleep(1)"
   ]
  },
  {
   "cell_type": "code",
   "execution_count": 17,
   "id": "d533ca15",
   "metadata": {},
   "outputs": [],
   "source": [
    "# Configurando click para búsqueda de productos\n",
    "driver.find_element(By.XPATH, '/html/body/div[1]/div[2]/div[2]/div[1]/div[1]/section/div[1]/div/input').click()\n",
    "time.sleep(1)"
   ]
  },
  {
   "cell_type": "code",
   "execution_count": 18,
   "id": "28036ee0",
   "metadata": {},
   "outputs": [],
   "source": [
    "# Ingresando producto \n",
    "driver.find_element(By.XPATH, '/html/body/div[1]/div[2]/div[2]/div[1]/div[1]/section/div[1]/div/input').send_keys(busqueda + Keys.ENTER)\n",
    "time.sleep(1)"
   ]
  },
  {
   "cell_type": "code",
   "execution_count": 19,
   "id": "e544480b",
   "metadata": {},
   "outputs": [
    {
     "name": "stdout",
     "output_type": "stream",
     "text": [
      "(343 resultados)\n"
     ]
    },
    {
     "data": {
      "text/plain": [
       "8"
      ]
     },
     "execution_count": 19,
     "metadata": {},
     "output_type": "execute_result"
    }
   ],
   "source": [
    "#Obtener el número de paginas\n",
    "page = driver.find_element(By.XPATH, '/html/body/div[1]/section/div[1]/section/div[2]/div[1]/div[2]/section/div[1]/div[1]/p').text\n",
    "print(page)\n",
    "pag = int(page[1:4])/47  # Dividido por la cantidad de productos en un pagina\n",
    "import math\n",
    "paginas = math.ceil(pag)  # Redondeo arriba\n",
    "paginas"
   ]
  },
  {
   "cell_type": "code",
   "execution_count": 20,
   "id": "f0050eaf",
   "metadata": {},
   "outputs": [
    {
     "name": "stderr",
     "output_type": "stream",
     "text": [
      "100%|██████████████████████████████████████████████████████████████████████████████████| 48/48 [00:02<00:00, 22.28it/s]\n",
      "100%|██████████████████████████████████████████████████████████████████████████████████| 48/48 [00:01<00:00, 25.16it/s]\n",
      "100%|██████████████████████████████████████████████████████████████████████████████████| 48/48 [00:02<00:00, 23.23it/s]\n",
      "100%|██████████████████████████████████████████████████████████████████████████████████| 48/48 [00:02<00:00, 22.63it/s]\n",
      "100%|██████████████████████████████████████████████████████████████████████████████████| 48/48 [00:02<00:00, 21.34it/s]\n",
      "100%|██████████████████████████████████████████████████████████████████████████████████| 48/48 [00:02<00:00, 21.51it/s]\n",
      "100%|██████████████████████████████████████████████████████████████████████████████████| 48/48 [00:02<00:00, 20.97it/s]\n",
      "100%|████████████████████████████████████████████████████████████████████████████████████| 7/7 [00:00<00:00, 20.43it/s]\n"
     ]
    }
   ],
   "source": [
    "#list = []\n",
    "productos2 = []\n",
    "precios2 =[]\n",
    "supermercado2 = []\n",
    "n=1\n",
    "while n <= paginas:\n",
    "    driver.get(f'https://www.tottus.com.pe/buscar?q={busqueda}&page={n}')\n",
    "    time.sleep(2)\n",
    "    lista = driver.find_elements(By.XPATH,'//li[@class=\"product\"]')\n",
    "    for element in tqdm(lista):\n",
    "        name = element.find_element(By.XPATH,'.//h2[@class=\"jsx-369422875 name title mini\"]').text\n",
    "        price = element.find_element(By.XPATH,'.//span[@class=\"jsx-4019956066 \"]').text\n",
    "        productos2.append(name)\n",
    "        precios2.append(price)\n",
    "        supermercado2.append('Tottus')\n",
    "    #lista=list.append(lista)\n",
    "    n += 1\n"
   ]
  },
  {
   "cell_type": "code",
   "execution_count": 23,
   "id": "396e8f7b",
   "metadata": {},
   "outputs": [
    {
     "name": "stdout",
     "output_type": "stream",
     "text": [
      "\u001b[32mSe llegó a extraer todos los productos?\u001b[0m\n",
      "True\n"
     ]
    }
   ],
   "source": [
    "print(colored('Se llegó a extraer todos los productos?','green'))  \n",
    "print(len(productos2) >= int(paginas)) # Comparación "
   ]
  },
  {
   "cell_type": "code",
   "execution_count": 24,
   "id": "a22d2434",
   "metadata": {},
   "outputs": [
    {
     "data": {
      "text/html": [
       "<div>\n",
       "<style scoped>\n",
       "    .dataframe tbody tr th:only-of-type {\n",
       "        vertical-align: middle;\n",
       "    }\n",
       "\n",
       "    .dataframe tbody tr th {\n",
       "        vertical-align: top;\n",
       "    }\n",
       "\n",
       "    .dataframe thead th {\n",
       "        text-align: right;\n",
       "    }\n",
       "</style>\n",
       "<table border=\"1\" class=\"dataframe\">\n",
       "  <thead>\n",
       "    <tr style=\"text-align: right;\">\n",
       "      <th></th>\n",
       "      <th>Supermercado</th>\n",
       "      <th>Producto</th>\n",
       "      <th>Precio</th>\n",
       "    </tr>\n",
       "  </thead>\n",
       "  <tbody>\n",
       "    <tr>\n",
       "      <th>0</th>\n",
       "      <td>Tottus</td>\n",
       "      <td>SIX PACK MEZCLA LÁCTEA IDEAL AMANECER 6 UNIDADES</td>\n",
       "      <td>s/ 16.3 UN</td>\n",
       "    </tr>\n",
       "    <tr>\n",
       "      <th>1</th>\n",
       "      <td>Tottus</td>\n",
       "      <td>SIX PACK LECHE EVAPORADA IDEAL 395 GR</td>\n",
       "      <td>s/ 20.9 UN</td>\n",
       "    </tr>\n",
       "    <tr>\n",
       "      <th>2</th>\n",
       "      <td>Tottus</td>\n",
       "      <td>LECHE FRESCA ENTERA GLORIA 1 LT</td>\n",
       "      <td>s/ 5.7 UN</td>\n",
       "    </tr>\n",
       "    <tr>\n",
       "      <th>3</th>\n",
       "      <td>Tottus</td>\n",
       "      <td>LECHE EVAPORADA GLORIA 400 GR</td>\n",
       "      <td>s/ 4.4 UN</td>\n",
       "    </tr>\n",
       "    <tr>\n",
       "      <th>4</th>\n",
       "      <td>Tottus</td>\n",
       "      <td>PACK LECHE SEMIDESCREMADA GLORIA 3 UNIDADES</td>\n",
       "      <td>s/ 16.4 UN</td>\n",
       "    </tr>\n",
       "    <tr>\n",
       "      <th>...</th>\n",
       "      <td>...</td>\n",
       "      <td>...</td>\n",
       "      <td>...</td>\n",
       "    </tr>\n",
       "    <tr>\n",
       "      <th>338</th>\n",
       "      <td>Tottus</td>\n",
       "      <td>CREMA DE LECHE PASTEURIZADA PIAMONTE 236 ML</td>\n",
       "      <td>s/ 6.5 UN</td>\n",
       "    </tr>\n",
       "    <tr>\n",
       "      <th>339</th>\n",
       "      <td>Tottus</td>\n",
       "      <td>BATIDO NUTRICIONAL BENET ENERGÍA 200 GR</td>\n",
       "      <td>s/ 34.9 UN</td>\n",
       "    </tr>\n",
       "    <tr>\n",
       "      <th>340</th>\n",
       "      <td>Tottus</td>\n",
       "      <td>BATIDO NUTRICIONAL BENET VAINILLA 400 GR</td>\n",
       "      <td>s/ 47.9 UN</td>\n",
       "    </tr>\n",
       "    <tr>\n",
       "      <th>341</th>\n",
       "      <td>Tottus</td>\n",
       "      <td>BATIDO NUTRICIONAL BENET VAINILLA 800 GR</td>\n",
       "      <td>s/ 89.9 UN</td>\n",
       "    </tr>\n",
       "    <tr>\n",
       "      <th>342</th>\n",
       "      <td>Tottus</td>\n",
       "      <td>CEREAL CORN FLAKES LECHE CONDENSADA 230 GR</td>\n",
       "      <td>s/ 11.9 UN\\ns/ 13.9 UN</td>\n",
       "    </tr>\n",
       "  </tbody>\n",
       "</table>\n",
       "<p>343 rows × 3 columns</p>\n",
       "</div>"
      ],
      "text/plain": [
       "    Supermercado                                          Producto                  Precio\n",
       "0    Tottus       SIX PACK MEZCLA LÁCTEA IDEAL AMANECER 6 UNIDADES  s/ 16.3 UN            \n",
       "1    Tottus       SIX PACK LECHE EVAPORADA IDEAL 395 GR             s/ 20.9 UN            \n",
       "2    Tottus       LECHE FRESCA ENTERA GLORIA 1 LT                   s/ 5.7 UN             \n",
       "3    Tottus       LECHE EVAPORADA GLORIA 400 GR                     s/ 4.4 UN             \n",
       "4    Tottus       PACK LECHE SEMIDESCREMADA GLORIA 3 UNIDADES       s/ 16.4 UN            \n",
       "..      ...                                               ...              ...            \n",
       "338  Tottus       CREMA DE LECHE PASTEURIZADA PIAMONTE 236 ML       s/ 6.5 UN             \n",
       "339  Tottus       BATIDO NUTRICIONAL BENET ENERGÍA 200 GR           s/ 34.9 UN            \n",
       "340  Tottus       BATIDO NUTRICIONAL BENET VAINILLA 400 GR          s/ 47.9 UN            \n",
       "341  Tottus       BATIDO NUTRICIONAL BENET VAINILLA 800 GR          s/ 89.9 UN            \n",
       "342  Tottus       CEREAL CORN FLAKES LECHE CONDENSADA 230 GR        s/ 11.9 UN\\ns/ 13.9 UN\n",
       "\n",
       "[343 rows x 3 columns]"
      ]
     },
     "execution_count": 24,
     "metadata": {},
     "output_type": "execute_result"
    }
   ],
   "source": [
    "dic= {'Supermercado':supermercado2 , 'Producto': productos2,\"Precio\": precios2 }\n",
    "df = pd.DataFrame(dic , columns= ['Supermercado',\"Producto\",\"Precio\"] )\n",
    "df.to_excel('tottus.xlsx', index=False,encoding='cp1252')\n",
    "\n",
    "# Lectura\n",
    "tottus = pd.read_excel('tottus.xlsx')\n",
    "tottus"
   ]
  },
  {
   "cell_type": "code",
   "execution_count": 25,
   "id": "95e4b758",
   "metadata": {},
   "outputs": [],
   "source": [
    "driver.close()  # Cerrar chromedriver"
   ]
  },
  {
   "cell_type": "markdown",
   "id": "430491e3",
   "metadata": {},
   "source": [
    "<p style=\"color:#fc0313\"> <font size=6.5> <b> Programa para obtener los productos y precios de supermercados Plaza Vea  (Usuario Brian)  </b> </font> </p>   <font size=6.5> <b>"
   ]
  },
  {
   "cell_type": "code",
   "execution_count": 28,
   "id": "50b70a5f",
   "metadata": {},
   "outputs": [
    {
     "name": "stdout",
     "output_type": "stream",
     "text": [
      "\n"
     ]
    }
   ],
   "source": [
    "url='https://www.plazavea.com.pe'\n",
    "options = webdriver.EdgeOptions()    #opciones del buscador \n",
    "options.add_argument('--incognito')  # Opcion de abrir ventana de Edge en modo incognito\n",
    "options.add_argument(\"--start-maximized\") # ventana maximizada \n",
    "s = Service(EdgeChromiumDriverManager().install())                       \n",
    "driver = webdriver.Edge(service=s, options = options) #,service=s\n",
    "driver.implicitly_wait(4) \n",
    "#driver.maximize_window()\n",
    "driver.get(url)\n",
    "time.sleep(2)"
   ]
  },
  {
   "cell_type": "code",
   "execution_count": 29,
   "id": "4775900d",
   "metadata": {},
   "outputs": [],
   "source": [
    "driver.find_element(By.XPATH, '/html/body/div[12]/div/div/div[2]/button[2]').click()"
   ]
  },
  {
   "cell_type": "code",
   "execution_count": 30,
   "id": "05b3f09d",
   "metadata": {},
   "outputs": [],
   "source": [
    "driver.find_element(By.XPATH, '/html/body/div[3]/header/div[2]/div/div[4]/section/div[2]/div/div/input').click()"
   ]
  },
  {
   "cell_type": "code",
   "execution_count": 31,
   "id": "339e3dbb",
   "metadata": {},
   "outputs": [],
   "source": [
    "driver.find_element(By.XPATH, '/html/body/div[3]/header/div[2]/div/div[4]/section/div[2]/div[2]/div[1]/input').send_keys(busqueda + Keys.ENTER)"
   ]
  },
  {
   "cell_type": "code",
   "execution_count": 32,
   "id": "025e7cd4",
   "metadata": {},
   "outputs": [
    {
     "data": {
      "text/plain": [
       "5"
      ]
     },
     "execution_count": 32,
     "metadata": {},
     "output_type": "execute_result"
    }
   ],
   "source": [
    "page=driver.find_element(By.XPATH, '/html/body/div[4]/main/div/div[1]/div[2]/div[3]/div/div[1]/div/h2/span[2]').text\n",
    "pag = int(page[1:4])/46\n",
    "import math\n",
    "paginas = math.ceil(pag)  # Redondeo arriba\n",
    "paginas"
   ]
  },
  {
   "cell_type": "code",
   "execution_count": 33,
   "id": "911313e5",
   "metadata": {},
   "outputs": [
    {
     "name": "stderr",
     "output_type": "stream",
     "text": [
      "100%|██████████████████████████████████████████████████████████████████████████████████| 50/50 [00:04<00:00, 11.05it/s]\n",
      "100%|██████████████████████████████████████████████████████████████████████████████████| 50/50 [00:02<00:00, 19.33it/s]\n",
      "100%|██████████████████████████████████████████████████████████████████████████████████| 50/50 [00:02<00:00, 18.16it/s]\n",
      "100%|██████████████████████████████████████████████████████████████████████████████████| 50/50 [00:03<00:00, 16.64it/s]\n",
      "100%|████████████████████████████████████████████████████████████████████████████████████| 3/3 [00:00<00:00,  9.58it/s]\n"
     ]
    }
   ],
   "source": [
    "productos3 = []\n",
    "precios3 =[]\n",
    "supermercado3 = []\n",
    "n=1\n",
    "\n",
    "while n <= paginas:\n",
    "    driver.find_element(By.CSS_SELECTOR, f'#category-page > div.vitrine.resultItemsWrapper > div > div.paginator-container > div > div > span:nth-child({n})').click()\n",
    "    time.sleep(3)\n",
    "    lista = driver.find_elements(By.XPATH,'//div[@data-stock=\"true\"]')\n",
    "    for element in tqdm(lista):\n",
    "        name = element.find_element(By.XPATH,'.//a[@class=\"Showcase__name\"]').text\n",
    "        price = element.find_element(By.XPATH,'.//span[@class=\"price\"]').text\n",
    "        productos3.append(name)\n",
    "        precios3.append(price)\n",
    "        supermercado3.append('Plaza Vea')\n",
    "    n += 1   "
   ]
  },
  {
   "cell_type": "code",
   "execution_count": 34,
   "id": "3f80ea04",
   "metadata": {},
   "outputs": [
    {
     "data": {
      "text/html": [
       "<div>\n",
       "<style scoped>\n",
       "    .dataframe tbody tr th:only-of-type {\n",
       "        vertical-align: middle;\n",
       "    }\n",
       "\n",
       "    .dataframe tbody tr th {\n",
       "        vertical-align: top;\n",
       "    }\n",
       "\n",
       "    .dataframe thead th {\n",
       "        text-align: right;\n",
       "    }\n",
       "</style>\n",
       "<table border=\"1\" class=\"dataframe\">\n",
       "  <thead>\n",
       "    <tr style=\"text-align: right;\">\n",
       "      <th></th>\n",
       "      <th>Supermercado</th>\n",
       "      <th>Producto</th>\n",
       "      <th>Precio</th>\n",
       "    </tr>\n",
       "  </thead>\n",
       "  <tbody>\n",
       "    <tr>\n",
       "      <th>0</th>\n",
       "      <td>Plaza Vea</td>\n",
       "      <td>Leche Evaporada GLORIA Light Lata 400g Paquete...</td>\n",
       "      <td>S/ 21.60 un</td>\n",
       "    </tr>\n",
       "    <tr>\n",
       "      <th>1</th>\n",
       "      <td>Plaza Vea</td>\n",
       "      <td>Leche Evaporada GLORIA sin Lactosa Lata 400g P...</td>\n",
       "      <td>S/ 22.80 un</td>\n",
       "    </tr>\n",
       "    <tr>\n",
       "      <th>2</th>\n",
       "      <td>Plaza Vea</td>\n",
       "      <td>Leche GLORIA Evaporada Entera Lata 400g Paquet...</td>\n",
       "      <td>S/ 21.60 un</td>\n",
       "    </tr>\n",
       "    <tr>\n",
       "      <th>3</th>\n",
       "      <td>Plaza Vea</td>\n",
       "      <td>Leche GLORIA Evaporada Niños Lata 400g Paquete...</td>\n",
       "      <td>S/ 21.60 un</td>\n",
       "    </tr>\n",
       "    <tr>\n",
       "      <th>4</th>\n",
       "      <td>Plaza Vea</td>\n",
       "      <td>Leche Sin Lactosa LAIVE Botella 400g Paquete 6...</td>\n",
       "      <td>S/ 21.90 un</td>\n",
       "    </tr>\n",
       "    <tr>\n",
       "      <th>...</th>\n",
       "      <td>...</td>\n",
       "      <td>...</td>\n",
       "      <td>...</td>\n",
       "    </tr>\n",
       "    <tr>\n",
       "      <th>198</th>\n",
       "      <td>Plaza Vea</td>\n",
       "      <td>Gancho Pinza Pico Mediano 2 Dientes CO13DL Dul...</td>\n",
       "      <td>S/ 17 un</td>\n",
       "    </tr>\n",
       "    <tr>\n",
       "      <th>199</th>\n",
       "      <td>Plaza Vea</td>\n",
       "      <td>Extractor de leche manual Nuby con recipiente ...</td>\n",
       "      <td>S/ 100 un</td>\n",
       "    </tr>\n",
       "    <tr>\n",
       "      <th>200</th>\n",
       "      <td>Plaza Vea</td>\n",
       "      <td>Extractor de leche eléctrico con Biberón 5 oz ...</td>\n",
       "      <td>S/ 799.90 un</td>\n",
       "    </tr>\n",
       "    <tr>\n",
       "      <th>201</th>\n",
       "      <td>Plaza Vea</td>\n",
       "      <td>Pack Munchkin Dispensador de Leche en Polvo / ...</td>\n",
       "      <td>S/ 59 un</td>\n",
       "    </tr>\n",
       "    <tr>\n",
       "      <th>202</th>\n",
       "      <td>Plaza Vea</td>\n",
       "      <td>Dispensador de leche en polvo azul</td>\n",
       "      <td>S/ 33.90 un</td>\n",
       "    </tr>\n",
       "  </tbody>\n",
       "</table>\n",
       "<p>203 rows × 3 columns</p>\n",
       "</div>"
      ],
      "text/plain": [
       "    Supermercado                                           Producto        Precio\n",
       "0    Plaza Vea    Leche Evaporada GLORIA Light Lata 400g Paquete...  S/ 21.60 un \n",
       "1    Plaza Vea    Leche Evaporada GLORIA sin Lactosa Lata 400g P...  S/ 22.80 un \n",
       "2    Plaza Vea    Leche GLORIA Evaporada Entera Lata 400g Paquet...  S/ 21.60 un \n",
       "3    Plaza Vea    Leche GLORIA Evaporada Niños Lata 400g Paquete...  S/ 21.60 un \n",
       "4    Plaza Vea    Leche Sin Lactosa LAIVE Botella 400g Paquete 6...  S/ 21.90 un \n",
       "..         ...                                                  ...          ... \n",
       "198  Plaza Vea    Gancho Pinza Pico Mediano 2 Dientes CO13DL Dul...  S/ 17 un    \n",
       "199  Plaza Vea    Extractor de leche manual Nuby con recipiente ...  S/ 100 un   \n",
       "200  Plaza Vea    Extractor de leche eléctrico con Biberón 5 oz ...  S/ 799.90 un\n",
       "201  Plaza Vea    Pack Munchkin Dispensador de Leche en Polvo / ...  S/ 59 un    \n",
       "202  Plaza Vea    Dispensador de leche en polvo azul                 S/ 33.90 un \n",
       "\n",
       "[203 rows x 3 columns]"
      ]
     },
     "execution_count": 34,
     "metadata": {},
     "output_type": "execute_result"
    }
   ],
   "source": [
    "dic= {'Supermercado':supermercado3 , 'Producto': productos3,\"Precio\": precios3 }\n",
    "df = pd.DataFrame(dic , columns= ['Supermercado',\"Producto\",\"Precio\"] )\n",
    "df.to_excel('plazavea.xlsx', index=False,encoding='cp1252')\n",
    "# Lectura\n",
    "plazavea=pd.read_excel('plazavea.xlsx')\n",
    "plazavea"
   ]
  },
  {
   "cell_type": "code",
   "execution_count": 35,
   "id": "799a048c",
   "metadata": {},
   "outputs": [],
   "source": [
    "driver.close()  # Cerrar chromedriver"
   ]
  },
  {
   "cell_type": "markdown",
   "id": "f2e78049",
   "metadata": {},
   "source": [
    "# Comparar productos de acuerdo a una búsqueda en común (FASE de prueba)"
   ]
  },
  {
   "cell_type": "code",
   "execution_count": 37,
   "id": "a58475b9",
   "metadata": {},
   "outputs": [
    {
     "data": {
      "text/html": [
       "<div>\n",
       "<style scoped>\n",
       "    .dataframe tbody tr th:only-of-type {\n",
       "        vertical-align: middle;\n",
       "    }\n",
       "\n",
       "    .dataframe tbody tr th {\n",
       "        vertical-align: top;\n",
       "    }\n",
       "\n",
       "    .dataframe thead th {\n",
       "        text-align: right;\n",
       "    }\n",
       "</style>\n",
       "<table border=\"1\" class=\"dataframe\">\n",
       "  <thead>\n",
       "    <tr style=\"text-align: right;\">\n",
       "      <th></th>\n",
       "      <th>Supermercado</th>\n",
       "      <th>Producto</th>\n",
       "      <th>Precio</th>\n",
       "    </tr>\n",
       "  </thead>\n",
       "  <tbody>\n",
       "    <tr>\n",
       "      <th>0</th>\n",
       "      <td>Metro</td>\n",
       "      <td>Leche Evaporada Semidescremada Light Gloria Lata 400 gr</td>\n",
       "      <td>S/4.30</td>\n",
       "    </tr>\n",
       "    <tr>\n",
       "      <th>1</th>\n",
       "      <td>Metro</td>\n",
       "      <td>Leche Evaporada Niños Gloria Lata 400 gr</td>\n",
       "      <td>S/4.20</td>\n",
       "    </tr>\n",
       "    <tr>\n",
       "      <th>2</th>\n",
       "      <td>Metro</td>\n",
       "      <td>Leche Evaporada Niños Gloria Lata 400 gr</td>\n",
       "      <td>S/4.20</td>\n",
       "    </tr>\n",
       "    <tr>\n",
       "      <th>3</th>\n",
       "      <td>Metro</td>\n",
       "      <td>Leche Evaporada Entera Gloria Lata 400 gr</td>\n",
       "      <td>S/3.95</td>\n",
       "    </tr>\n",
       "    <tr>\n",
       "      <th>4</th>\n",
       "      <td>Metro</td>\n",
       "      <td>Leche Evaporada Descremada Gloria Pack de 6 unid Lata 400 gr</td>\n",
       "      <td>S/26.50</td>\n",
       "    </tr>\n",
       "    <tr>\n",
       "      <th>5</th>\n",
       "      <td>Metro</td>\n",
       "      <td>Leche Concentrada Sin Lactosa Gloria Pack de 6 unid Lata 400 gr</td>\n",
       "      <td>S/23.30</td>\n",
       "    </tr>\n",
       "    <tr>\n",
       "      <th>6</th>\n",
       "      <td>Metro</td>\n",
       "      <td>Leche Evaporada Entera Gloria Pack de 6un 400g</td>\n",
       "      <td>S/21.60</td>\n",
       "    </tr>\n",
       "    <tr>\n",
       "      <th>7</th>\n",
       "      <td>Metro</td>\n",
       "      <td>Leche Evaporada Entera Gloria Pack de 6un 400g</td>\n",
       "      <td>S/21.60</td>\n",
       "    </tr>\n",
       "  </tbody>\n",
       "</table>\n",
       "</div>"
      ],
      "text/plain": [
       "  Supermercado                                                         Producto   Precio\n",
       "0  Metro        Leche Evaporada Semidescremada Light Gloria Lata 400 gr          S/4.30 \n",
       "1  Metro        Leche Evaporada Niños Gloria Lata 400 gr                         S/4.20 \n",
       "2  Metro        Leche Evaporada Niños Gloria Lata 400 gr                         S/4.20 \n",
       "3  Metro        Leche Evaporada Entera Gloria Lata 400 gr                        S/3.95 \n",
       "4  Metro        Leche Evaporada Descremada Gloria Pack de 6 unid Lata 400 gr     S/26.50\n",
       "5  Metro        Leche Concentrada Sin Lactosa Gloria Pack de 6 unid Lata 400 gr  S/23.30\n",
       "6  Metro        Leche Evaporada Entera Gloria Pack de 6un 400g                   S/21.60\n",
       "7  Metro        Leche Evaporada Entera Gloria Pack de 6un 400g                   S/21.60"
      ]
     },
     "execution_count": 37,
     "metadata": {},
     "output_type": "execute_result"
    }
   ],
   "source": [
    "df_metro = metro[metro['Producto'].str.count(r'(Leche.*Gloria.*400.*)')==1].sort_values(by='Precio', ascending = False)\n",
    "df_metro=df_metro.reset_index(drop=True) \n",
    "df_metro"
   ]
  },
  {
   "cell_type": "code",
   "execution_count": 38,
   "id": "4c946ffe",
   "metadata": {},
   "outputs": [
    {
     "data": {
      "text/html": [
       "<div>\n",
       "<style scoped>\n",
       "    .dataframe tbody tr th:only-of-type {\n",
       "        vertical-align: middle;\n",
       "    }\n",
       "\n",
       "    .dataframe tbody tr th {\n",
       "        vertical-align: top;\n",
       "    }\n",
       "\n",
       "    .dataframe thead th {\n",
       "        text-align: right;\n",
       "    }\n",
       "</style>\n",
       "<table border=\"1\" class=\"dataframe\">\n",
       "  <thead>\n",
       "    <tr style=\"text-align: right;\">\n",
       "      <th></th>\n",
       "      <th>Supermercado</th>\n",
       "      <th>Producto</th>\n",
       "      <th>Precio</th>\n",
       "    </tr>\n",
       "  </thead>\n",
       "  <tbody>\n",
       "    <tr>\n",
       "      <th>0</th>\n",
       "      <td>Tottus</td>\n",
       "      <td>LECHE SIN LACTOSA GLORIA 400 GR</td>\n",
       "      <td>s/ 4.9 UN</td>\n",
       "    </tr>\n",
       "    <tr>\n",
       "      <th>1</th>\n",
       "      <td>Tottus</td>\n",
       "      <td>LECHE EVAPORADA GLORIA LIGHT 400 GR</td>\n",
       "      <td>s/ 4.7 UN</td>\n",
       "    </tr>\n",
       "    <tr>\n",
       "      <th>2</th>\n",
       "      <td>Tottus</td>\n",
       "      <td>LECHE EVAPORADA NIÑOS DEFENSA GLORIA 400 GR</td>\n",
       "      <td>s/ 4.5 UN</td>\n",
       "    </tr>\n",
       "    <tr>\n",
       "      <th>3</th>\n",
       "      <td>Tottus</td>\n",
       "      <td>LECHE EVAPORADA GLORIA 400 GR</td>\n",
       "      <td>s/ 4.4 UN</td>\n",
       "    </tr>\n",
       "    <tr>\n",
       "      <th>4</th>\n",
       "      <td>Tottus</td>\n",
       "      <td>SIX PACK LECHE EVAPORADA DESCREMADA GLORIA 400 GR</td>\n",
       "      <td>s/ 27.2 UN</td>\n",
       "    </tr>\n",
       "    <tr>\n",
       "      <th>5</th>\n",
       "      <td>Tottus</td>\n",
       "      <td>SIX PACK LECHE EVAPORADA NIÑOS DHA GLORIA 400 GR</td>\n",
       "      <td>s/ 22.4 UN\\ns/ 23 UN</td>\n",
       "    </tr>\n",
       "  </tbody>\n",
       "</table>\n",
       "</div>"
      ],
      "text/plain": [
       "  Supermercado                                           Producto                Precio\n",
       "0  Tottus       LECHE SIN LACTOSA GLORIA 400 GR                    s/ 4.9 UN           \n",
       "1  Tottus       LECHE EVAPORADA GLORIA LIGHT 400 GR                s/ 4.7 UN           \n",
       "2  Tottus       LECHE EVAPORADA NIÑOS DEFENSA GLORIA 400 GR        s/ 4.5 UN           \n",
       "3  Tottus       LECHE EVAPORADA GLORIA 400 GR                      s/ 4.4 UN           \n",
       "4  Tottus       SIX PACK LECHE EVAPORADA DESCREMADA GLORIA 400 GR  s/ 27.2 UN          \n",
       "5  Tottus       SIX PACK LECHE EVAPORADA NIÑOS DHA GLORIA 400 GR   s/ 22.4 UN\\ns/ 23 UN"
      ]
     },
     "execution_count": 38,
     "metadata": {},
     "output_type": "execute_result"
    }
   ],
   "source": [
    "df_tottus = tottus[tottus['Producto'].str.count(r'(LECHE.*GLORIA.*400.*)')==1].sort_values(by='Precio', ascending = False)\n",
    "df_tottus=df_tottus.reset_index(drop=True) \n",
    "df_tottus"
   ]
  },
  {
   "cell_type": "code",
   "execution_count": 39,
   "id": "13c47af2",
   "metadata": {},
   "outputs": [
    {
     "data": {
      "text/html": [
       "<div>\n",
       "<style scoped>\n",
       "    .dataframe tbody tr th:only-of-type {\n",
       "        vertical-align: middle;\n",
       "    }\n",
       "\n",
       "    .dataframe tbody tr th {\n",
       "        vertical-align: top;\n",
       "    }\n",
       "\n",
       "    .dataframe thead th {\n",
       "        text-align: right;\n",
       "    }\n",
       "</style>\n",
       "<table border=\"1\" class=\"dataframe\">\n",
       "  <thead>\n",
       "    <tr style=\"text-align: right;\">\n",
       "      <th></th>\n",
       "      <th>Supermercado</th>\n",
       "      <th>Producto</th>\n",
       "      <th>Precio</th>\n",
       "    </tr>\n",
       "  </thead>\n",
       "  <tbody>\n",
       "    <tr>\n",
       "      <th>0</th>\n",
       "      <td>Plaza Vea</td>\n",
       "      <td>Leche GLORIA Evaporada Sin Lactosa Lata 400g</td>\n",
       "      <td>S/ 4.50 un</td>\n",
       "    </tr>\n",
       "    <tr>\n",
       "      <th>1</th>\n",
       "      <td>Plaza Vea</td>\n",
       "      <td>Leche Evaporada GLORIA Light Lata 400g</td>\n",
       "      <td>S/ 4.30 un</td>\n",
       "    </tr>\n",
       "    <tr>\n",
       "      <th>2</th>\n",
       "      <td>Plaza Vea</td>\n",
       "      <td>Leche GLORIA Evaporada Entera Lata 400g</td>\n",
       "      <td>S/ 3.99 un</td>\n",
       "    </tr>\n",
       "    <tr>\n",
       "      <th>3</th>\n",
       "      <td>Plaza Vea</td>\n",
       "      <td>Leche GLORIA Evaporada Descremada Lata 400g Pa...</td>\n",
       "      <td>S/ 26.50 un</td>\n",
       "    </tr>\n",
       "    <tr>\n",
       "      <th>4</th>\n",
       "      <td>Plaza Vea</td>\n",
       "      <td>Leche Evaporada GLORIA sin Lactosa Lata 400g P...</td>\n",
       "      <td>S/ 22.80 un</td>\n",
       "    </tr>\n",
       "    <tr>\n",
       "      <th>5</th>\n",
       "      <td>Plaza Vea</td>\n",
       "      <td>Leche Evaporada GLORIA Light Lata 400g Paquete...</td>\n",
       "      <td>S/ 21.60 un</td>\n",
       "    </tr>\n",
       "    <tr>\n",
       "      <th>6</th>\n",
       "      <td>Plaza Vea</td>\n",
       "      <td>Leche GLORIA Evaporada Entera Lata 400g Paquet...</td>\n",
       "      <td>S/ 21.60 un</td>\n",
       "    </tr>\n",
       "    <tr>\n",
       "      <th>7</th>\n",
       "      <td>Plaza Vea</td>\n",
       "      <td>Leche GLORIA Evaporada Niños Lata 400g Paquete...</td>\n",
       "      <td>S/ 21.60 un</td>\n",
       "    </tr>\n",
       "  </tbody>\n",
       "</table>\n",
       "</div>"
      ],
      "text/plain": [
       "  Supermercado                                           Producto       Precio\n",
       "0  Plaza Vea    Leche GLORIA Evaporada Sin Lactosa Lata 400g       S/ 4.50 un \n",
       "1  Plaza Vea    Leche Evaporada GLORIA Light Lata 400g             S/ 4.30 un \n",
       "2  Plaza Vea    Leche GLORIA Evaporada Entera Lata 400g            S/ 3.99 un \n",
       "3  Plaza Vea    Leche GLORIA Evaporada Descremada Lata 400g Pa...  S/ 26.50 un\n",
       "4  Plaza Vea    Leche Evaporada GLORIA sin Lactosa Lata 400g P...  S/ 22.80 un\n",
       "5  Plaza Vea    Leche Evaporada GLORIA Light Lata 400g Paquete...  S/ 21.60 un\n",
       "6  Plaza Vea    Leche GLORIA Evaporada Entera Lata 400g Paquet...  S/ 21.60 un\n",
       "7  Plaza Vea    Leche GLORIA Evaporada Niños Lata 400g Paquete...  S/ 21.60 un"
      ]
     },
     "execution_count": 39,
     "metadata": {},
     "output_type": "execute_result"
    }
   ],
   "source": [
    "df_plazavea= plazavea[plazavea['Producto'].str.count(r'(Leche.*GLORIA.*400.*)')==1].sort_values(by='Precio', ascending = False) \n",
    "df_plazavea = df_plazavea.reset_index(drop=True)\n",
    "df_plazavea"
   ]
  },
  {
   "cell_type": "code",
   "execution_count": 40,
   "id": "e3a3cc96",
   "metadata": {},
   "outputs": [
    {
     "data": {
      "text/html": [
       "<div>\n",
       "<style scoped>\n",
       "    .dataframe tbody tr th:only-of-type {\n",
       "        vertical-align: middle;\n",
       "    }\n",
       "\n",
       "    .dataframe tbody tr th {\n",
       "        vertical-align: top;\n",
       "    }\n",
       "\n",
       "    .dataframe thead th {\n",
       "        text-align: right;\n",
       "    }\n",
       "</style>\n",
       "<table border=\"1\" class=\"dataframe\">\n",
       "  <thead>\n",
       "    <tr style=\"text-align: right;\">\n",
       "      <th></th>\n",
       "      <th>Supermercado</th>\n",
       "      <th>Producto</th>\n",
       "      <th>Precio</th>\n",
       "    </tr>\n",
       "  </thead>\n",
       "  <tbody>\n",
       "    <tr>\n",
       "      <th>0</th>\n",
       "      <td>Metro</td>\n",
       "      <td>Leche Evaporada Semidescremada Light Gloria Lata 400 gr</td>\n",
       "      <td>S/4.30</td>\n",
       "    </tr>\n",
       "    <tr>\n",
       "      <th>1</th>\n",
       "      <td>Metro</td>\n",
       "      <td>Leche Evaporada Niños Gloria Lata 400 gr</td>\n",
       "      <td>S/4.20</td>\n",
       "    </tr>\n",
       "    <tr>\n",
       "      <th>2</th>\n",
       "      <td>Metro</td>\n",
       "      <td>Leche Evaporada Niños Gloria Lata 400 gr</td>\n",
       "      <td>S/4.20</td>\n",
       "    </tr>\n",
       "    <tr>\n",
       "      <th>3</th>\n",
       "      <td>Metro</td>\n",
       "      <td>Leche Evaporada Entera Gloria Lata 400 gr</td>\n",
       "      <td>S/3.95</td>\n",
       "    </tr>\n",
       "    <tr>\n",
       "      <th>4</th>\n",
       "      <td>Metro</td>\n",
       "      <td>Leche Evaporada Descremada Gloria Pack de 6 unid Lata 400 gr</td>\n",
       "      <td>S/26.50</td>\n",
       "    </tr>\n",
       "    <tr>\n",
       "      <th>5</th>\n",
       "      <td>Metro</td>\n",
       "      <td>Leche Concentrada Sin Lactosa Gloria Pack de 6 unid Lata 400 gr</td>\n",
       "      <td>S/23.30</td>\n",
       "    </tr>\n",
       "    <tr>\n",
       "      <th>6</th>\n",
       "      <td>Metro</td>\n",
       "      <td>Leche Evaporada Entera Gloria Pack de 6un 400g</td>\n",
       "      <td>S/21.60</td>\n",
       "    </tr>\n",
       "    <tr>\n",
       "      <th>7</th>\n",
       "      <td>Metro</td>\n",
       "      <td>Leche Evaporada Entera Gloria Pack de 6un 400g</td>\n",
       "      <td>S/21.60</td>\n",
       "    </tr>\n",
       "    <tr>\n",
       "      <th>0</th>\n",
       "      <td>Tottus</td>\n",
       "      <td>LECHE SIN LACTOSA GLORIA 400 GR</td>\n",
       "      <td>s/ 4.9 UN</td>\n",
       "    </tr>\n",
       "    <tr>\n",
       "      <th>1</th>\n",
       "      <td>Tottus</td>\n",
       "      <td>LECHE EVAPORADA GLORIA LIGHT 400 GR</td>\n",
       "      <td>s/ 4.7 UN</td>\n",
       "    </tr>\n",
       "    <tr>\n",
       "      <th>2</th>\n",
       "      <td>Tottus</td>\n",
       "      <td>LECHE EVAPORADA NIÑOS DEFENSA GLORIA 400 GR</td>\n",
       "      <td>s/ 4.5 UN</td>\n",
       "    </tr>\n",
       "    <tr>\n",
       "      <th>3</th>\n",
       "      <td>Tottus</td>\n",
       "      <td>LECHE EVAPORADA GLORIA 400 GR</td>\n",
       "      <td>s/ 4.4 UN</td>\n",
       "    </tr>\n",
       "    <tr>\n",
       "      <th>4</th>\n",
       "      <td>Tottus</td>\n",
       "      <td>SIX PACK LECHE EVAPORADA DESCREMADA GLORIA 400 GR</td>\n",
       "      <td>s/ 27.2 UN</td>\n",
       "    </tr>\n",
       "    <tr>\n",
       "      <th>5</th>\n",
       "      <td>Tottus</td>\n",
       "      <td>SIX PACK LECHE EVAPORADA NIÑOS DHA GLORIA 400 GR</td>\n",
       "      <td>s/ 22.4 UN\\ns/ 23 UN</td>\n",
       "    </tr>\n",
       "    <tr>\n",
       "      <th>0</th>\n",
       "      <td>Plaza Vea</td>\n",
       "      <td>Leche GLORIA Evaporada Sin Lactosa Lata 400g</td>\n",
       "      <td>S/ 4.50 un</td>\n",
       "    </tr>\n",
       "    <tr>\n",
       "      <th>1</th>\n",
       "      <td>Plaza Vea</td>\n",
       "      <td>Leche Evaporada GLORIA Light Lata 400g</td>\n",
       "      <td>S/ 4.30 un</td>\n",
       "    </tr>\n",
       "    <tr>\n",
       "      <th>2</th>\n",
       "      <td>Plaza Vea</td>\n",
       "      <td>Leche GLORIA Evaporada Entera Lata 400g</td>\n",
       "      <td>S/ 3.99 un</td>\n",
       "    </tr>\n",
       "    <tr>\n",
       "      <th>3</th>\n",
       "      <td>Plaza Vea</td>\n",
       "      <td>Leche GLORIA Evaporada Descremada Lata 400g Pa...</td>\n",
       "      <td>S/ 26.50 un</td>\n",
       "    </tr>\n",
       "    <tr>\n",
       "      <th>4</th>\n",
       "      <td>Plaza Vea</td>\n",
       "      <td>Leche Evaporada GLORIA sin Lactosa Lata 400g P...</td>\n",
       "      <td>S/ 22.80 un</td>\n",
       "    </tr>\n",
       "    <tr>\n",
       "      <th>5</th>\n",
       "      <td>Plaza Vea</td>\n",
       "      <td>Leche Evaporada GLORIA Light Lata 400g Paquete...</td>\n",
       "      <td>S/ 21.60 un</td>\n",
       "    </tr>\n",
       "    <tr>\n",
       "      <th>6</th>\n",
       "      <td>Plaza Vea</td>\n",
       "      <td>Leche GLORIA Evaporada Entera Lata 400g Paquet...</td>\n",
       "      <td>S/ 21.60 un</td>\n",
       "    </tr>\n",
       "    <tr>\n",
       "      <th>7</th>\n",
       "      <td>Plaza Vea</td>\n",
       "      <td>Leche GLORIA Evaporada Niños Lata 400g Paquete...</td>\n",
       "      <td>S/ 21.60 un</td>\n",
       "    </tr>\n",
       "  </tbody>\n",
       "</table>\n",
       "</div>"
      ],
      "text/plain": [
       "  Supermercado                                                         Producto                Precio\n",
       "0  Metro        Leche Evaporada Semidescremada Light Gloria Lata 400 gr          S/4.30              \n",
       "1  Metro        Leche Evaporada Niños Gloria Lata 400 gr                         S/4.20              \n",
       "2  Metro        Leche Evaporada Niños Gloria Lata 400 gr                         S/4.20              \n",
       "3  Metro        Leche Evaporada Entera Gloria Lata 400 gr                        S/3.95              \n",
       "4  Metro        Leche Evaporada Descremada Gloria Pack de 6 unid Lata 400 gr     S/26.50             \n",
       "5  Metro        Leche Concentrada Sin Lactosa Gloria Pack de 6 unid Lata 400 gr  S/23.30             \n",
       "6  Metro        Leche Evaporada Entera Gloria Pack de 6un 400g                   S/21.60             \n",
       "7  Metro        Leche Evaporada Entera Gloria Pack de 6un 400g                   S/21.60             \n",
       "0  Tottus       LECHE SIN LACTOSA GLORIA 400 GR                                  s/ 4.9 UN           \n",
       "1  Tottus       LECHE EVAPORADA GLORIA LIGHT 400 GR                              s/ 4.7 UN           \n",
       "2  Tottus       LECHE EVAPORADA NIÑOS DEFENSA GLORIA 400 GR                      s/ 4.5 UN           \n",
       "3  Tottus       LECHE EVAPORADA GLORIA 400 GR                                    s/ 4.4 UN           \n",
       "4  Tottus       SIX PACK LECHE EVAPORADA DESCREMADA GLORIA 400 GR                s/ 27.2 UN          \n",
       "5  Tottus       SIX PACK LECHE EVAPORADA NIÑOS DHA GLORIA 400 GR                 s/ 22.4 UN\\ns/ 23 UN\n",
       "0  Plaza Vea    Leche GLORIA Evaporada Sin Lactosa Lata 400g                     S/ 4.50 un          \n",
       "1  Plaza Vea    Leche Evaporada GLORIA Light Lata 400g                           S/ 4.30 un          \n",
       "2  Plaza Vea    Leche GLORIA Evaporada Entera Lata 400g                          S/ 3.99 un          \n",
       "3  Plaza Vea    Leche GLORIA Evaporada Descremada Lata 400g Pa...                S/ 26.50 un         \n",
       "4  Plaza Vea    Leche Evaporada GLORIA sin Lactosa Lata 400g P...                S/ 22.80 un         \n",
       "5  Plaza Vea    Leche Evaporada GLORIA Light Lata 400g Paquete...                S/ 21.60 un         \n",
       "6  Plaza Vea    Leche GLORIA Evaporada Entera Lata 400g Paquet...                S/ 21.60 un         \n",
       "7  Plaza Vea    Leche GLORIA Evaporada Niños Lata 400g Paquete...                S/ 21.60 un         "
      ]
     },
     "execution_count": 40,
     "metadata": {},
     "output_type": "execute_result"
    }
   ],
   "source": [
    "comparacion = pd.concat([df_metro,df_tottus,df_plazavea])\n",
    "comparacion"
   ]
  },
  {
   "cell_type": "code",
   "execution_count": 41,
   "id": "41c0140c",
   "metadata": {},
   "outputs": [
    {
     "name": "stderr",
     "output_type": "stream",
     "text": [
      "C:\\Users\\user\\anaconda3\\lib\\site-packages\\xlsxwriter\\workbook.py:338: UserWarning: Calling close() on already closed file.\n",
      "  warn(\"Calling close() on already closed file.\")\n"
     ]
    }
   ],
   "source": [
    "# Exportando a excel y csv\n",
    "writer = pd.ExcelWriter('Reporte.xlsx')\n",
    "df1= pd.DataFrame(df_metro)\n",
    "df2= pd.DataFrame(df_tottus)\n",
    "df3= pd.DataFrame(df_plazavea)\n",
    "\n",
    "df1.to_excel(writer, 'Metro', index=False)\n",
    "df2.to_excel(writer, 'Tottus', index=False)\n",
    "df3.to_excel(writer, 'Plaza Vea', index=False)\n",
    "\n",
    "writer.save()\n",
    "writer.close()\n",
    "\n",
    "comparacion.to_csv('Reporte.csv', index=False,encoding='cp1252')"
   ]
  },
  {
   "cell_type": "markdown",
   "id": "75412473",
   "metadata": {},
   "source": [
    "# Envío de correo automático (FASE de prueba)"
   ]
  },
  {
   "cell_type": "code",
   "execution_count": 42,
   "id": "71b7d06d",
   "metadata": {},
   "outputs": [
    {
     "data": {
      "text/plain": [
       "(221,\n",
       " b'2.0.0 closing connection p79-20020a1f2952000000b003774a319fe5sm8225554vkp.20 - gsmtp')"
      ]
     },
     "execution_count": 42,
     "metadata": {},
     "output_type": "execute_result"
    }
   ],
   "source": [
    "import smtplib\n",
    "from email.mime.multipart import MIMEMultipart\n",
    "from email.mime.text import MIMEText\n",
    "from email.mime.base import MIMEBase\n",
    "from email import encoders\n",
    " \n",
    "# Iniciamos los parámetros del script\n",
    "remitente = 'jorgeigna.2911@gmail.com'\n",
    "destinatarios = para_email # Destinatario\n",
    "asunto = '[RESULTADOS] TRABAJO FINAL LP2'\n",
    "cuerpo = '''\n",
    "Hola estimado usuario, le enviamos las comparaciones de los productos.\n",
    "Integrantes:\n",
    "- Tanta Medina, Christian Rodolfo 20200338\n",
    "- Taquiri Pillaca, Jorge Ignacio 20200339\n",
    "- Tay Saccaco, Brian \n",
    "'''\n",
    "ruta_adjunto = 'Reporte.xlsx'\n",
    "nombre_adjunto = 'comparacion de productos.xlsx'\n",
    "\n",
    "mensaje = MIMEMultipart() # Creamos el objeto mensaje\n",
    " \n",
    "# Establecemos los atributos del mensaje\n",
    "mensaje['From'] = remitente\n",
    "mensaje['To'] = \", \".join(destinatarios)  # . join en caso haya mas de 1 destinatario\n",
    "mensaje['Subject'] = asunto\n",
    "# Agregamos el cuerpo del mensaje como objeto MIME de tipo texto\n",
    "mensaje.attach(MIMEText(cuerpo, 'plain')) \n",
    "# Abrimos el archivo que vamos a adjuntar\n",
    "archivo_adjunto = open(ruta_adjunto, 'rb') \n",
    "# Creamos un objeto MIME base \n",
    "adjunto_MIME = MIMEBase('application', 'octet-stream') \n",
    "# Cargamos el archivo adjunto\n",
    "adjunto_MIME.set_payload((archivo_adjunto).read())\n",
    "# Codificamos el objeto en BASE64\n",
    "encoders.encode_base64(adjunto_MIME)\n",
    "# Agregamos una cabecera al objeto\n",
    "adjunto_MIME.add_header('Content-Disposition', \"attachment; filename= %s\" % nombre_adjunto) \n",
    "# Finalmente lo agregamos al mensaje\n",
    "mensaje.attach(adjunto_MIME) \n",
    "# Creamos la conexión con el servidor\n",
    "sesion_smtp = smtplib.SMTP('smtp.gmail.com', 587) \n",
    "# Ciframos la conexión\n",
    "sesion_smtp.starttls() \n",
    "# Iniciamos sesión en el servidor\n",
    "sesion_smtp.login('jorgeigna.2911@gmail.com','bnriqogwriiscvoi') \n",
    "# Convertimos el objeto mensaje a texto\n",
    "texto = mensaje.as_string() \n",
    "# Enviamos el mensaje\n",
    "sesion_smtp.sendmail(remitente, destinatarios, texto)\n",
    "# Cerramos la conexión\n",
    "sesion_smtp.quit()  "
   ]
  },
  {
   "cell_type": "markdown",
   "id": "9b53c3ae",
   "metadata": {},
   "source": [
    "# Envio"
   ]
  },
  {
   "cell_type": "markdown",
   "id": "55bd23a6",
   "metadata": {},
   "source": [
    "![foto](captura1.png \"\")"
   ]
  },
  {
   "cell_type": "markdown",
   "id": "38307a6d",
   "metadata": {},
   "source": [
    "[](usuario.png)"
   ]
  }
 ],
 "metadata": {
  "kernelspec": {
   "display_name": "Python 3 (ipykernel)",
   "language": "python",
   "name": "python3"
  },
  "language_info": {
   "codemirror_mode": {
    "name": "ipython",
    "version": 3
   },
   "file_extension": ".py",
   "mimetype": "text/x-python",
   "name": "python",
   "nbconvert_exporter": "python",
   "pygments_lexer": "ipython3",
   "version": "3.9.7"
  },
  "vscode": {
   "interpreter": {
    "hash": "9412b45e6a57aa9914730508726d49801d3b2c579f461e1fb13c705887a7b1f6"
   }
  }
 },
 "nbformat": 4,
 "nbformat_minor": 5
}
