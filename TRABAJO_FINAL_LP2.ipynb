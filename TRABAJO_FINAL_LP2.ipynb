{
 "cells": [
  {
   "cell_type": "markdown",
   "id": "66b46d41",
   "metadata": {},
   "source": [
    "# COMPARACIÓN AUTOMATIZADA DE PRECIOS DE PRODUCTOS DE PRIMERA NECESIDAD EN LOS 3 SUPERMERCADOS MÁS POPULARES: METRO, PLAZA VEA, TOTTUS."
   ]
  },
  {
   "cell_type": "markdown",
   "id": "7775cc80",
   "metadata": {},
   "source": [
    "### DESCRIPCIÓN DEL CASO\n",
    "\n",
    "Se quiere automatizar la comparación de precios de productos básicos de la canasta familiar\n",
    "(arroz, azúcar, aceite, leche, etc) de tres supermercados que ofrecen sus productos a través de\n",
    "su propio portal web. Estos supermercados son: Metro, Plaza Vea y Tottus.\n",
    "Por lo que se pide escribir un programa en Python utilizando Jupyter notebook que recopile los\n",
    "precios de un producto de la canasta básica familiar de 3 Supermercados anteriormente\n",
    "mencionados y reporte todos sus artículos relacionados con la palabra clave ingresada en la\n",
    "búsqueda, para que posteriormente pueda comparar los precios en los distintos\n",
    "Supermercados de los productos exactamente iguales. Además, que se envíe\n",
    "automáticamente al correo del usuario-consultor un reporte de precio más alto, precio más\n",
    "bajo, productos en común comparando los precios entre los supermercados coincidentes."
   ]
  },
  {
   "cell_type": "markdown",
   "id": "0b2bd01c",
   "metadata": {},
   "source": [
    "#### Importar librerías y alias\n"
   ]
  },
  {
   "cell_type": "code",
   "execution_count": 4,
   "id": "b53fd5c0",
   "metadata": {},
   "outputs": [],
   "source": [
    "import pandas as pd\n",
    "import time\n",
    "from selenium import webdriver\n",
    "from selenium.webdriver.chrome.service import Service\n",
    "from selenium.webdriver.common.by import By\n",
    "from selenium.webdriver.common.keys import Keys"
   ]
  },
  {
   "cell_type": "markdown",
   "id": "8bc482f9",
   "metadata": {},
   "source": [
    "#### Programa para obtener los productos y precios de supermercados Metro"
   ]
  },
  {
   "cell_type": "code",
   "execution_count": 3,
   "id": "f428fa41",
   "metadata": {},
   "outputs": [],
   "source": [
    "ID = \"id\"\n",
    "NAME = \"name\"\n",
    "XPATH = \"xpath\"\n",
    "LINK_TEXT = \"link text\"\n",
    "PARTIAL_LINK_TEXT = \"partial link text\"\n",
    "TAG_NAME = \"tag name\"\n",
    "CLASS_NAME = \"class name\"\n",
    "CSS_SELECTOR = \"css selector\"\n",
    "\n",
    "# find_element(By.ID, \"id\")\n",
    "# find_element(By.NAME, \"name\")\n",
    "# find_element(By.XPATH, \"xpath\")\n",
    "# find_element(By.LINK_TEXT, \"link text\")\n",
    "# find_element(By.PARTIAL_LINK_TEXT, \"partial link text\")\n",
    "# find_element(By.TAG_NAME, \"tag name\")\n",
    "# find_element(By.CLASS_NAME, \"class name\")\n",
    "# find_element(By.CSS_SELECTOR, \"css selector\")\n",
    "\n",
    "path = ('C:/Users/jorge/Documents/TRABAJO FINAL/chromedriver.exe')\n",
    "urls='https://www.metro.pe/abarrotes'\n",
    "options = webdriver.ChromeOptions()\n",
    "options.add_argument('--incognito')\n",
    "s = Service(path)\n",
    "driver = webdriver.Chrome(service=s, options = options)\n",
    "driver.get(urls)\n",
    "time.sleep(4)\n",
    "\n",
    "scrolls = 10\n",
    "while True:\n",
    "    scrolls -= 1\n",
    "    driver.execute_script(\"window.scrollTo(0, document.body.scrollHeight)\")\n",
    "    time.sleep(3)\n",
    "    if scrolls < 0:\n",
    "        break\n",
    "        \n",
    "elements = driver.find_elements(By.XPATH,'//li[@class=\"comprar-abarrotes-online\"]')\n",
    "names =  []\n",
    "prices = []\n",
    "for element in elements:\n",
    "        name = element.find_element(By.XPATH,'.//a[@class=\"product-item__name\"]').text\n",
    "        price = element.find_element(By.XPATH,'.//span[@class=\"product-prices__value product-prices__value--best-price\"]').text\n",
    "        prices.append(price)\n",
    "        names.append(name)\n",
    "        time.sleep(1)\n",
    "        "
   ]
  },
  {
   "cell_type": "code",
   "execution_count": 5,
   "id": "e6aa007d",
   "metadata": {},
   "outputs": [
    {
     "data": {
      "text/html": [
       "<div>\n",
       "<style scoped>\n",
       "    .dataframe tbody tr th:only-of-type {\n",
       "        vertical-align: middle;\n",
       "    }\n",
       "\n",
       "    .dataframe tbody tr th {\n",
       "        vertical-align: top;\n",
       "    }\n",
       "\n",
       "    .dataframe thead th {\n",
       "        text-align: right;\n",
       "    }\n",
       "</style>\n",
       "<table border=\"1\" class=\"dataframe\">\n",
       "  <thead>\n",
       "    <tr style=\"text-align: right;\">\n",
       "      <th></th>\n",
       "      <th>Producto</th>\n",
       "      <th>Precio</th>\n",
       "    </tr>\n",
       "  </thead>\n",
       "  <tbody>\n",
       "    <tr>\n",
       "      <th>0</th>\n",
       "      <td>Fideo Spaghetti Don Vittorio 950g</td>\n",
       "      <td>S/4.00</td>\n",
       "    </tr>\n",
       "    <tr>\n",
       "      <th>1</th>\n",
       "      <td>Aceite Vegetal Cuisine&amp;Co Botella 900 ml</td>\n",
       "      <td>S/6.97</td>\n",
       "    </tr>\n",
       "    <tr>\n",
       "      <th>2</th>\n",
       "      <td>Arroz Extra Costeño 5kg</td>\n",
       "      <td>S/. 19.90</td>\n",
       "    </tr>\n",
       "    <tr>\n",
       "      <th>3</th>\n",
       "      <td>Aceite Vegetal Primor Premium 900ml</td>\n",
       "      <td>S/11.40</td>\n",
       "    </tr>\n",
       "    <tr>\n",
       "      <th>4</th>\n",
       "      <td>Pasta Spaghetti Nro 5 Bolsa 1 Kg</td>\n",
       "      <td>S/2.92</td>\n",
       "    </tr>\n",
       "    <tr>\n",
       "      <th>...</th>\n",
       "      <td>...</td>\n",
       "      <td>...</td>\n",
       "    </tr>\n",
       "    <tr>\n",
       "      <th>250</th>\n",
       "      <td>Fideo Linguini Don Vittorio 450g</td>\n",
       "      <td>S/3.50</td>\n",
       "    </tr>\n",
       "    <tr>\n",
       "      <th>251</th>\n",
       "      <td>Pack x6 Galletas Rellenas Casino Sabor Pie de ...</td>\n",
       "      <td>S/4.10</td>\n",
       "    </tr>\n",
       "    <tr>\n",
       "      <th>252</th>\n",
       "      <td>Aceite de Coco Orgánico Cuisine &amp; Co 350ml</td>\n",
       "      <td>S/19.49</td>\n",
       "    </tr>\n",
       "    <tr>\n",
       "      <th>253</th>\n",
       "      <td>Ají Amarillo en Pasta Cuisine &amp; Co 200g</td>\n",
       "      <td>S/5.17</td>\n",
       "    </tr>\n",
       "    <tr>\n",
       "      <th>254</th>\n",
       "      <td>Maní Tostado Cuisine &amp; Co 100g</td>\n",
       "      <td>S/3.15</td>\n",
       "    </tr>\n",
       "  </tbody>\n",
       "</table>\n",
       "<p>255 rows × 2 columns</p>\n",
       "</div>"
      ],
      "text/plain": [
       "                                              Producto     Precio\n",
       "0                    Fideo Spaghetti Don Vittorio 950g     S/4.00\n",
       "1             Aceite Vegetal Cuisine&Co Botella 900 ml     S/6.97\n",
       "2                              Arroz Extra Costeño 5kg  S/. 19.90\n",
       "3                  Aceite Vegetal Primor Premium 900ml    S/11.40\n",
       "4                     Pasta Spaghetti Nro 5 Bolsa 1 Kg     S/2.92\n",
       "..                                                 ...        ...\n",
       "250                   Fideo Linguini Don Vittorio 450g     S/3.50\n",
       "251  Pack x6 Galletas Rellenas Casino Sabor Pie de ...     S/4.10\n",
       "252         Aceite de Coco Orgánico Cuisine & Co 350ml    S/19.49\n",
       "253            Ají Amarillo en Pasta Cuisine & Co 200g     S/5.17\n",
       "254                     Maní Tostado Cuisine & Co 100g     S/3.15\n",
       "\n",
       "[255 rows x 2 columns]"
      ]
     },
     "execution_count": 5,
     "metadata": {},
     "output_type": "execute_result"
    }
   ],
   "source": [
    "#Exportacion\n",
    "dic= {'Producto': names , \"Precio\": prices}\n",
    "df = pd.DataFrame(dic , columns= [\"Producto\", \"Precio\"] )\n",
    "df.to_excel('metro.xlsx', index=False,encoding='cp1252')\n",
    "\n",
    "# Lectura\n",
    "pd.read_excel('metro.xlsx')"
   ]
  }
 ],
 "metadata": {
  "kernelspec": {
   "display_name": "Python 3.9.12 ('base')",
   "language": "python",
   "name": "python3"
  },
  "language_info": {
   "codemirror_mode": {
    "name": "ipython",
    "version": 3
   },
   "file_extension": ".py",
   "mimetype": "text/x-python",
   "name": "python",
   "nbconvert_exporter": "python",
   "pygments_lexer": "ipython3",
   "version": "3.9.12"
  },
  "vscode": {
   "interpreter": {
    "hash": "9412b45e6a57aa9914730508726d49801d3b2c579f461e1fb13c705887a7b1f6"
   }
  }
 },
 "nbformat": 4,
 "nbformat_minor": 5
}
