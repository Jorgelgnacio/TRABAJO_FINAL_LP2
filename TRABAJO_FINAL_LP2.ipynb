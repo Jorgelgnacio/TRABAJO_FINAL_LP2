{
 "cells": [
  {
   "cell_type": "markdown",
   "id": "66b46d41",
   "metadata": {},
   "source": [
    "# Comparación Automatizada de precios de productos de primera necesidad en los 3 Supermercados más populares: Metro, Plaza Vea, Tottus."
   ]
  },
  {
   "cell_type": "markdown",
   "id": "7775cc80",
   "metadata": {},
   "source": [
    "# DESCRIPCIÓN DEL CASO\n",
    "\n",
    "Se quiere automatizar la comparación de precios de productos básicos de la canasta familiar\n",
    "(arroz, azúcar, aceite, leche, etc) de tres supermercados que ofrecen sus productos a través de\n",
    "su propio portal web. Estos supermercados son: Metro, Plaza Vea y Tottus.\n",
    "Por lo que se pide escribir un programa en Python utilizando Jupyter notebook que recopile los\n",
    "precios de un producto de la canasta básica familiar de 3 Supermercados anteriormente\n",
    "mencionados y reporte todos sus artículos relacionados con la palabra clave ingresada en la\n",
    "búsqueda, para que posteriormente pueda comparar los precios en los distintos\n",
    "Supermercados de los productos exactamente iguales. Además, que se envíe\n",
    "automáticamente al correo del usuario-consultor un reporte de precio más alto, precio más\n",
    "bajo, productos en común comparando los precios entre los supermercados coincidentes."
   ]
  },
  {
   "cell_type": "code",
   "execution_count": null,
   "id": "b53fd5c0",
   "metadata": {},
   "outputs": [],
   "source": []
  }
 ],
 "metadata": {
  "kernelspec": {
   "display_name": "Python 3 (ipykernelGG)",
   "language": "python",
   "name": "python3"
  },
  "language_info": {
   "codemirror_mode": {
    "name": "ipython",
    "version": 3
   },
   "file_extension": ".py",
   "mimetype": "text/x-python",
   "name": "python",
   "nbconvert_exporter": "python",
   "pygments_lexer": "ipython3",
   "version": "3.9.12"
  }
 },
 "nbformat": 4,
 "nbformat_minor": 5
}
