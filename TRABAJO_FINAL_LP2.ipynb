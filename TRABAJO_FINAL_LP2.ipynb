{
 "cells": [
  {
   "cell_type": "markdown",
   "id": "66b46d41",
   "metadata": {},
   "source": [
    "# COMPARACIÓN AUTOMATIZADA DE PRECIOS DE PRODUCTOS DE PRIMERA NECESIDAD EN LOS 3 SUPERMERCADOS MÁS POPULARES: METRO, PLAZA VEA, TOTTUS."
   ]
  },
  {
   "cell_type": "markdown",
   "id": "7775cc80",
   "metadata": {},
   "source": [
    "### DESCRIPCIÓN DEL CASO\n",
    "\n",
    "Se quiere automatizar la comparación de precios de productos básicos de la canasta familiar\n",
    "(arroz, azúcar, aceite, leche, etc) de tres supermercados que ofrecen sus productos a través de\n",
    "su propio portal web. Estos supermercados son: Metro, Plaza Vea y Tottus.\n",
    "Por lo que se pide escribir un programa en Python utilizando Jupyter notebook que recopile los\n",
    "precios de un producto de la canasta básica familiar de 3 Supermercados anteriormente\n",
    "mencionados y reporte todos sus artículos relacionados con la palabra clave ingresada en la\n",
    "búsqueda, para que posteriormente pueda comparar los precios en los distintos\n",
    "Supermercados de los productos exactamente iguales. Además, que se envíe\n",
    "automáticamente al correo del usuario-consultor un reporte de precio más alto, precio más\n",
    "bajo, productos en común comparando los precios entre los supermercados coincidentes."
   ]
  },
  {
   "cell_type": "markdown",
   "id": "0b2bd01c",
   "metadata": {},
   "source": [
    "#### Importar librerías\n"
   ]
  },
  {
   "cell_type": "code",
   "execution_count": 42,
   "id": "b53fd5c0",
   "metadata": {},
   "outputs": [],
   "source": [
    "import pandas as pd\n",
    "import time\n",
    "from selenium import webdriver\n",
    "from selenium.webdriver.chrome.service import Service\n",
    "from selenium.webdriver.common.by import By\n",
    "from selenium.webdriver.common.keys import Keys\n",
    "from selenium.webdriver.support import expected_conditions as EC\n",
    "from selenium.webdriver.support.ui import WebDriverWait\n",
    "from pymongo import MongoClient\n",
    "from tqdm import tqdm\n",
    "from termcolor import colored\n",
    "#jupyter notebook --NotebookApp.iopub_data_rate_limit=1.0e10\n",
    "\n",
    "ID = \"id\"\n",
    "NAME = \"name\"\n",
    "XPATH = \"xpath\"\n",
    "LINK_TEXT = \"link text\"\n",
    "PARTIAL_LINK_TEXT = \"partial link text\"\n",
    "TAG_NAME = \"tag name\"\n",
    "CLASS_NAME = \"class name\"\n",
    "CSS_SELECTOR = \"css selector\"\n",
    "\n",
    "# find_element(By.ID, \"id\")\n",
    "# find_element(By.NAME, \"name\")\n",
    "# find_element(By.XPATH, \"xpath\")\n",
    "# find_element(By.LINK_TEXT, \"link text\")\n",
    "# find_element(By.PARTIAL_LINK_TEXT, \"partial link text\")\n",
    "# find_element(By.TAG_NAME, \"tag name\")\n",
    "# find_element(By.CLASS_NAME, \"class name\")\n",
    "# find_element(By.CSS_SELECTOR, \"css selector\")"
   ]
  },
  {
   "cell_type": "markdown",
   "id": "8bc482f9",
   "metadata": {},
   "source": [
    "#### Programa para obtener los productos y precios de supermercados Metro"
   ]
  },
  {
   "cell_type": "code",
   "execution_count": 43,
   "id": "86c77e7d",
   "metadata": {},
   "outputs": [],
   "source": [
    "path = ('C:/Users/jorge/Documents/TRABAJO FINAL/chromedriver.exe')\n",
    "urls='https://www.metro.pe'\n",
    "options = webdriver.ChromeOptions()\n",
    "options.add_argument('--incognito')\n",
    "s = Service(path)\n",
    "driver = webdriver.Chrome(service=s, options = options)\n",
    "driver.get(urls)\n",
    "time.sleep(5)\n"
   ]
  },
  {
   "cell_type": "code",
   "execution_count": 44,
   "id": "38058503",
   "metadata": {},
   "outputs": [],
   "source": [
    "driver.find_element(By.XPATH, '/html/body/div[46]/div/div[3]/button[1]').click()"
   ]
  },
  {
   "cell_type": "code",
   "execution_count": 45,
   "id": "69a56333",
   "metadata": {},
   "outputs": [],
   "source": [
    "driver.find_element(By.XPATH, './/input[@id=\"search-autocomplete-input\"]').click()"
   ]
  },
  {
   "cell_type": "code",
   "execution_count": 46,
   "id": "ea0a4c0d",
   "metadata": {},
   "outputs": [
    {
     "name": "stdout",
     "output_type": "stream",
     "text": [
      "abarrotes\n"
     ]
    }
   ],
   "source": [
    "link = str(input())\n",
    "driver.find_element(By.XPATH, './/input[@id=\"search-autocomplete-input\"]').send_keys(link)"
   ]
  },
  {
   "cell_type": "code",
   "execution_count": 47,
   "id": "14c6e53e",
   "metadata": {},
   "outputs": [],
   "source": [
    "driver.find_element(By.XPATH, '/html/body/header[1]/div/div[2]/div[2]/div[1]/div[2]/div[2]/a/span').click()"
   ]
  },
  {
   "cell_type": "code",
   "execution_count": 48,
   "id": "f428fa41",
   "metadata": {},
   "outputs": [],
   "source": [
    "# path = ('C:/Users/jorge/Documents/TRABAJO FINAL/chromedriver.exe')\n",
    "# urls='https://www.metro.pe/abarrotes'\n",
    "# options = webdriver.ChromeOptions()\n",
    "# options.add_argument('--incognito')\n",
    "# s = Service(path)\n",
    "# driver = webdriver.Chrome(service=s, options = options)\n",
    "# driver.get(urls)\n",
    "# time.sleep(3)\n",
    "\n",
    "scrolls = 15 + 1  \n",
    "while True:       # Mientras esto sea verdad se realizará lo siguiente:\n",
    "    scrolls -= 1   # Realizar 15 scrolls, y si le irá restando 1 cada ciclo\n",
    "    driver.execute_script(\"window.scrollTo(0, document.body.scrollHeight)\")\n",
    "    time.sleep(1)  # Un scroll cada 1 segundo\n",
    "    if scrolls < 0:\n",
    "        time.sleep(3)\n",
    "        elements = driver.find_elements(By.XPATH,'//li[@class=\"comprar-abarrotes-online\"]')\n",
    "        break\n",
    "        \n",
    "\n",
    "time.sleep(3)"
   ]
  },
  {
   "cell_type": "code",
   "execution_count": 49,
   "id": "129576c7",
   "metadata": {},
   "outputs": [
    {
     "name": "stderr",
     "output_type": "stream",
     "text": [
      "100%|██████████| 162/162 [00:18<00:00,  8.86it/s]\n"
     ]
    }
   ],
   "source": [
    "n = 1\n",
    "while n < len(elements):\n",
    "    listing = driver.find_element(By.XPATH, f'/html/body/div[27]/div/div[2]/div[4]/div[2]/div[2]/div[2]/div/ul/li[{n}]')\n",
    "    driver.execute_script(\"arguments[0].scrollIntoView(true);\", listing)\n",
    "    n += 1\n",
    "driver.quit\n",
    "\n",
    "time.sleep(3)\n",
    "\n",
    "names =  []\n",
    "prices = []\n",
    "for element in tqdm(elements):\n",
    "        name = element.find_element(By.XPATH,'.//a[@class=\"product-item__name\"]').text\n",
    "        price = element.find_element(By.XPATH,'.//span[@class=\"product-prices__value product-prices__value--best-price\"]').text\n",
    "        names.append(name)\n",
    "        prices.append(price)\n"
   ]
  },
  {
   "cell_type": "code",
   "execution_count": 50,
   "id": "e6aa007d",
   "metadata": {},
   "outputs": [
    {
     "name": "stdout",
     "output_type": "stream",
     "text": [
      "\u001b[34mImprimiendo.\u001b[0m\n"
     ]
    },
    {
     "data": {
      "text/html": [
       "<div>\n",
       "<style scoped>\n",
       "    .dataframe tbody tr th:only-of-type {\n",
       "        vertical-align: middle;\n",
       "    }\n",
       "\n",
       "    .dataframe tbody tr th {\n",
       "        vertical-align: top;\n",
       "    }\n",
       "\n",
       "    .dataframe thead th {\n",
       "        text-align: right;\n",
       "    }\n",
       "</style>\n",
       "<table border=\"1\" class=\"dataframe\">\n",
       "  <thead>\n",
       "    <tr style=\"text-align: right;\">\n",
       "      <th></th>\n",
       "      <th>Producto</th>\n",
       "      <th>Precio</th>\n",
       "    </tr>\n",
       "  </thead>\n",
       "  <tbody>\n",
       "    <tr>\n",
       "      <th>0</th>\n",
       "      <td>Quinua Costeño Bolsa 500 g</td>\n",
       "      <td>S/8.39</td>\n",
       "    </tr>\n",
       "    <tr>\n",
       "      <th>1</th>\n",
       "      <td>Vinagre Blanco Venturo Botella Plástica 600 ml</td>\n",
       "      <td>S/4.89</td>\n",
       "    </tr>\n",
       "    <tr>\n",
       "      <th>2</th>\n",
       "      <td>Sazonador Ajinomoto Sobre 250 g</td>\n",
       "      <td>S/6.00</td>\n",
       "    </tr>\n",
       "    <tr>\n",
       "      <th>3</th>\n",
       "      <td>Sazonador Ajinomoto Sobre 100 g</td>\n",
       "      <td>S/2.80</td>\n",
       "    </tr>\n",
       "    <tr>\n",
       "      <th>4</th>\n",
       "      <td>Pimienta Negra Molida Sibarita Sobre 6 Unid</td>\n",
       "      <td>S/3.89</td>\n",
       "    </tr>\n",
       "    <tr>\n",
       "      <th>...</th>\n",
       "      <td>...</td>\n",
       "      <td>...</td>\n",
       "    </tr>\n",
       "    <tr>\n",
       "      <th>157</th>\n",
       "      <td>Concentrado de Espinaca y Albahaca Pomarola 170g</td>\n",
       "      <td>S/. 4.70</td>\n",
       "    </tr>\n",
       "    <tr>\n",
       "      <th>158</th>\n",
       "      <td>Maní Salado Cuisine &amp; Co 200g</td>\n",
       "      <td>S/5.50</td>\n",
       "    </tr>\n",
       "    <tr>\n",
       "      <th>159</th>\n",
       "      <td>Vinagreta Balsámica Frasco 473 ml</td>\n",
       "      <td>S/27.90</td>\n",
       "    </tr>\n",
       "    <tr>\n",
       "      <th>160</th>\n",
       "      <td>Salsa Barbecue Sweet 'n Spicy Frasco 510 g</td>\n",
       "      <td>S/22.90</td>\n",
       "    </tr>\n",
       "    <tr>\n",
       "      <th>161</th>\n",
       "      <td>Salsa Barbecue Honey Frasco 510 g</td>\n",
       "      <td>S/22.90</td>\n",
       "    </tr>\n",
       "  </tbody>\n",
       "</table>\n",
       "<p>162 rows × 2 columns</p>\n",
       "</div>"
      ],
      "text/plain": [
       "                                             Producto    Precio\n",
       "0                          Quinua Costeño Bolsa 500 g    S/8.39\n",
       "1      Vinagre Blanco Venturo Botella Plástica 600 ml    S/4.89\n",
       "2                     Sazonador Ajinomoto Sobre 250 g    S/6.00\n",
       "3                     Sazonador Ajinomoto Sobre 100 g    S/2.80\n",
       "4         Pimienta Negra Molida Sibarita Sobre 6 Unid    S/3.89\n",
       "..                                                ...       ...\n",
       "157  Concentrado de Espinaca y Albahaca Pomarola 170g  S/. 4.70\n",
       "158                     Maní Salado Cuisine & Co 200g    S/5.50\n",
       "159                 Vinagreta Balsámica Frasco 473 ml   S/27.90\n",
       "160        Salsa Barbecue Sweet 'n Spicy Frasco 510 g   S/22.90\n",
       "161                 Salsa Barbecue Honey Frasco 510 g   S/22.90\n",
       "\n",
       "[162 rows x 2 columns]"
      ]
     },
     "execution_count": 50,
     "metadata": {},
     "output_type": "execute_result"
    }
   ],
   "source": [
    "#Exportacion\n",
    "dic= {'Producto': names , \"Precio\": prices}\n",
    "df = pd.DataFrame(dic , columns= [\"Producto\", \"Precio\"] )\n",
    "df.to_excel('metro.xlsx', index=False,encoding='cp1252')\n",
    "\n",
    "# Lectura\n",
    "print(colored('Imprimiendo.','blue'))\n",
    "pd.read_excel('metro.xlsx')\n",
    "\n"
   ]
  },
  {
   "cell_type": "code",
   "execution_count": null,
   "id": "1399a841",
   "metadata": {},
   "outputs": [],
   "source": []
  },
  {
   "cell_type": "code",
   "execution_count": 66,
   "id": "010fcc45",
   "metadata": {},
   "outputs": [],
   "source": [
    "import smtplib\n",
    "\n",
    "de_email =\"okoyekennethoptimizer@gmail.com\"\n",
    "contraseña = \"nmmrjdphptwfgjgb\"\n",
    "\n",
    "para_email = \"20200339@LAMOLINA.EDU.PE\"\n",
    "\n",
    "asunto = \"TRABAJO FINAL LP2\"\n",
    "text = \"\"\"\n",
    "Hola estimada profesora, le enviamos las comparaciones de los productos.\n",
    "Codigo de ntegrantes: \n",
    "\"\"\"\n",
    "\n",
    "mensaje = f'Subject: {asunto}\\n\\n{text}\\n\\n{pd}'\n",
    "\n",
    "connection = smtplib.SMTP(\"smtp.gmail.com\", port= 587)\n",
    "connection.starttls()\n",
    "connection.login(user=de_email, password=contraseña)\n",
    "connection.sendmail(from_addr=de_email, to_addrs=para_email, msg= mensaje)\n",
    "connection.close()"
   ]
  },
  {
   "cell_type": "code",
   "execution_count": 3,
   "id": "1c015668",
   "metadata": {},
   "outputs": [
    {
     "data": {
      "text/plain": [
       "(221,\n",
       " b'2.0.0 closing connection y66-20020a1f4b45000000b00370a1dab940sm2191475vka.36 - gsmtp')"
      ]
     },
     "execution_count": 3,
     "metadata": {},
     "output_type": "execute_result"
    }
   ],
   "source": [
    "import smtplib\n",
    "from email.mime.multipart import MIMEMultipart\n",
    "from email.mime.text import MIMEText\n",
    "from email.mime.base import MIMEBase\n",
    "from email import encoders\n",
    "\n",
    "username = \"okoyekennethoptimizer@gmail.com\"\n",
    "password = \"nmmrjdphptwfgjgb\"\n",
    "mail_from = \"jorge@gmail.com\"\n",
    "mail_to = \"20200339@LAMOLINA.EDU.P\"\n",
    "mail_subject = \"Test Subject\"\n",
    "mail_attachment_name=\"test.txt\"\n",
    "mail_body = \"edf\"\n",
    "\n",
    "mimemsg = MIMEMultipart()\n",
    "mimemsg['From']=mail_from\n",
    "mimemsg['To']=mail_to\n",
    "mimemsg['Subject']=mail_subject\n",
    "mimemsg.attach(MIMEText(mail_body, 'plain'))\n",
    "\n",
    "connection = smtplib.SMTP(host='smtp.gmail.com', port=587)\n",
    "connection.starttls()\n",
    "connection.login(username,password)\n",
    "connection.send_message(mimemsg)\n",
    "connection.quit()"
   ]
  },
  {
   "cell_type": "code",
   "execution_count": null,
   "id": "70578db8",
   "metadata": {},
   "outputs": [],
   "source": []
  },
  {
   "cell_type": "code",
   "execution_count": null,
   "id": "2110eca8",
   "metadata": {},
   "outputs": [],
   "source": []
  },
  {
   "cell_type": "code",
   "execution_count": null,
   "id": "f80a51f7",
   "metadata": {},
   "outputs": [],
   "source": []
  },
  {
   "cell_type": "code",
   "execution_count": null,
   "id": "a4ef8101",
   "metadata": {},
   "outputs": [],
   "source": []
  }
 ],
 "metadata": {
  "kernelspec": {
   "display_name": "Python 3 (ipykernelGG)",
   "language": "python",
   "name": "python3"
  },
  "language_info": {
   "codemirror_mode": {
    "name": "ipython",
    "version": 3
   },
   "file_extension": ".py",
   "mimetype": "text/x-python",
   "name": "python",
   "nbconvert_exporter": "python",
   "pygments_lexer": "ipython3",
   "version": "3.9.12"
  },
  "vscode": {
   "interpreter": {
    "hash": "9412b45e6a57aa9914730508726d49801d3b2c579f461e1fb13c705887a7b1f6"
   }
  }
 },
 "nbformat": 4,
 "nbformat_minor": 5
}
