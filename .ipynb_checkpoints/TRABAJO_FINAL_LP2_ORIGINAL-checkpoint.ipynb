{
 "cells": [
  {
   "cell_type": "markdown",
   "id": "66b46d41",
   "metadata": {},
   "source": [
    "# COMPARACIÓN AUTOMATIZADA DE PRECIOS DE PRODUCTOS DE PRIMERA NECESIDAD EN LOS 3 SUPERMERCADOS MÁS POPULARES: METRO, PLAZA VEA, TOTTUS."
   ]
  },
  {
   "cell_type": "markdown",
   "id": "7775cc80",
   "metadata": {},
   "source": [
    "### DESCRIPCIÓN DEL CASO\n",
    "\n",
    "Se quiere automatizar la comparación de precios de productos básicos de la canasta familiar\n",
    "(arroz, azúcar, aceite, leche, etc) de tres supermercados que ofrecen sus productos a través de\n",
    "su propio portal web. Estos supermercados son: Metro, Plaza Vea y Tottus.\n",
    "Por lo que se pide escribir un programa en Python utilizando Jupyter notebook que recopile los\n",
    "precios de un producto de la canasta básica familiar de 3 Supermercados anteriormente\n",
    "mencionados y reporte todos sus artículos relacionados con la palabra clave ingresada en la\n",
    "búsqueda, para que posteriormente pueda comparar los precios en los distintos\n",
    "Supermercados de los productos exactamente iguales. Además, que se envíe\n",
    "automáticamente al correo del usuario-consultor un reporte de precio más alto, precio más\n",
    "bajo, productos en común comparando los precios entre los supermercados coincidentes."
   ]
  },
  {
   "cell_type": "markdown",
   "id": "0b2bd01c",
   "metadata": {},
   "source": [
    "# Importar librerías\n"
   ]
  },
  {
   "cell_type": "code",
   "execution_count": 49,
   "id": "b53fd5c0",
   "metadata": {},
   "outputs": [],
   "source": [
    "import pandas as pd\n",
    "import time\n",
    "from selenium import webdriver\n",
    "from selenium.webdriver.chrome.service import Service\n",
    "from selenium.webdriver.common.by import By\n",
    "from selenium.webdriver.common.keys import Keys\n",
    "from selenium.webdriver.support import expected_conditions as EC\n",
    "from selenium.webdriver.support.ui import WebDriverWait\n",
    "from pymongo import MongoClient\n",
    "from tqdm import tqdm\n",
    "from termcolor import colored\n",
    "import csv\n",
    "from bs4 import BeautifulSoup\n",
    "from selenium import webdriver\n",
    "import time\n",
    "#jupyter notebook --NotebookApp.iopub_data_rate_limit=1.0e10"
   ]
  },
  {
   "cell_type": "markdown",
   "id": "bce32bc8",
   "metadata": {},
   "source": [
    "# Documentación de la nueva actualización de Selenium\n"
   ]
  },
  {
   "cell_type": "code",
   "execution_count": 50,
   "id": "7dc03645",
   "metadata": {},
   "outputs": [],
   "source": [
    "ID = \"id\"\n",
    "NAME = \"name\"\n",
    "XPATH = \"xpath\"\n",
    "LINK_TEXT = \"link text\"\n",
    "PARTIAL_LINK_TEXT = \"partial link text\"\n",
    "TAG_NAME = \"tag name\"\n",
    "CLASS_NAME = \"class name\"\n",
    "CSS_SELECTOR = \"css selector\"\n",
    "\n",
    "# find_element(By.ID, \"id\")\n",
    "# find_element(By.NAME, \"name\")\n",
    "# find_element(By.XPATH, \"xpath\")\n",
    "# find_element(By.LINK_TEXT, \"link text\")\n",
    "# find_element(By.PARTIAL_LINK_TEXT, \"partial link text\")\n",
    "# find_element(By.TAG_NAME, \"tag name\")\n",
    "# find_element(By.CLASS_NAME, \"class name\")\n",
    "# find_element(By.CSS_SELECTOR, \"css selector\")"
   ]
  },
  {
   "cell_type": "markdown",
   "id": "8bc482f9",
   "metadata": {},
   "source": [
    "# Programa para obtener los productos y precios de supermercados Metro (Usuario Jorge)"
   ]
  },
  {
   "cell_type": "code",
   "execution_count": 51,
   "id": "86c77e7d",
   "metadata": {},
   "outputs": [],
   "source": [
    "path = ('C:/Users/jorge/Documents/TRABAJO FINAL/chromedriver.exe')  # Dirección del ejecutable chromedriver.exe\n",
    "urls='https://www.metro.pe'          # URL de la pagina de Metro                   \n",
    "options = webdriver.ChromeOptions()   \n",
    "options.add_argument('--incognito')  # Opcion de abrir ventana de Chrome en modo incognito\n",
    "s = Service(path)                       \n",
    "driver = webdriver.Chrome(service=s, options = options)\n",
    "driver.maximize_window()\n",
    "driver.get(urls)\n",
    "\n",
    "time.sleep(3) # lapso de 3 segundo para que la pagina cargue los contenidos"
   ]
  },
  {
   "cell_type": "code",
   "execution_count": 52,
   "id": "38058503",
   "metadata": {},
   "outputs": [],
   "source": [
    "# Hacer clic en \"cerrar\", pagina emergente que sale en inicio\n",
    "driver.find_element(By.XPATH, '/html/body/div[46]/div/div[3]/button[1]').click()\n",
    "time.sleep(1)"
   ]
  },
  {
   "cell_type": "code",
   "execution_count": 54,
   "id": "69a56333",
   "metadata": {},
   "outputs": [],
   "source": [
    "# Hacer clic en la barra de búsqueda\n",
    "driver.find_element(By.XPATH, '/html/body/header[1]/div/div[2]/div[2]/div[1]/div[1]/input').click()\n",
    "time.sleep(1)"
   ]
  },
  {
   "cell_type": "code",
   "execution_count": 55,
   "id": "ea0a4c0d",
   "metadata": {},
   "outputs": [],
   "source": [
    "# Ingresar el producto en la barra de busqueda\n",
    "driver.find_element(By.XPATH, '/html/body/header[1]/div/div[2]/div[2]/div[1]/div[1]/input').send_keys('leche')\n",
    "time.sleep(1)"
   ]
  },
  {
   "cell_type": "code",
   "execution_count": 56,
   "id": "14c6e53e",
   "metadata": {},
   "outputs": [],
   "source": [
    "# Dar clic en ver todos los resultados.\n",
    "driver.find_element(By.XPATH, '/html/body/header[1]/div/div[2]/div[2]/div[1]/div[2]/div[2]/a/span').click()\n",
    "time.sleep(1)"
   ]
  },
  {
   "cell_type": "code",
   "execution_count": 57,
   "id": "cc69b9a7",
   "metadata": {},
   "outputs": [
    {
     "data": {
      "text/plain": [
       "304"
      ]
     },
     "execution_count": 57,
     "metadata": {},
     "output_type": "execute_result"
    }
   ],
   "source": [
    "# Cantidad de productos\n",
    "page=driver.find_element(By.XPATH, '/html/body/div[27]/div/div[2]/div[1]/div[1]/span[2]').text\n",
    "int(page[:3])"
   ]
  },
  {
   "cell_type": "code",
   "execution_count": 59,
   "id": "f428fa41",
   "metadata": {},
   "outputs": [
    {
     "name": "stdout",
     "output_type": "stream",
     "text": [
      "\u001b[31mProductos extraidos:\u001b[0m\n",
      "304\n",
      "\u001b[33m\n",
      " Se llegó a extraer todos los productos?.\u001b[0m\n",
      "True\n"
     ]
    }
   ],
   "source": [
    "# Automatización de scrolls (se correra las veces que sea necesario)\n",
    "scrolls = 15 + 1           # Seran 15 scrolls automaticos\n",
    "while True:               # Mientras esto sea verdad se realizará lo siguiente:\n",
    "    scrolls -= 1           # Cuenta regresiva, se resta 1 cada ciclo\n",
    "    driver.execute_script(\"window.scrollTo(0, document.body.scrollHeight)\") # Cada segundo se desplazará hasta la parte inferior de la página \n",
    "    time.sleep(1)      # Cada scroll automático tendra un timelap de 1 segundo\n",
    "    if scrolls < 0:     # Cuando llegue a cero segundos:\n",
    "        time.sleep(3)   # Le damos 3 segundos a que la pagina carge los contenidos hasta el ultimo scroll automatico\n",
    "        driver.execute_script(\"window.scrollBy(0,-310)\") # Un scroll up (rueda hacia arriba) para mostrar la ultima fila de productos\n",
    "        elements = driver.find_elements(By.XPATH,'//li[@layout=\"19ccd66b-b568-43cb-a106-b52f9796f5cd\"]') # Encontrar los productos de la pagina de acuerdo al XPATH\n",
    "        break           # Se cierra el ciclo\n",
    "\n",
    "        \n",
    "print(colored('Productos extraidos:','red'))  \n",
    "print(len(elements))        # Longitud de los elementos (productos) encontrados hasta coindicir con el total de productos\n",
    "\n",
    "print(colored('\\n Se llegó a extraer todos los productos?.','yellow'))  \n",
    "print(len(elements) == int(page[:3])) # Comparación "
   ]
  },
  {
   "cell_type": "code",
   "execution_count": 60,
   "id": "129576c7",
   "metadata": {},
   "outputs": [],
   "source": [
    "# Vista a todos los elementos a scrapear, desde el primero hasta el ultimo en ser extradio\n",
    "n = 1\n",
    "while n < len(elements):  # Ciclo de acuerdo  a la cantidad de elementos extraidos\n",
    "    listing = driver.find_element(By.XPATH, f'/html/body/div[27]/div/div[2]/div[4]/div[2]/div[2]/div[2]/div/ul/li[{n}]') \n",
    "    driver.execute_script(\"arguments[0].scrollIntoView(true);\", listing)  # Se ira a la parte inferior hasta la ultima fila de productos\n",
    "    n += 1\n",
    "    "
   ]
  },
  {
   "cell_type": "code",
   "execution_count": 61,
   "id": "344b6974",
   "metadata": {},
   "outputs": [
    {
     "name": "stderr",
     "output_type": "stream",
     "text": [
      "100%|██████████| 304/304 [00:38<00:00,  7.95it/s]\n"
     ]
    }
   ],
   "source": [
    "# Almacenar productos y precios \n",
    "productos =  []  # lista vacia\n",
    "precios = []  # lista vacia\n",
    "for element in tqdm(elements):  # tqdm:Contar iteraciones, indicar el tiempo que tarda por iteración y el tiempo total transcurrido.  \n",
    "        name = element.find_element(By.XPATH,'.//a[@class=\"product-item__name\"]').text  # Buscar producto en base al XPATH y mostrar el texto\n",
    "        price = element.find_element(By.XPATH,'.//span[@class=\"product-prices__value product-prices__value--best-price\"]').text # Buscar precio en base al XPATH y mostrar el texto\n",
    "        productos.append(name)    # Agregar a la lista productos\n",
    "        precios.append(price)  # Agregar a la lista precios\n"
   ]
  },
  {
   "cell_type": "code",
   "execution_count": 63,
   "id": "e6aa007d",
   "metadata": {},
   "outputs": [],
   "source": [
    "#Exportacion de productos y precios a un archivo excel \n",
    "dic= {'Producto': productos , \"Precio\": precios}  # Crear diccionario con los values productos y precios (listas)\n",
    "df = pd.DataFrame(dic , columns= [\"Producto\", \"Precio\"] ) # Convertir a dataframe con columnas de etiquetas Producto y Precio\n",
    "df.to_excel('metro.xlsx', index=False,encoding='cp1252')  # Exportar a excel, sin indices, y el encoding cp1252"
   ]
  },
  {
   "cell_type": "code",
   "execution_count": 65,
   "id": "af27c67f",
   "metadata": {},
   "outputs": [
    {
     "name": "stdout",
     "output_type": "stream",
     "text": [
      "\u001b[34mImprimiendo resultados.\u001b[0m\n"
     ]
    },
    {
     "data": {
      "text/html": [
       "<div>\n",
       "<style scoped>\n",
       "    .dataframe tbody tr th:only-of-type {\n",
       "        vertical-align: middle;\n",
       "    }\n",
       "\n",
       "    .dataframe tbody tr th {\n",
       "        vertical-align: top;\n",
       "    }\n",
       "\n",
       "    .dataframe thead th {\n",
       "        text-align: right;\n",
       "    }\n",
       "</style>\n",
       "<table border=\"1\" class=\"dataframe\">\n",
       "  <thead>\n",
       "    <tr style=\"text-align: right;\">\n",
       "      <th></th>\n",
       "      <th>Producto</th>\n",
       "      <th>Precio</th>\n",
       "    </tr>\n",
       "  </thead>\n",
       "  <tbody>\n",
       "    <tr>\n",
       "      <th>0</th>\n",
       "      <td>Chocolate de Leche Toblerone 100g</td>\n",
       "      <td>S/12.50</td>\n",
       "    </tr>\n",
       "    <tr>\n",
       "      <th>1</th>\n",
       "      <td>Chocolate de Leche Snickers 53g</td>\n",
       "      <td>S/4.00</td>\n",
       "    </tr>\n",
       "    <tr>\n",
       "      <th>2</th>\n",
       "      <td>Leche Concentrada Laive Bolsitarro 400g</td>\n",
       "      <td>S/2.90</td>\n",
       "    </tr>\n",
       "    <tr>\n",
       "      <th>3</th>\n",
       "      <td>Licor de Crema Burgos Leche 750ml</td>\n",
       "      <td>S/44.90</td>\n",
       "    </tr>\n",
       "    <tr>\n",
       "      <th>4</th>\n",
       "      <td>Chocolate de Leche Milky Way 53g</td>\n",
       "      <td>S/4.99</td>\n",
       "    </tr>\n",
       "    <tr>\n",
       "      <th>...</th>\n",
       "      <td>...</td>\n",
       "      <td>...</td>\n",
       "    </tr>\n",
       "    <tr>\n",
       "      <th>299</th>\n",
       "      <td>Bebida de Almendra Chocolate Cuisine &amp; Co Caja...</td>\n",
       "      <td>S/. 10.90</td>\n",
       "    </tr>\n",
       "    <tr>\n",
       "      <th>300</th>\n",
       "      <td>Ajonjolí Tostado Naturandes</td>\n",
       "      <td>S/10.20</td>\n",
       "    </tr>\n",
       "    <tr>\n",
       "      <th>301</th>\n",
       "      <td>Bebida de Almendra Original Cuisine &amp; Co Caja ...</td>\n",
       "      <td>S/. 10.90</td>\n",
       "    </tr>\n",
       "    <tr>\n",
       "      <th>302</th>\n",
       "      <td>Mezcla Láctea Pura Vida Lata 395 gr</td>\n",
       "      <td>S/3.40</td>\n",
       "    </tr>\n",
       "    <tr>\n",
       "      <th>303</th>\n",
       "      <td>Mezcla Láctea Pura Vida Pack de 6 unid Lata 39...</td>\n",
       "      <td>S/18.00</td>\n",
       "    </tr>\n",
       "  </tbody>\n",
       "</table>\n",
       "<p>304 rows × 2 columns</p>\n",
       "</div>"
      ],
      "text/plain": [
       "                                              Producto     Precio\n",
       "0                    Chocolate de Leche Toblerone 100g    S/12.50\n",
       "1                      Chocolate de Leche Snickers 53g     S/4.00\n",
       "2              Leche Concentrada Laive Bolsitarro 400g     S/2.90\n",
       "3                    Licor de Crema Burgos Leche 750ml    S/44.90\n",
       "4                     Chocolate de Leche Milky Way 53g     S/4.99\n",
       "..                                                 ...        ...\n",
       "299  Bebida de Almendra Chocolate Cuisine & Co Caja...  S/. 10.90\n",
       "300                        Ajonjolí Tostado Naturandes    S/10.20\n",
       "301  Bebida de Almendra Original Cuisine & Co Caja ...  S/. 10.90\n",
       "302                Mezcla Láctea Pura Vida Lata 395 gr     S/3.40\n",
       "303  Mezcla Láctea Pura Vida Pack de 6 unid Lata 39...    S/18.00\n",
       "\n",
       "[304 rows x 2 columns]"
      ]
     },
     "execution_count": 65,
     "metadata": {},
     "output_type": "execute_result"
    }
   ],
   "source": [
    "# Lectura y muestra de resultados\n",
    "print(colored('Imprimiendo resultados.','blue'))   \n",
    "metro=pd.read_excel('metro.xlsx')   \n",
    "metro"
   ]
  },
  {
   "cell_type": "code",
   "execution_count": 67,
   "id": "e8f430d1",
   "metadata": {},
   "outputs": [],
   "source": [
    "driver.close()  # Cerrar chromedriver"
   ]
  },
  {
   "cell_type": "markdown",
   "id": "49997eca",
   "metadata": {},
   "source": [
    "# Programa para obtener los productos y precios de supermercados Tottus  (Usuario Christian)"
   ]
  },
  {
   "cell_type": "code",
   "execution_count": 114,
   "id": "8955261d",
   "metadata": {},
   "outputs": [],
   "source": [
    "path = ('C:/Users/jorge/Documents/TRABAJO FINAL/chromedriver.exe')\n",
    "urls='https://www.tottus.com.pe/'\n",
    "options = webdriver.ChromeOptions()\n",
    "options.add_argument('--incognito')\n",
    "s = Service(path)\n",
    "driver = webdriver.Chrome(service=s, options = options)\n",
    "driver.maximize_window()\n",
    "driver.get(urls)\n",
    "time.sleep(3)"
   ]
  },
  {
   "cell_type": "code",
   "execution_count": 115,
   "id": "d533ca15",
   "metadata": {},
   "outputs": [],
   "source": [
    "# Configurando click para búsqueda de productos\n",
    "driver.find_element(By.XPATH, '/html/body/div[1]/div[2]/div[2]/div[1]/div[1]/section/div[1]/div/input').click()\n",
    "time.sleep(1)"
   ]
  },
  {
   "cell_type": "code",
   "execution_count": 116,
   "id": "28036ee0",
   "metadata": {},
   "outputs": [],
   "source": [
    "# Ingresando producto \n",
    "driver.find_element(By.XPATH, '/html/body/div[1]/div[2]/div[2]/div[1]/div[1]/section/div[1]/div/input').send_keys('leche')\n",
    "time.sleep(1)"
   ]
  },
  {
   "cell_type": "code",
   "execution_count": 117,
   "id": "593ed941",
   "metadata": {},
   "outputs": [],
   "source": [
    "# Buscar producto mediante el click al icono de busqueda\n",
    "driver.find_element(By.XPATH, '/html/body/div[1]/div[2]/div[2]/div[1]/div[1]/section/div[1]/div[1]/button').click()\n",
    "time.sleep(1)"
   ]
  },
  {
   "cell_type": "code",
   "execution_count": 118,
   "id": "e544480b",
   "metadata": {},
   "outputs": [
    {
     "data": {
      "text/plain": [
       "7"
      ]
     },
     "execution_count": 118,
     "metadata": {},
     "output_type": "execute_result"
    }
   ],
   "source": [
    "pages=driver.find_elements(By.XPATH, './/ul[@class=\"Pagination link\"]')\n",
    "\n",
    "for i in pages:\n",
    "    ultima= i.find_element(By.XPATH, '//*[@id=\"container\"]/div[1]/section/div[1]/div[2]/ul/li[5]/a').text\n",
    "    pagina = int(ultima)\n",
    "pagina        "
   ]
  },
  {
   "cell_type": "code",
   "execution_count": 120,
   "id": "f0050eaf",
   "metadata": {},
   "outputs": [
    {
     "name": "stderr",
     "output_type": "stream",
     "text": [
      "100%|██████████| 48/48 [00:03<00:00, 15.94it/s]\n",
      "100%|██████████| 48/48 [00:03<00:00, 15.26it/s]\n",
      "100%|██████████| 48/48 [00:03<00:00, 14.70it/s]\n",
      "100%|██████████| 48/48 [00:03<00:00, 14.38it/s]\n",
      "100%|██████████| 48/48 [00:03<00:00, 14.83it/s]\n",
      "100%|██████████| 48/48 [00:03<00:00, 14.29it/s]\n",
      "100%|██████████| 47/47 [00:03<00:00, 15.22it/s]\n"
     ]
    }
   ],
   "source": [
    "#busqueda = input()\n",
    "list= []\n",
    "productos =  []\n",
    "precios = []\n",
    "n=1\n",
    "while n <= pagina:\n",
    "    driver.get(f'https://www.tottus.com.pe/buscar?q=leche&page={n}')\n",
    "    time.sleep(3)\n",
    "    lista = driver.find_elements(By.XPATH,'//li[@class=\"product\"]')\n",
    "    for element in tqdm(lista):\n",
    "        name = element.find_element(By.XPATH,'.//h2[@class=\"jsx-369422875 name title mini\"]').text\n",
    "        price = element.find_element(By.XPATH,'.//span[@class=\"jsx-4019956066 \"]').text\n",
    "        productos.append(name)\n",
    "        precios.append(price)\n",
    "    lista=list.append(lista)\n",
    "    n += 1"
   ]
  },
  {
   "cell_type": "code",
   "execution_count": 74,
   "id": "83142979",
   "metadata": {},
   "outputs": [
    {
     "data": {
      "text/plain": [
       "7"
      ]
     },
     "execution_count": 74,
     "metadata": {},
     "output_type": "execute_result"
    }
   ],
   "source": [
    "len(list)"
   ]
  },
  {
   "cell_type": "code",
   "execution_count": 76,
   "id": "a22d2434",
   "metadata": {},
   "outputs": [],
   "source": [
    "# Guardar\n",
    "dic= {'Producto': productos,\"Precio\": precios }\n",
    "df = pd.DataFrame(dic , columns= [\"Producto\",\"Precio\"] )\n",
    "df.to_excel('tottus.xlsx', index=False,encoding='cp1252')"
   ]
  },
  {
   "cell_type": "code",
   "execution_count": 77,
   "id": "a50657c4",
   "metadata": {},
   "outputs": [
    {
     "data": {
      "text/html": [
       "<div>\n",
       "<style scoped>\n",
       "    .dataframe tbody tr th:only-of-type {\n",
       "        vertical-align: middle;\n",
       "    }\n",
       "\n",
       "    .dataframe tbody tr th {\n",
       "        vertical-align: top;\n",
       "    }\n",
       "\n",
       "    .dataframe thead th {\n",
       "        text-align: right;\n",
       "    }\n",
       "</style>\n",
       "<table border=\"1\" class=\"dataframe\">\n",
       "  <thead>\n",
       "    <tr style=\"text-align: right;\">\n",
       "      <th></th>\n",
       "      <th>Producto</th>\n",
       "      <th>Precio</th>\n",
       "    </tr>\n",
       "  </thead>\n",
       "  <tbody>\n",
       "    <tr>\n",
       "      <th>0</th>\n",
       "      <td>MAZAMORRA MORADA 150 GR</td>\n",
       "      <td>s/ 3.6 UN</td>\n",
       "    </tr>\n",
       "    <tr>\n",
       "      <th>1</th>\n",
       "      <td>SUPLEMENTO CHOCOLATE CHOCOLISTO 300 GR</td>\n",
       "      <td>s/ 11.9 UN\\ns/ 12.2 UN</td>\n",
       "    </tr>\n",
       "    <tr>\n",
       "      <th>2</th>\n",
       "      <td>ANDEAN SUPER BEBIDA NUNATURA VAINILA 200 GR</td>\n",
       "      <td>s/ 12.9 UN</td>\n",
       "    </tr>\n",
       "    <tr>\n",
       "      <th>3</th>\n",
       "      <td>VIZZIO MIX 189 GR</td>\n",
       "      <td>s/ 17.5 UN</td>\n",
       "    </tr>\n",
       "    <tr>\n",
       "      <th>4</th>\n",
       "      <td>VIZZIO MIX 131 GR</td>\n",
       "      <td>s/ 7.9 UN\\ns/ 10.7 UN</td>\n",
       "    </tr>\n",
       "    <tr>\n",
       "      <th>5</th>\n",
       "      <td>SUSTAGEN CHOCOLATE LT 400 GR</td>\n",
       "      <td>s/ 30.7 UN\\ns/ 39.5 UN</td>\n",
       "    </tr>\n",
       "    <tr>\n",
       "      <th>6</th>\n",
       "      <td>KIWIGEN VAINILLA 400 GR</td>\n",
       "      <td>s/ 23 UN</td>\n",
       "    </tr>\n",
       "    <tr>\n",
       "      <th>7</th>\n",
       "      <td>ANDEAN SUPERDRINK NUNATURA SABOR VAINILA 350 GR</td>\n",
       "      <td>s/ 15.5 UN\\ns/ 17.7 UN</td>\n",
       "    </tr>\n",
       "    <tr>\n",
       "      <th>8</th>\n",
       "      <td>SUPLEMENTO KIWI GEN FRESA 400 GR</td>\n",
       "      <td>s/ 23 UN</td>\n",
       "    </tr>\n",
       "    <tr>\n",
       "      <th>9</th>\n",
       "      <td>CAFÉ VERDE ORGÁNICO EN POLVO ECOANDINO 200 GR</td>\n",
       "      <td>s/ 17.5 UN</td>\n",
       "    </tr>\n",
       "    <tr>\n",
       "      <th>10</th>\n",
       "      <td>LÚCUMA EN POLVO ECOANDINO 250 GR</td>\n",
       "      <td>s/ 27.5 UN</td>\n",
       "    </tr>\n",
       "    <tr>\n",
       "      <th>11</th>\n",
       "      <td>CACAO ORGÁNICO EN POLVO ECOANDINO 200 GR</td>\n",
       "      <td>s/ 15.2 UN</td>\n",
       "    </tr>\n",
       "    <tr>\n",
       "      <th>12</th>\n",
       "      <td>MAZAMORRA MAÍZ MORADO 140 GR</td>\n",
       "      <td>s/ 4 UN</td>\n",
       "    </tr>\n",
       "    <tr>\n",
       "      <th>13</th>\n",
       "      <td>MACA GELATINIZADA ORGÁNICO ECOANDINO 250 GR</td>\n",
       "      <td>s/ 27.9 UN</td>\n",
       "    </tr>\n",
       "    <tr>\n",
       "      <th>14</th>\n",
       "      <td>SIMILAC 1 PRO SENSITIVE 400 GR</td>\n",
       "      <td>s/ 86.8 UN</td>\n",
       "    </tr>\n",
       "    <tr>\n",
       "      <th>15</th>\n",
       "      <td>ENFAMIL PREMIUM 2 850 GR</td>\n",
       "      <td>s/ 150.4 UN</td>\n",
       "    </tr>\n",
       "    <tr>\n",
       "      <th>16</th>\n",
       "      <td>ALIMENTO LÁCTEO SUSTAGEN PRO ALTURA Y PESO</td>\n",
       "      <td>s/ 114.5 UN</td>\n",
       "    </tr>\n",
       "    <tr>\n",
       "      <th>17</th>\n",
       "      <td>ENFAMIL PREMIUM 2</td>\n",
       "      <td>s/ 67.9 UN</td>\n",
       "    </tr>\n",
       "    <tr>\n",
       "      <th>18</th>\n",
       "      <td>POLVO INSTANTÁNEO QUINUA BLANCA 227 GR</td>\n",
       "      <td>s/ 23.9 UN</td>\n",
       "    </tr>\n",
       "    <tr>\n",
       "      <th>19</th>\n",
       "      <td>MACA GELATINIZADA ORGANICA AMERICA ORGANICA 17...</td>\n",
       "      <td>s/ 22.9 UN</td>\n",
       "    </tr>\n",
       "    <tr>\n",
       "      <th>20</th>\n",
       "      <td>TRIPACK JABÓN LECHE DE COCO DOVE 90 GR</td>\n",
       "      <td>s/ 10.9 UN</td>\n",
       "    </tr>\n",
       "    <tr>\n",
       "      <th>21</th>\n",
       "      <td>TRIPACK JABÓN PROTEÍNA DE LECHE NIVEA 85 GR</td>\n",
       "      <td>s/ 17.9 UN</td>\n",
       "    </tr>\n",
       "    <tr>\n",
       "      <th>22</th>\n",
       "      <td>EXTRACTOR DE LECHE MANUAL PALANCA</td>\n",
       "      <td>s/ 125.9 UN</td>\n",
       "    </tr>\n",
       "    <tr>\n",
       "      <th>23</th>\n",
       "      <td>ENVASE PARA LECHE EN POLVO TRES COLORES</td>\n",
       "      <td>s/ 38.9 UN</td>\n",
       "    </tr>\n",
       "    <tr>\n",
       "      <th>24</th>\n",
       "      <td>BOLSAS DE LECHE MATERNA UNIMOM 30 UNIDADES</td>\n",
       "      <td>s/ 37.9 UN</td>\n",
       "    </tr>\n",
       "    <tr>\n",
       "      <th>25</th>\n",
       "      <td>BOLSAS STORE &amp; FEED UNIMOM 20 UNIDADES</td>\n",
       "      <td>s/ 49.9 UN</td>\n",
       "    </tr>\n",
       "    <tr>\n",
       "      <th>26</th>\n",
       "      <td>BOLSAS DE LECHE MATERNA TS</td>\n",
       "      <td>s/ 91.9 UN</td>\n",
       "    </tr>\n",
       "    <tr>\n",
       "      <th>27</th>\n",
       "      <td>BIBERON TRANSPARENTE OPT+ BOCA ANCHA AZUL</td>\n",
       "      <td>s/ 56.9 UN</td>\n",
       "    </tr>\n",
       "    <tr>\n",
       "      <th>28</th>\n",
       "      <td>BIBERON TRANSPARENTE OPT+ BOCA ANCHA ROSA</td>\n",
       "      <td>s/ 56.9 UN</td>\n",
       "    </tr>\n",
       "    <tr>\n",
       "      <th>29</th>\n",
       "      <td>ENVASES ALMACENADORES POR 3 UND</td>\n",
       "      <td>s/ 44.9 UN</td>\n",
       "    </tr>\n",
       "    <tr>\n",
       "      <th>30</th>\n",
       "      <td>DISPENSADOR DE LECHE EN POLVO VERDE</td>\n",
       "      <td>s/ 10.9 UN</td>\n",
       "    </tr>\n",
       "    <tr>\n",
       "      <th>31</th>\n",
       "      <td>DISPENSADOR DE LECHE EN POLVO CELESTE</td>\n",
       "      <td>s/ 10.9 UN</td>\n",
       "    </tr>\n",
       "    <tr>\n",
       "      <th>32</th>\n",
       "      <td>BOLSAS PARA LECHE MATERNA CJA X 20 UN</td>\n",
       "      <td>s/ 14.9 UN</td>\n",
       "    </tr>\n",
       "    <tr>\n",
       "      <th>33</th>\n",
       "      <td>SET DE LACTANCIA CON EXTRACTOR PALANCA</td>\n",
       "      <td>s/ 262.9 UN</td>\n",
       "    </tr>\n",
       "    <tr>\n",
       "      <th>34</th>\n",
       "      <td>NUBY DISPENSADOR DE LECHE 3 COMPARTIMIENTOS</td>\n",
       "      <td>s/ 17.9 UN</td>\n",
       "    </tr>\n",
       "    <tr>\n",
       "      <th>35</th>\n",
       "      <td>CREMA CORPORAL CON LECHE HIDRATANTE Y AVENA</td>\n",
       "      <td>s/ 32 UN</td>\n",
       "    </tr>\n",
       "    <tr>\n",
       "      <th>36</th>\n",
       "      <td>DESMAQUILLANTE HYDRATACIÓN TOTAL 200 ML</td>\n",
       "      <td>s/ 36.9 UN</td>\n",
       "    </tr>\n",
       "    <tr>\n",
       "      <th>37</th>\n",
       "      <td>ANTHELIOS PROTECTOR SOLAR LECHE BEBÉ SPF50+ 50 ML</td>\n",
       "      <td>s/ 99.9 UN</td>\n",
       "    </tr>\n",
       "    <tr>\n",
       "      <th>38</th>\n",
       "      <td>SILICONA FIRST CHOICE M LECHE 2 BX2 NUK</td>\n",
       "      <td>s/ 35.1 UN</td>\n",
       "    </tr>\n",
       "    <tr>\n",
       "      <th>39</th>\n",
       "      <td>COPA TRES LECHES CAFÉ</td>\n",
       "      <td>s/ 5.9 UN</td>\n",
       "    </tr>\n",
       "    <tr>\n",
       "      <th>40</th>\n",
       "      <td>TORTA TRES LECHES VAINILLA MEDIANA</td>\n",
       "      <td>s/ 59.9 UN</td>\n",
       "    </tr>\n",
       "    <tr>\n",
       "      <th>41</th>\n",
       "      <td>TORTA TRES LECHES VAINILLA GRANDE</td>\n",
       "      <td>s/ 65.9 UN</td>\n",
       "    </tr>\n",
       "    <tr>\n",
       "      <th>42</th>\n",
       "      <td>TORTA TRES LECHES COCO MEDIANA</td>\n",
       "      <td>s/ 59.9 UN</td>\n",
       "    </tr>\n",
       "    <tr>\n",
       "      <th>43</th>\n",
       "      <td>CREMA DE LECHE PASTEURIZADA PIAMONTE 236 ML</td>\n",
       "      <td>s/ 6.5 UN</td>\n",
       "    </tr>\n",
       "    <tr>\n",
       "      <th>44</th>\n",
       "      <td>BATIDO NUTRICIONAL BENET VAINILLA 800 GR</td>\n",
       "      <td>s/ 89.9 UN</td>\n",
       "    </tr>\n",
       "    <tr>\n",
       "      <th>45</th>\n",
       "      <td>BATIDO NUTRICIONAL BENET VAINILLA 400 GR</td>\n",
       "      <td>s/ 47.9 UN</td>\n",
       "    </tr>\n",
       "    <tr>\n",
       "      <th>46</th>\n",
       "      <td>BATIDO NUTRICIONAL BENET ENERGÍA 200 GR</td>\n",
       "      <td>s/ 34.9 UN</td>\n",
       "    </tr>\n",
       "  </tbody>\n",
       "</table>\n",
       "</div>"
      ],
      "text/plain": [
       "                                             Producto                  Precio\n",
       "0                             MAZAMORRA MORADA 150 GR               s/ 3.6 UN\n",
       "1              SUPLEMENTO CHOCOLATE CHOCOLISTO 300 GR  s/ 11.9 UN\\ns/ 12.2 UN\n",
       "2         ANDEAN SUPER BEBIDA NUNATURA VAINILA 200 GR              s/ 12.9 UN\n",
       "3                                   VIZZIO MIX 189 GR              s/ 17.5 UN\n",
       "4                                   VIZZIO MIX 131 GR   s/ 7.9 UN\\ns/ 10.7 UN\n",
       "5                        SUSTAGEN CHOCOLATE LT 400 GR  s/ 30.7 UN\\ns/ 39.5 UN\n",
       "6                             KIWIGEN VAINILLA 400 GR                s/ 23 UN\n",
       "7     ANDEAN SUPERDRINK NUNATURA SABOR VAINILA 350 GR  s/ 15.5 UN\\ns/ 17.7 UN\n",
       "8                    SUPLEMENTO KIWI GEN FRESA 400 GR                s/ 23 UN\n",
       "9       CAFÉ VERDE ORGÁNICO EN POLVO ECOANDINO 200 GR              s/ 17.5 UN\n",
       "10                   LÚCUMA EN POLVO ECOANDINO 250 GR              s/ 27.5 UN\n",
       "11           CACAO ORGÁNICO EN POLVO ECOANDINO 200 GR              s/ 15.2 UN\n",
       "12                       MAZAMORRA MAÍZ MORADO 140 GR                 s/ 4 UN\n",
       "13        MACA GELATINIZADA ORGÁNICO ECOANDINO 250 GR              s/ 27.9 UN\n",
       "14                     SIMILAC 1 PRO SENSITIVE 400 GR              s/ 86.8 UN\n",
       "15                           ENFAMIL PREMIUM 2 850 GR             s/ 150.4 UN\n",
       "16         ALIMENTO LÁCTEO SUSTAGEN PRO ALTURA Y PESO             s/ 114.5 UN\n",
       "17                                  ENFAMIL PREMIUM 2              s/ 67.9 UN\n",
       "18             POLVO INSTANTÁNEO QUINUA BLANCA 227 GR              s/ 23.9 UN\n",
       "19  MACA GELATINIZADA ORGANICA AMERICA ORGANICA 17...              s/ 22.9 UN\n",
       "20             TRIPACK JABÓN LECHE DE COCO DOVE 90 GR              s/ 10.9 UN\n",
       "21        TRIPACK JABÓN PROTEÍNA DE LECHE NIVEA 85 GR              s/ 17.9 UN\n",
       "22                  EXTRACTOR DE LECHE MANUAL PALANCA             s/ 125.9 UN\n",
       "23            ENVASE PARA LECHE EN POLVO TRES COLORES              s/ 38.9 UN\n",
       "24         BOLSAS DE LECHE MATERNA UNIMOM 30 UNIDADES              s/ 37.9 UN\n",
       "25             BOLSAS STORE & FEED UNIMOM 20 UNIDADES              s/ 49.9 UN\n",
       "26                         BOLSAS DE LECHE MATERNA TS              s/ 91.9 UN\n",
       "27          BIBERON TRANSPARENTE OPT+ BOCA ANCHA AZUL              s/ 56.9 UN\n",
       "28          BIBERON TRANSPARENTE OPT+ BOCA ANCHA ROSA              s/ 56.9 UN\n",
       "29                    ENVASES ALMACENADORES POR 3 UND              s/ 44.9 UN\n",
       "30                DISPENSADOR DE LECHE EN POLVO VERDE              s/ 10.9 UN\n",
       "31              DISPENSADOR DE LECHE EN POLVO CELESTE              s/ 10.9 UN\n",
       "32              BOLSAS PARA LECHE MATERNA CJA X 20 UN              s/ 14.9 UN\n",
       "33             SET DE LACTANCIA CON EXTRACTOR PALANCA             s/ 262.9 UN\n",
       "34        NUBY DISPENSADOR DE LECHE 3 COMPARTIMIENTOS              s/ 17.9 UN\n",
       "35        CREMA CORPORAL CON LECHE HIDRATANTE Y AVENA                s/ 32 UN\n",
       "36            DESMAQUILLANTE HYDRATACIÓN TOTAL 200 ML              s/ 36.9 UN\n",
       "37  ANTHELIOS PROTECTOR SOLAR LECHE BEBÉ SPF50+ 50 ML              s/ 99.9 UN\n",
       "38            SILICONA FIRST CHOICE M LECHE 2 BX2 NUK              s/ 35.1 UN\n",
       "39                              COPA TRES LECHES CAFÉ               s/ 5.9 UN\n",
       "40                 TORTA TRES LECHES VAINILLA MEDIANA              s/ 59.9 UN\n",
       "41                  TORTA TRES LECHES VAINILLA GRANDE              s/ 65.9 UN\n",
       "42                     TORTA TRES LECHES COCO MEDIANA              s/ 59.9 UN\n",
       "43        CREMA DE LECHE PASTEURIZADA PIAMONTE 236 ML               s/ 6.5 UN\n",
       "44           BATIDO NUTRICIONAL BENET VAINILLA 800 GR              s/ 89.9 UN\n",
       "45           BATIDO NUTRICIONAL BENET VAINILLA 400 GR              s/ 47.9 UN\n",
       "46            BATIDO NUTRICIONAL BENET ENERGÍA 200 GR              s/ 34.9 UN"
      ]
     },
     "execution_count": 77,
     "metadata": {},
     "output_type": "execute_result"
    }
   ],
   "source": [
    "# Lectura\n",
    "tottus = pd.read_excel('tottus.xlsx')\n",
    "tottus"
   ]
  },
  {
   "cell_type": "code",
   "execution_count": 111,
   "id": "b4ef75a9",
   "metadata": {},
   "outputs": [],
   "source": [
    "driver.close() # Cerrar chromedriver"
   ]
  },
  {
   "cell_type": "markdown",
   "id": "430491e3",
   "metadata": {},
   "source": [
    "# Programa para obtener los productos y precios de supermercados Tottus  (Usuario Brian)"
   ]
  },
  {
   "cell_type": "code",
   "execution_count": 20,
   "id": "ac94eef4",
   "metadata": {},
   "outputs": [
    {
     "name": "stdout",
     "output_type": "stream",
     "text": [
      "https://www.plazavea.com.pe/leche\n"
     ]
    }
   ],
   "source": [
    "url='https://www.plazavea.com.pe'\n",
    "def busqueda(search):\n",
    "    \"generar url\"\n",
    "    template = 'https://www.plazavea.com.pe/{}'\n",
    "    search = search.replace('','')\n",
    "    return template.format(search)\n",
    "url = busqueda('leche')\n",
    "print(url)"
   ]
  },
  {
   "cell_type": "code",
   "execution_count": 21,
   "id": "67d6f92a",
   "metadata": {},
   "outputs": [],
   "source": [
    "driver = webdriver.Chrome()\n",
    "driver.maximize_window()\n",
    "driver.get(url)\n",
    "soup = BeautifulSoup(driver.page_source,'html.parser')"
   ]
  },
  {
   "cell_type": "code",
   "execution_count": 22,
   "id": "d53bddc5",
   "metadata": {},
   "outputs": [],
   "source": [
    "def extraerprecio(item):\n",
    "    #precio\n",
    "    precio = item.find('div', 'Showcase__salePrice')\n",
    "    precio1 = precio.text.split()\n",
    "    nombre=item.find('a','Showcase__name').text\n",
    "    #descripcion\n",
    "    descripcion= (precio1, nombre)\n",
    "    return descripcion"
   ]
  },
  {
   "cell_type": "code",
   "execution_count": 31,
   "id": "2cad6a76",
   "metadata": {},
   "outputs": [],
   "source": [
    "def busqueda(busqueda):\n",
    "    \"generar url\"\n",
    "    template = 'https://www.plazavea.com.pe/{}'\n",
    "    busqueda = busqueda.replace('','')\n",
    "    url=template.format(search)\n",
    "    url += '?page={}'\n",
    "    return url "
   ]
  },
  {
   "cell_type": "code",
   "execution_count": 34,
   "id": "feeeb7d2",
   "metadata": {},
   "outputs": [],
   "source": [
    "def busqueda(search):\n",
    "    \"generar url\"\n",
    "    template = 'https://www.plazavea.com.pe/{}'\n",
    "    search = search.replace('','')\n",
    "    return template.format(search)\n",
    "\n",
    "def main(term):\n",
    "    driver = webdriver.Chrome()\n",
    "    driver.maximize_window()\n",
    "    records = []\n",
    "    url= busqueda(term)\n",
    "\n",
    "    for page in range(1,5):\n",
    "        time.sleep(3)\n",
    "        driver.get(url.format(page))\n",
    "        soup= BeautifulSoup(driver.page_source,'html.parser')\n",
    "        resultados= soup.find_all('div','Showcase__content')\n",
    "\n",
    "        for item in resultados:\n",
    "            record = extraerprecio(item)\n",
    "\n",
    "            if record:\n",
    "                records.append(record)               "
   ]
  },
  {
   "cell_type": "code",
   "execution_count": 35,
   "id": "6f489838",
   "metadata": {},
   "outputs": [
    {
     "ename": "WebDriverException",
     "evalue": "Message: unknown error: cannot determine loading status\nfrom unknown error: unexpected command response\n  (Session info: chrome=103.0.5060.134)\nStacktrace:\nBacktrace:\n\tOrdinal0 [0x01066463+2188387]\n\tOrdinal0 [0x00FFE461+1762401]\n\tOrdinal0 [0x00F13D78+802168]\n\tOrdinal0 [0x00F07210+750096]\n\tOrdinal0 [0x00F0675A+747354]\n\tOrdinal0 [0x00F05D3F+744767]\n\tOrdinal0 [0x00F04C28+740392]\n\tOrdinal0 [0x00F05228+741928]\n\tOrdinal0 [0x00F0F153+782675]\n\tOrdinal0 [0x00F19FBB+827323]\n\tOrdinal0 [0x00F1D310+840464]\n\tOrdinal0 [0x00F054F6+742646]\n\tOrdinal0 [0x00F19BF3+826355]\n\tOrdinal0 [0x00F6CF6D+1167213]\n\tOrdinal0 [0x00F5C5F6+1099254]\n\tOrdinal0 [0x00F36BE0+945120]\n\tOrdinal0 [0x00F37AD6+948950]\n\tGetHandleVerifier [0x013071F2+2712546]\n\tGetHandleVerifier [0x012F886D+2652765]\n\tGetHandleVerifier [0x010F002A+520730]\n\tGetHandleVerifier [0x010EEE06+516086]\n\tOrdinal0 [0x0100468B+1787531]\n\tOrdinal0 [0x01008E88+1805960]\n\tOrdinal0 [0x01008F75+1806197]\n\tOrdinal0 [0x01011DF1+1842673]\n\tBaseThreadInitThunk [0x75DD6739+25]\n\tRtlGetFullPathName_UEx [0x76FC8FEF+1215]\n\tRtlGetFullPathName_UEx [0x76FC8FBD+1165]\n",
     "output_type": "error",
     "traceback": [
      "\u001b[1;31m---------------------------------------------------------------------------\u001b[0m",
      "\u001b[1;31mWebDriverException\u001b[0m                        Traceback (most recent call last)",
      "Input \u001b[1;32mIn [35]\u001b[0m, in \u001b[0;36m<cell line: 1>\u001b[1;34m()\u001b[0m\n\u001b[1;32m----> 1\u001b[0m \u001b[43mmain\u001b[49m\u001b[43m(\u001b[49m\u001b[38;5;124;43m'\u001b[39;49m\u001b[38;5;124;43maceite\u001b[39;49m\u001b[38;5;124;43m'\u001b[39;49m\u001b[43m)\u001b[49m\n",
      "Input \u001b[1;32mIn [34]\u001b[0m, in \u001b[0;36mmain\u001b[1;34m(term)\u001b[0m\n\u001b[0;32m     13\u001b[0m \u001b[38;5;28;01mfor\u001b[39;00m page \u001b[38;5;129;01min\u001b[39;00m \u001b[38;5;28mrange\u001b[39m(\u001b[38;5;241m1\u001b[39m,\u001b[38;5;241m5\u001b[39m):\n\u001b[0;32m     14\u001b[0m     time\u001b[38;5;241m.\u001b[39msleep(\u001b[38;5;241m3\u001b[39m)\n\u001b[1;32m---> 15\u001b[0m     \u001b[43mdriver\u001b[49m\u001b[38;5;241;43m.\u001b[39;49m\u001b[43mget\u001b[49m\u001b[43m(\u001b[49m\u001b[43murl\u001b[49m\u001b[38;5;241;43m.\u001b[39;49m\u001b[43mformat\u001b[49m\u001b[43m(\u001b[49m\u001b[43mpage\u001b[49m\u001b[43m)\u001b[49m\u001b[43m)\u001b[49m\n\u001b[0;32m     16\u001b[0m     soup\u001b[38;5;241m=\u001b[39m BeautifulSoup(driver\u001b[38;5;241m.\u001b[39mpage_source,\u001b[38;5;124m'\u001b[39m\u001b[38;5;124mhtml.parser\u001b[39m\u001b[38;5;124m'\u001b[39m)\n\u001b[0;32m     17\u001b[0m     resultados\u001b[38;5;241m=\u001b[39m soup\u001b[38;5;241m.\u001b[39mfind_all(\u001b[38;5;124m'\u001b[39m\u001b[38;5;124mdiv\u001b[39m\u001b[38;5;124m'\u001b[39m,\u001b[38;5;124m'\u001b[39m\u001b[38;5;124mShowcase__content\u001b[39m\u001b[38;5;124m'\u001b[39m)\n",
      "File \u001b[1;32m~\\anaconda3\\lib\\site-packages\\selenium\\webdriver\\remote\\webdriver.py:447\u001b[0m, in \u001b[0;36mWebDriver.get\u001b[1;34m(self, url)\u001b[0m\n\u001b[0;32m    443\u001b[0m \u001b[38;5;28;01mdef\u001b[39;00m \u001b[38;5;21mget\u001b[39m(\u001b[38;5;28mself\u001b[39m, url: \u001b[38;5;28mstr\u001b[39m) \u001b[38;5;241m-\u001b[39m\u001b[38;5;241m>\u001b[39m \u001b[38;5;28;01mNone\u001b[39;00m:\n\u001b[0;32m    444\u001b[0m     \u001b[38;5;124;03m\"\"\"\u001b[39;00m\n\u001b[0;32m    445\u001b[0m \u001b[38;5;124;03m    Loads a web page in the current browser session.\u001b[39;00m\n\u001b[0;32m    446\u001b[0m \u001b[38;5;124;03m    \"\"\"\u001b[39;00m\n\u001b[1;32m--> 447\u001b[0m     \u001b[38;5;28;43mself\u001b[39;49m\u001b[38;5;241;43m.\u001b[39;49m\u001b[43mexecute\u001b[49m\u001b[43m(\u001b[49m\u001b[43mCommand\u001b[49m\u001b[38;5;241;43m.\u001b[39;49m\u001b[43mGET\u001b[49m\u001b[43m,\u001b[49m\u001b[43m \u001b[49m\u001b[43m{\u001b[49m\u001b[38;5;124;43m'\u001b[39;49m\u001b[38;5;124;43murl\u001b[39;49m\u001b[38;5;124;43m'\u001b[39;49m\u001b[43m:\u001b[49m\u001b[43m \u001b[49m\u001b[43murl\u001b[49m\u001b[43m}\u001b[49m\u001b[43m)\u001b[49m\n",
      "File \u001b[1;32m~\\anaconda3\\lib\\site-packages\\selenium\\webdriver\\remote\\webdriver.py:435\u001b[0m, in \u001b[0;36mWebDriver.execute\u001b[1;34m(self, driver_command, params)\u001b[0m\n\u001b[0;32m    433\u001b[0m response \u001b[38;5;241m=\u001b[39m \u001b[38;5;28mself\u001b[39m\u001b[38;5;241m.\u001b[39mcommand_executor\u001b[38;5;241m.\u001b[39mexecute(driver_command, params)\n\u001b[0;32m    434\u001b[0m \u001b[38;5;28;01mif\u001b[39;00m response:\n\u001b[1;32m--> 435\u001b[0m     \u001b[38;5;28;43mself\u001b[39;49m\u001b[38;5;241;43m.\u001b[39;49m\u001b[43merror_handler\u001b[49m\u001b[38;5;241;43m.\u001b[39;49m\u001b[43mcheck_response\u001b[49m\u001b[43m(\u001b[49m\u001b[43mresponse\u001b[49m\u001b[43m)\u001b[49m\n\u001b[0;32m    436\u001b[0m     response[\u001b[38;5;124m'\u001b[39m\u001b[38;5;124mvalue\u001b[39m\u001b[38;5;124m'\u001b[39m] \u001b[38;5;241m=\u001b[39m \u001b[38;5;28mself\u001b[39m\u001b[38;5;241m.\u001b[39m_unwrap_value(\n\u001b[0;32m    437\u001b[0m         response\u001b[38;5;241m.\u001b[39mget(\u001b[38;5;124m'\u001b[39m\u001b[38;5;124mvalue\u001b[39m\u001b[38;5;124m'\u001b[39m, \u001b[38;5;28;01mNone\u001b[39;00m))\n\u001b[0;32m    438\u001b[0m     \u001b[38;5;28;01mreturn\u001b[39;00m response\n",
      "File \u001b[1;32m~\\anaconda3\\lib\\site-packages\\selenium\\webdriver\\remote\\errorhandler.py:247\u001b[0m, in \u001b[0;36mErrorHandler.check_response\u001b[1;34m(self, response)\u001b[0m\n\u001b[0;32m    245\u001b[0m         alert_text \u001b[38;5;241m=\u001b[39m value[\u001b[38;5;124m'\u001b[39m\u001b[38;5;124malert\u001b[39m\u001b[38;5;124m'\u001b[39m]\u001b[38;5;241m.\u001b[39mget(\u001b[38;5;124m'\u001b[39m\u001b[38;5;124mtext\u001b[39m\u001b[38;5;124m'\u001b[39m)\n\u001b[0;32m    246\u001b[0m     \u001b[38;5;28;01mraise\u001b[39;00m exception_class(message, screen, stacktrace, alert_text)  \u001b[38;5;66;03m# type: ignore[call-arg]  # mypy is not smart enough here\u001b[39;00m\n\u001b[1;32m--> 247\u001b[0m \u001b[38;5;28;01mraise\u001b[39;00m exception_class(message, screen, stacktrace)\n",
      "\u001b[1;31mWebDriverException\u001b[0m: Message: unknown error: cannot determine loading status\nfrom unknown error: unexpected command response\n  (Session info: chrome=103.0.5060.134)\nStacktrace:\nBacktrace:\n\tOrdinal0 [0x01066463+2188387]\n\tOrdinal0 [0x00FFE461+1762401]\n\tOrdinal0 [0x00F13D78+802168]\n\tOrdinal0 [0x00F07210+750096]\n\tOrdinal0 [0x00F0675A+747354]\n\tOrdinal0 [0x00F05D3F+744767]\n\tOrdinal0 [0x00F04C28+740392]\n\tOrdinal0 [0x00F05228+741928]\n\tOrdinal0 [0x00F0F153+782675]\n\tOrdinal0 [0x00F19FBB+827323]\n\tOrdinal0 [0x00F1D310+840464]\n\tOrdinal0 [0x00F054F6+742646]\n\tOrdinal0 [0x00F19BF3+826355]\n\tOrdinal0 [0x00F6CF6D+1167213]\n\tOrdinal0 [0x00F5C5F6+1099254]\n\tOrdinal0 [0x00F36BE0+945120]\n\tOrdinal0 [0x00F37AD6+948950]\n\tGetHandleVerifier [0x013071F2+2712546]\n\tGetHandleVerifier [0x012F886D+2652765]\n\tGetHandleVerifier [0x010F002A+520730]\n\tGetHandleVerifier [0x010EEE06+516086]\n\tOrdinal0 [0x0100468B+1787531]\n\tOrdinal0 [0x01008E88+1805960]\n\tOrdinal0 [0x01008F75+1806197]\n\tOrdinal0 [0x01011DF1+1842673]\n\tBaseThreadInitThunk [0x75DD6739+25]\n\tRtlGetFullPathName_UEx [0x76FC8FEF+1215]\n\tRtlGetFullPathName_UEx [0x76FC8FBD+1165]\n"
     ]
    }
   ],
   "source": [
    "main('aceite')"
   ]
  },
  {
   "cell_type": "code",
   "execution_count": null,
   "id": "07401ce0",
   "metadata": {},
   "outputs": [],
   "source": [
    "with open(\"plazavea.csv\", 'w', newline='', encoding='utf-8') as f:\n",
    "    writer = csv.writer(f)\n",
    "    writer.writerow(['precio','descripción'])\n",
    "    writer.writerows(records)\n",
    "import pandas as pd\n",
    "df = pd.read_csv('plazavea.csv')\n",
    "df"
   ]
  },
  {
   "cell_type": "code",
   "execution_count": null,
   "id": "750a6878",
   "metadata": {},
   "outputs": [],
   "source": []
  },
  {
   "cell_type": "markdown",
   "id": "bac94101",
   "metadata": {},
   "source": [
    "# Comparar productos de acuerdo a un búsqueda en común (FASE de prueba)"
   ]
  },
  {
   "cell_type": "code",
   "execution_count": 112,
   "id": "13c47af2",
   "metadata": {},
   "outputs": [],
   "source": [
    "# Usando expresiones regulares y pandas\n",
    "import re\n",
    "import pandas"
   ]
  },
  {
   "cell_type": "code",
   "execution_count": 108,
   "id": "aa34686e",
   "metadata": {},
   "outputs": [
    {
     "data": {
      "text/html": [
       "<div>\n",
       "<style scoped>\n",
       "    .dataframe tbody tr th:only-of-type {\n",
       "        vertical-align: middle;\n",
       "    }\n",
       "\n",
       "    .dataframe tbody tr th {\n",
       "        vertical-align: top;\n",
       "    }\n",
       "\n",
       "    .dataframe thead th {\n",
       "        text-align: right;\n",
       "    }\n",
       "</style>\n",
       "<table border=\"1\" class=\"dataframe\">\n",
       "  <thead>\n",
       "    <tr style=\"text-align: right;\">\n",
       "      <th></th>\n",
       "      <th>Producto</th>\n",
       "      <th>Precio</th>\n",
       "    </tr>\n",
       "  </thead>\n",
       "  <tbody>\n",
       "    <tr>\n",
       "      <th>23</th>\n",
       "      <td>Dulce de Leche Gloria Doypack 200 g</td>\n",
       "      <td>S/3.80</td>\n",
       "    </tr>\n",
       "    <tr>\n",
       "      <th>24</th>\n",
       "      <td>Leche Chocolatada Gloria Bolsa 900 ml</td>\n",
       "      <td>S/5.50</td>\n",
       "    </tr>\n",
       "    <tr>\n",
       "      <th>48</th>\n",
       "      <td>Leche Evaporada Entera Gloria Pack de 6un 400g</td>\n",
       "      <td>S/22.80</td>\n",
       "    </tr>\n",
       "    <tr>\n",
       "      <th>50</th>\n",
       "      <td>Leche Condensada Gloria Doy Pack 200 g</td>\n",
       "      <td>S/4.40</td>\n",
       "    </tr>\n",
       "    <tr>\n",
       "      <th>55</th>\n",
       "      <td>Leche Evaporada Niños Gloria Lata 400 gr</td>\n",
       "      <td>S/4.20</td>\n",
       "    </tr>\n",
       "    <tr>\n",
       "      <th>56</th>\n",
       "      <td>Leche Evaporada Entera Gloria Pack de 6un 400g</td>\n",
       "      <td>S/22.80</td>\n",
       "    </tr>\n",
       "    <tr>\n",
       "      <th>58</th>\n",
       "      <td>Leche Condensada Gloria Doy Pack 200 g</td>\n",
       "      <td>S/4.40</td>\n",
       "    </tr>\n",
       "    <tr>\n",
       "      <th>63</th>\n",
       "      <td>Leche UHT Gloria Light Caja 1 L</td>\n",
       "      <td>S/5.30</td>\n",
       "    </tr>\n",
       "    <tr>\n",
       "      <th>64</th>\n",
       "      <td>Leche Entera UHT Gloria Bolsa 900 ml</td>\n",
       "      <td>S/4.50</td>\n",
       "    </tr>\n",
       "    <tr>\n",
       "      <th>65</th>\n",
       "      <td>Leche en Polvo Gloria Lata 800 g</td>\n",
       "      <td>S/34.29</td>\n",
       "    </tr>\n",
       "    <tr>\n",
       "      <th>66</th>\n",
       "      <td>Leche Evaporada Entera Gloria Lata 170 gr</td>\n",
       "      <td>S/2.40</td>\n",
       "    </tr>\n",
       "    <tr>\n",
       "      <th>71</th>\n",
       "      <td>Crema de Leche UHT Gloria bolsa 946 ml</td>\n",
       "      <td>S/22.50</td>\n",
       "    </tr>\n",
       "    <tr>\n",
       "      <th>72</th>\n",
       "      <td>Leche UHT Gloria Niños Caja 1 L</td>\n",
       "      <td>S/6.05</td>\n",
       "    </tr>\n",
       "    <tr>\n",
       "      <th>74</th>\n",
       "      <td>Leche Evaporada Entera Gloria Lata 400 gr</td>\n",
       "      <td>S/3.95</td>\n",
       "    </tr>\n",
       "    <tr>\n",
       "      <th>75</th>\n",
       "      <td>Leche UHT Entera Gloria Botella 946 ml</td>\n",
       "      <td>S/4.90</td>\n",
       "    </tr>\n",
       "    <tr>\n",
       "      <th>77</th>\n",
       "      <td>Leche UHT Light Gloria Botella 946 ml</td>\n",
       "      <td>S/5.00</td>\n",
       "    </tr>\n",
       "    <tr>\n",
       "      <th>92</th>\n",
       "      <td>Leche UHT sin Lactosa Gloria Botella 946 ml</td>\n",
       "      <td>S/5.00</td>\n",
       "    </tr>\n",
       "    <tr>\n",
       "      <th>93</th>\n",
       "      <td>Leche Evaporada Semidescremada Light Gloria Pa...</td>\n",
       "      <td>S/14.20</td>\n",
       "    </tr>\n",
       "    <tr>\n",
       "      <th>94</th>\n",
       "      <td>Leche UHT Gloria Light 1 % de grasa Bolsa 900 ml</td>\n",
       "      <td>S/4.50</td>\n",
       "    </tr>\n",
       "    <tr>\n",
       "      <th>95</th>\n",
       "      <td>Leche Evaporada Entera Gloria Pack de 6 unid L...</td>\n",
       "      <td>S/12.99</td>\n",
       "    </tr>\n",
       "    <tr>\n",
       "      <th>96</th>\n",
       "      <td>Leche Evaporada Semidescremada Light Gloria La...</td>\n",
       "      <td>S/4.30</td>\n",
       "    </tr>\n",
       "    <tr>\n",
       "      <th>99</th>\n",
       "      <td>Leche UHT Gloria Sin Lactosa tripack 1 L</td>\n",
       "      <td>S/16.20</td>\n",
       "    </tr>\n",
       "    <tr>\n",
       "      <th>100</th>\n",
       "      <td>Leche Entera UHT Gloria Tripack 900 ml c/u</td>\n",
       "      <td>S/12.60</td>\n",
       "    </tr>\n",
       "    <tr>\n",
       "      <th>101</th>\n",
       "      <td>Leche UHT Gloria Niños Tripack 1 Litro c/u</td>\n",
       "      <td>S/16.60</td>\n",
       "    </tr>\n",
       "    <tr>\n",
       "      <th>102</th>\n",
       "      <td>Leche Semidescremada UHT Gloria Sin Lactosa Ca...</td>\n",
       "      <td>S/5.60</td>\n",
       "    </tr>\n",
       "    <tr>\n",
       "      <th>103</th>\n",
       "      <td>Leche Semidescremada UHT Gloria Sin Lactosa Bo...</td>\n",
       "      <td>S/4.89</td>\n",
       "    </tr>\n",
       "    <tr>\n",
       "      <th>105</th>\n",
       "      <td>Leche Evaporada Niños Gloria Pack de 6 unid La...</td>\n",
       "      <td>S/15.70</td>\n",
       "    </tr>\n",
       "    <tr>\n",
       "      <th>106</th>\n",
       "      <td>Leche Evaporada Semidescremada Light Gloria Pa...</td>\n",
       "      <td>S/21.90</td>\n",
       "    </tr>\n",
       "    <tr>\n",
       "      <th>107</th>\n",
       "      <td>Leche Evaporada Niños Gloria Pack de 6 unid La...</td>\n",
       "      <td>S/21.70</td>\n",
       "    </tr>\n",
       "    <tr>\n",
       "      <th>108</th>\n",
       "      <td>Leche UHT Gloria Light Tripack 1 Litro c/u</td>\n",
       "      <td>S/15.70</td>\n",
       "    </tr>\n",
       "    <tr>\n",
       "      <th>109</th>\n",
       "      <td>Leche Entera UHT Gloria Tripack 1 Litro c/u</td>\n",
       "      <td>S/15.10</td>\n",
       "    </tr>\n",
       "    <tr>\n",
       "      <th>113</th>\n",
       "      <td>Leche Concentrada Sin Lactosa Gloria Lata 400 gr</td>\n",
       "      <td>S/4.50</td>\n",
       "    </tr>\n",
       "    <tr>\n",
       "      <th>114</th>\n",
       "      <td>Leche Evaporada Descremada Gloria Pack de 6 un...</td>\n",
       "      <td>S/26.50</td>\n",
       "    </tr>\n",
       "    <tr>\n",
       "      <th>115</th>\n",
       "      <td>Leche Saborizada Gloria Chocolate Pack 6 Unid ...</td>\n",
       "      <td>S/9.65</td>\n",
       "    </tr>\n",
       "    <tr>\n",
       "      <th>117</th>\n",
       "      <td>Leche Evaporada Semidescremada Light Gloria La...</td>\n",
       "      <td>S/2.60</td>\n",
       "    </tr>\n",
       "  </tbody>\n",
       "</table>\n",
       "</div>"
      ],
      "text/plain": [
       "                                              Producto   Precio\n",
       "23                 Dulce de Leche Gloria Doypack 200 g   S/3.80\n",
       "24               Leche Chocolatada Gloria Bolsa 900 ml   S/5.50\n",
       "48      Leche Evaporada Entera Gloria Pack de 6un 400g  S/22.80\n",
       "50              Leche Condensada Gloria Doy Pack 200 g   S/4.40\n",
       "55            Leche Evaporada Niños Gloria Lata 400 gr   S/4.20\n",
       "56      Leche Evaporada Entera Gloria Pack de 6un 400g  S/22.80\n",
       "58              Leche Condensada Gloria Doy Pack 200 g   S/4.40\n",
       "63                     Leche UHT Gloria Light Caja 1 L   S/5.30\n",
       "64                Leche Entera UHT Gloria Bolsa 900 ml   S/4.50\n",
       "65                    Leche en Polvo Gloria Lata 800 g  S/34.29\n",
       "66           Leche Evaporada Entera Gloria Lata 170 gr   S/2.40\n",
       "71              Crema de Leche UHT Gloria bolsa 946 ml  S/22.50\n",
       "72                     Leche UHT Gloria Niños Caja 1 L   S/6.05\n",
       "74           Leche Evaporada Entera Gloria Lata 400 gr   S/3.95\n",
       "75              Leche UHT Entera Gloria Botella 946 ml   S/4.90\n",
       "77               Leche UHT Light Gloria Botella 946 ml   S/5.00\n",
       "92         Leche UHT sin Lactosa Gloria Botella 946 ml   S/5.00\n",
       "93   Leche Evaporada Semidescremada Light Gloria Pa...  S/14.20\n",
       "94    Leche UHT Gloria Light 1 % de grasa Bolsa 900 ml   S/4.50\n",
       "95   Leche Evaporada Entera Gloria Pack de 6 unid L...  S/12.99\n",
       "96   Leche Evaporada Semidescremada Light Gloria La...   S/4.30\n",
       "99            Leche UHT Gloria Sin Lactosa tripack 1 L  S/16.20\n",
       "100         Leche Entera UHT Gloria Tripack 900 ml c/u  S/12.60\n",
       "101         Leche UHT Gloria Niños Tripack 1 Litro c/u  S/16.60\n",
       "102  Leche Semidescremada UHT Gloria Sin Lactosa Ca...   S/5.60\n",
       "103  Leche Semidescremada UHT Gloria Sin Lactosa Bo...   S/4.89\n",
       "105  Leche Evaporada Niños Gloria Pack de 6 unid La...  S/15.70\n",
       "106  Leche Evaporada Semidescremada Light Gloria Pa...  S/21.90\n",
       "107  Leche Evaporada Niños Gloria Pack de 6 unid La...  S/21.70\n",
       "108         Leche UHT Gloria Light Tripack 1 Litro c/u  S/15.70\n",
       "109        Leche Entera UHT Gloria Tripack 1 Litro c/u  S/15.10\n",
       "113   Leche Concentrada Sin Lactosa Gloria Lata 400 gr   S/4.50\n",
       "114  Leche Evaporada Descremada Gloria Pack de 6 un...  S/26.50\n",
       "115  Leche Saborizada Gloria Chocolate Pack 6 Unid ...   S/9.65\n",
       "117  Leche Evaporada Semidescremada Light Gloria La...   S/2.60"
      ]
     },
     "execution_count": 108,
     "metadata": {},
     "output_type": "execute_result"
    }
   ],
   "source": [
    "metro[metro['Producto'].str.count(r'(Leche.*Gloria.*)')==1]"
   ]
  },
  {
   "cell_type": "code",
   "execution_count": 110,
   "id": "43b3aa86",
   "metadata": {},
   "outputs": [
    {
     "data": {
      "text/html": [
       "<div>\n",
       "<style scoped>\n",
       "    .dataframe tbody tr th:only-of-type {\n",
       "        vertical-align: middle;\n",
       "    }\n",
       "\n",
       "    .dataframe tbody tr th {\n",
       "        vertical-align: top;\n",
       "    }\n",
       "\n",
       "    .dataframe thead th {\n",
       "        text-align: right;\n",
       "    }\n",
       "</style>\n",
       "<table border=\"1\" class=\"dataframe\">\n",
       "  <thead>\n",
       "    <tr style=\"text-align: right;\">\n",
       "      <th></th>\n",
       "      <th>Producto</th>\n",
       "      <th>Precio</th>\n",
       "    </tr>\n",
       "  </thead>\n",
       "  <tbody>\n",
       "  </tbody>\n",
       "</table>\n",
       "</div>"
      ],
      "text/plain": [
       "Empty DataFrame\n",
       "Columns: [Producto, Precio]\n",
       "Index: []"
      ]
     },
     "execution_count": 110,
     "metadata": {},
     "output_type": "execute_result"
    }
   ],
   "source": [
    "tottus[tottus['Producto'].str.count(r'(Leche.*Gloria.*)')==1]"
   ]
  },
  {
   "cell_type": "code",
   "execution_count": 113,
   "id": "2cfec88a",
   "metadata": {},
   "outputs": [
    {
     "ename": "NameError",
     "evalue": "name 'plazavea' is not defined",
     "output_type": "error",
     "traceback": [
      "\u001b[1;31m---------------------------------------------------------------------------\u001b[0m",
      "\u001b[1;31mNameError\u001b[0m                                 Traceback (most recent call last)",
      "Input \u001b[1;32mIn [113]\u001b[0m, in \u001b[0;36m<cell line: 1>\u001b[1;34m()\u001b[0m\n\u001b[1;32m----> 1\u001b[0m \u001b[43mplazavea\u001b[49m[tottus[\u001b[38;5;124m'\u001b[39m\u001b[38;5;124mProducto\u001b[39m\u001b[38;5;124m'\u001b[39m]\u001b[38;5;241m.\u001b[39mstr\u001b[38;5;241m.\u001b[39mcount(\u001b[38;5;124mr\u001b[39m\u001b[38;5;124m'\u001b[39m\u001b[38;5;124m(Leche.*)\u001b[39m\u001b[38;5;124m'\u001b[39m)\u001b[38;5;241m==\u001b[39m\u001b[38;5;241m1\u001b[39m]\n",
      "\u001b[1;31mNameError\u001b[0m: name 'plazavea' is not defined"
     ]
    }
   ],
   "source": [
    "plazavea[tottus['Producto'].str.count(r'(Leche.*)')==1]"
   ]
  },
  {
   "cell_type": "markdown",
   "id": "75412473",
   "metadata": {},
   "source": [
    "# Envío de correo automático (FASE de prueba)"
   ]
  },
  {
   "cell_type": "code",
   "execution_count": 204,
   "id": "010fcc45",
   "metadata": {},
   "outputs": [],
   "source": [
    "import smtplib  # Importar la librería\n",
    "\n",
    "de_email =\"okoyekennethoptimizer@gmail.com\"   # Correo de envio (emisor)\n",
    "contraseña = \"nmmrjdphptwfgjgb\"               # contraseña del emisor\n",
    "para_email = \"20200339@LAMOLINA.EDU.PE\"       # Email de destino\n",
    "asunto = \"TRABAJO FINAL LP2\"                  # Asunto de llegada\n",
    "text =\"\"\"                                    \n",
    "Hola, le enviamos las comparaciones de los productos. \n",
    "\"\"\"                                           # Contenido del mensaje\n",
    "\n",
    "mensaje = f'Subject: {asunto}\\n\\n{text}\\n\\n'  # Formato de llegada del mensaje\n",
    "connection = smtplib.SMTP(\"smtp.gmail.com\", port= 587) # Conexión al dominio gmail.com con puerto = 587\n",
    "connection.starttls()             # Empezar  conexión            \n",
    "connection.login(user=de_email, password=contraseña) # Logeando con correo y contraseña\n",
    "connection.sendmail(from_addr=de_email, to_addrs=para_email, msg= mensaje) # Enviar email a destinatario\n",
    "connection.close()                # Cerrar conexión    "
   ]
  },
  {
   "cell_type": "code",
   "execution_count": null,
   "id": "70578db8",
   "metadata": {},
   "outputs": [],
   "source": []
  }
 ],
 "metadata": {
  "kernelspec": {
   "display_name": "Python 3 (ipykernelGG)",
   "language": "python",
   "name": "python3"
  },
  "language_info": {
   "codemirror_mode": {
    "name": "ipython",
    "version": 3
   },
   "file_extension": ".py",
   "mimetype": "text/x-python",
   "name": "python",
   "nbconvert_exporter": "python",
   "pygments_lexer": "ipython3",
   "version": "3.9.12"
  },
  "vscode": {
   "interpreter": {
    "hash": "9412b45e6a57aa9914730508726d49801d3b2c579f461e1fb13c705887a7b1f6"
   }
  }
 },
 "nbformat": 4,
 "nbformat_minor": 5
}
