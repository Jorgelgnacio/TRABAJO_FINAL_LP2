{
 "cells": [
  {
   "cell_type": "code",
   "execution_count": 35,
   "metadata": {},
   "outputs": [],
   "source": [
    "import csv\n",
    "from bs4 import BeautifulSoup\n",
    "from selenium import webdriver"
   ]
  },
  {
   "cell_type": "markdown",
   "metadata": {},
   "source": [
    "# COMPARACIÓN AUTOMATIZADA DE PRECIOS DE PRODUCTOS DE PRIMERA NECESIDAD EN LOS 3 SUPERMERCADOS MÁS POPULARES: METRO, PLAZA VEA, TOTTUS.\n",
    "\n",
    "DESCRIPCIÓN DEL CASO\n",
    "Se quiere automatizar la comparación de precios de productos básicos de la canasta familiar (arroz, azúcar, aceite, leche, etc) de tres supermercados que ofrecen sus productos a través de su propio portal web. Estos supermercados son: Metro, Plaza Vea y Tottus. Por lo que se pide escribir un programa en Python utilizando Jupyter notebook que recopile los precios de un producto de la canasta básica familiar de 3 Supermercados anteriormente mencionados y reporte todos sus artículos relacionados con la palabra clave ingresada en la búsqueda, para que posteriormente pueda comparar los precios en los distintos Supermercados de los productos exactamente iguales. Además, que se envíe automáticamente al correo del usuario-consultor un reporte de precio más alto, precio más bajo, productos en común comparando los precios entre los supermercados coincidentes."
   ]
  },
  {
   "cell_type": "markdown",
   "metadata": {},
   "source": [
    "### abriendo el driver"
   ]
  },
  {
   "cell_type": "code",
   "execution_count": 36,
   "metadata": {},
   "outputs": [],
   "source": [
    "\n",
    "driver = webdriver.Chrome()\n",
    "url='https://www.plazavea.com.pe'\n",
    "\n",
    "def busqueda(search):\n",
    "    \"generar url\"\n",
    "    template = 'https://www.plazavea.com.pe/{}'\n",
    "    search = search.replace('','')\n",
    "    return template.format(search)\n"
   ]
  },
  {
   "cell_type": "code",
   "execution_count": 37,
   "metadata": {},
   "outputs": [
    {
     "name": "stdout",
     "output_type": "stream",
     "text": [
      "https://www.plazavea.com.pe/packs\n"
     ]
    }
   ],
   "source": [
    "url = busqueda('packs')\n",
    "print(url)"
   ]
  },
  {
   "cell_type": "code",
   "execution_count": 38,
   "metadata": {},
   "outputs": [],
   "source": [
    "driver.get(url)"
   ]
  },
  {
   "cell_type": "code",
   "execution_count": 39,
   "metadata": {},
   "outputs": [],
   "source": [
    "soup = BeautifulSoup(driver.page_source,'html.parser')"
   ]
  },
  {
   "cell_type": "markdown",
   "metadata": {},
   "source": [
    "probando función para extraer precio"
   ]
  },
  {
   "cell_type": "code",
   "execution_count": 40,
   "metadata": {},
   "outputs": [],
   "source": [
    "def extraerprecio(item):\n",
    "\n",
    "    #precio\n",
    "    precio = item.find('div', 'Showcase__salePrice')\n",
    "    precio1 = precio.text.split()\n",
    "\n",
    "    nombre=item.find('a','Showcase__name').text\n",
    "\n",
    "    #descripcion\n",
    "\n",
    "    descripcion= (precio1, nombre)\n",
    "\n",
    "    return descripcion"
   ]
  },
  {
   "cell_type": "code",
   "execution_count": 41,
   "metadata": {},
   "outputs": [],
   "source": [
    "records = []\n",
    "resultados= soup.find_all('div','Showcase__content')\n",
    "\n",
    "for item in resultados:\n",
    "    record = extraerprecio(item)\n",
    "\n",
    "    if record:\n",
    "        records.append(record)"
   ]
  },
  {
   "cell_type": "markdown",
   "metadata": {},
   "source": [
    "definiendo función para pasar pagina "
   ]
  },
  {
   "cell_type": "code",
   "execution_count": 42,
   "metadata": {},
   "outputs": [],
   "source": [
    "def busqueda(busqueda):\n",
    "    \"generar url\"\n",
    "    template = 'https://www.plazavea.com.pe/{}'\n",
    "    busqueda = busqueda.replace('','')\n",
    "\n",
    "    url=template.format(search)\n",
    "    url += '?page={}'\n",
    "\n",
    "\n",
    "\n",
    "\n",
    "    return url\n",
    "    "
   ]
  },
  {
   "cell_type": "code",
   "execution_count": 43,
   "metadata": {},
   "outputs": [],
   "source": [
    "import csv\n",
    "from bs4 import BeautifulSoup\n",
    "from selenium import webdriver\n",
    "import time"
   ]
  },
  {
   "cell_type": "code",
   "execution_count": null,
   "metadata": {},
   "outputs": [],
   "source": []
  },
  {
   "cell_type": "markdown",
   "metadata": {},
   "source": [
    "# codigo final"
   ]
  },
  {
   "cell_type": "code",
   "execution_count": 44,
   "metadata": {},
   "outputs": [],
   "source": [
    "\n",
    "def busqueda(search):\n",
    "    \"generar url\"\n",
    "    template = 'https://www.plazavea.com.pe/{}'\n",
    "    search = search.replace('','')\n",
    "    return template.format(search)\n",
    "\n",
    "\n",
    "\n",
    "    \n",
    "def main(term):\n",
    "    driver = webdriver.Chrome()\n",
    "    record = []\n",
    "    url= busqueda(term)\n",
    "\n",
    "    for page in range(1,9):\n",
    "        time.sleep(2)\n",
    "        driver.get(url.format(page))\n",
    "        soup= BeautifulSoup(driver.page_source,'html.parser')\n",
    "        resultados= soup.find_all('div','Showcase__content')\n",
    "\n",
    "        for item in resultados:\n",
    "            record = extraerprecio(item)\n",
    "\n",
    "            if record:\n",
    "                records.append(record)\n",
    "\n",
    "\n",
    "driver.close()                \n",
    "\n",
    "\n",
    "    \n",
    "\n",
    "    \n",
    "\n",
    "    "
   ]
  },
  {
   "cell_type": "code",
   "execution_count": null,
   "metadata": {},
   "outputs": [],
   "source": []
  },
  {
   "cell_type": "code",
   "execution_count": null,
   "metadata": {},
   "outputs": [],
   "source": []
  },
  {
   "cell_type": "code",
   "execution_count": 45,
   "metadata": {},
   "outputs": [],
   "source": [
    "main('leche')"
   ]
  },
  {
   "cell_type": "code",
   "execution_count": 46,
   "metadata": {},
   "outputs": [],
   "source": [
    "with open(\"plazavea.csv\", 'w', newline='', encoding='utf-8') as f:\n",
    "    writer = csv.writer(f)\n",
    "    writer.writerow(['precio','descripción'])\n",
    "    writer.writerows(records)"
   ]
  },
  {
   "cell_type": "markdown",
   "metadata": {},
   "source": []
  },
  {
   "cell_type": "markdown",
   "metadata": {},
   "source": [
    "# LIMPIANDO DATOS"
   ]
  },
  {
   "cell_type": "code",
   "execution_count": 47,
   "metadata": {},
   "outputs": [],
   "source": [
    "import pandas as pd"
   ]
  },
  {
   "cell_type": "code",
   "execution_count": 48,
   "metadata": {},
   "outputs": [
    {
     "name": "stdout",
     "output_type": "stream",
     "text": [
      "              precio                                        descripción\n",
      "0    ['S/', '13.90']    Pack Jamón Pizza BRAEDT Queso Edam Paquete 370g\n",
      "1     ['S/', '8.00']         Pack FRUGOS Néctar Durazno Caja 1.5L x 2un\n",
      "2    ['S/', '12.99']             Pack Hot Dog SUIZA Paquete 200g + 440g\n",
      "3    ['S/', '16.98']  Pack Filete de Atún FLORIDA en Aceite Vegetal ...\n",
      "4    ['S/', '16.98']  Pack Conserva PRIMOR Filete de Atún en Aceite ...\n",
      "..               ...                                                ...\n",
      "257   ['S/', '3.20']                    Leche UHT Entera BELL'S Caja 1L\n",
      "258  ['S/', '54.90']                  Torta 3 Leches de Vainilla Grande\n",
      "259  ['S/', '20.50']  Chocolate LA IBÉRICA PASTILLAS DE LECHE De lec...\n",
      "260    ['S/', '100']  Extractor de leche manual Nuby con recipiente ...\n",
      "261  ['S/', '22.90']  Mezcla Láctea LAIVE Sin Lactosa Caja 480g Paqu...\n",
      "\n",
      "[262 rows x 2 columns]\n"
     ]
    }
   ],
   "source": [
    "df = pd.read_csv('plazavea.csv')\n",
    "\n",
    "print(df)"
   ]
  },
  {
   "cell_type": "markdown",
   "metadata": {},
   "source": [
    "# datos limpios "
   ]
  },
  {
   "cell_type": "code",
   "execution_count": 53,
   "metadata": {},
   "outputs": [],
   "source": [
    "plazaveafinal = df.iloc[70:]"
   ]
  },
  {
   "cell_type": "code",
   "execution_count": 57,
   "metadata": {},
   "outputs": [],
   "source": [
    "plazaveafinal.to_csv('salida.csv')"
   ]
  },
  {
   "cell_type": "code",
   "execution_count": null,
   "metadata": {},
   "outputs": [],
   "source": []
  },
  {
   "cell_type": "code",
   "execution_count": null,
   "metadata": {},
   "outputs": [],
   "source": []
  },
  {
   "cell_type": "code",
   "execution_count": null,
   "metadata": {},
   "outputs": [],
   "source": []
  },
  {
   "cell_type": "code",
   "execution_count": null,
   "metadata": {},
   "outputs": [],
   "source": []
  },
  {
   "cell_type": "code",
   "execution_count": null,
   "metadata": {},
   "outputs": [],
   "source": []
  },
  {
   "cell_type": "code",
   "execution_count": null,
   "metadata": {},
   "outputs": [],
   "source": []
  },
  {
   "cell_type": "code",
   "execution_count": null,
   "metadata": {},
   "outputs": [],
   "source": []
  },
  {
   "cell_type": "code",
   "execution_count": null,
   "metadata": {},
   "outputs": [],
   "source": []
  },
  {
   "cell_type": "code",
   "execution_count": null,
   "metadata": {},
   "outputs": [],
   "source": []
  },
  {
   "cell_type": "code",
   "execution_count": null,
   "metadata": {},
   "outputs": [],
   "source": []
  },
  {
   "cell_type": "code",
   "execution_count": null,
   "metadata": {},
   "outputs": [],
   "source": []
  },
  {
   "cell_type": "code",
   "execution_count": null,
   "metadata": {},
   "outputs": [],
   "source": []
  },
  {
   "cell_type": "code",
   "execution_count": null,
   "metadata": {},
   "outputs": [],
   "source": []
  },
  {
   "cell_type": "code",
   "execution_count": null,
   "metadata": {},
   "outputs": [],
   "source": []
  },
  {
   "cell_type": "code",
   "execution_count": null,
   "metadata": {},
   "outputs": [],
   "source": []
  },
  {
   "cell_type": "code",
   "execution_count": null,
   "metadata": {},
   "outputs": [],
   "source": []
  },
  {
   "cell_type": "code",
   "execution_count": null,
   "metadata": {},
   "outputs": [],
   "source": []
  },
  {
   "cell_type": "code",
   "execution_count": null,
   "metadata": {},
   "outputs": [],
   "source": []
  },
  {
   "cell_type": "code",
   "execution_count": null,
   "metadata": {},
   "outputs": [],
   "source": []
  },
  {
   "cell_type": "code",
   "execution_count": null,
   "metadata": {},
   "outputs": [],
   "source": []
  },
  {
   "cell_type": "code",
   "execution_count": null,
   "metadata": {},
   "outputs": [],
   "source": []
  },
  {
   "cell_type": "code",
   "execution_count": null,
   "metadata": {},
   "outputs": [],
   "source": []
  },
  {
   "cell_type": "code",
   "execution_count": null,
   "metadata": {},
   "outputs": [],
   "source": []
  },
  {
   "cell_type": "code",
   "execution_count": null,
   "metadata": {},
   "outputs": [],
   "source": []
  },
  {
   "cell_type": "code",
   "execution_count": null,
   "metadata": {},
   "outputs": [],
   "source": []
  },
  {
   "cell_type": "code",
   "execution_count": null,
   "metadata": {},
   "outputs": [],
   "source": []
  },
  {
   "cell_type": "code",
   "execution_count": null,
   "metadata": {},
   "outputs": [],
   "source": []
  }
 ],
 "metadata": {
  "kernelspec": {
   "display_name": "Python 3.10.5 64-bit",
   "language": "python",
   "name": "python3"
  },
  "language_info": {
   "codemirror_mode": {
    "name": "ipython",
    "version": 3
   },
   "file_extension": ".py",
   "mimetype": "text/x-python",
   "name": "python",
   "nbconvert_exporter": "python",
   "pygments_lexer": "ipython3",
   "version": "3.10.5"
  },
  "orig_nbformat": 4,
  "vscode": {
   "interpreter": {
    "hash": "ac5532d555e3506992566d06e15eb213155486f144abcdb47a4dcb7bcbc6d221"
   }
  }
 },
 "nbformat": 4,
 "nbformat_minor": 2
}
