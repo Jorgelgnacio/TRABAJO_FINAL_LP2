{
 "cells": [
  {
   "cell_type": "code",
   "execution_count": 1,
   "metadata": {},
   "outputs": [],
   "source": [
    "import csv\n",
    "from bs4 import BeautifulSoup\n",
    "from selenium import webdriver"
   ]
  },
  {
   "cell_type": "markdown",
   "metadata": {},
   "source": [
    "# COMPARACIÓN AUTOMATIZADA DE PRECIOS DE PRODUCTOS DE PRIMERA NECESIDAD EN LOS 3 SUPERMERCADOS MÁS POPULARES: METRO, PLAZA VEA, TOTTUS.\n",
    "\n",
    "DESCRIPCIÓN DEL CASO\n",
    "Se quiere automatizar la comparación de precios de productos básicos de la canasta familiar (arroz, azúcar, aceite, leche, etc) de tres supermercados que ofrecen sus productos a través de su propio portal web. Estos supermercados son: Metro, Plaza Vea y Tottus. Por lo que se pide escribir un programa en Python utilizando Jupyter notebook que recopile los precios de un producto de la canasta básica familiar de 3 Supermercados anteriormente mencionados y reporte todos sus artículos relacionados con la palabra clave ingresada en la búsqueda, para que posteriormente pueda comparar los precios en los distintos Supermercados de los productos exactamente iguales. Además, que se envíe automáticamente al correo del usuario-consultor un reporte de precio más alto, precio más bajo, productos en común comparando los precios entre los supermercados coincidentes."
   ]
  },
  {
   "cell_type": "markdown",
   "metadata": {},
   "source": [
    "### abriendo el driver"
   ]
  },
  {
   "cell_type": "code",
   "execution_count": 9,
   "metadata": {},
   "outputs": [],
   "source": [
    "import csv #importando codigos\n",
    "from bs4 import BeautifulSoup\n",
    "from selenium import webdriver\n",
    "import time"
   ]
  },
  {
   "cell_type": "code",
   "execution_count": 2,
   "metadata": {},
   "outputs": [],
   "source": [
    "\n",
    "driver = webdriver.Chrome()                 #probando driver\n",
    "url='https://www.plazavea.com.pe'            #probando url\n",
    "\n",
    "def busqueda(search):                       #definiendo funcion search\n",
    "    \"generar url\"\n",
    "    template = 'https://www.plazavea.com.pe/{}'\n",
    "    search = search.replace('','')\n",
    "    return template.format(search)               \n"
   ]
  },
  {
   "cell_type": "code",
   "execution_count": 3,
   "metadata": {},
   "outputs": [
    {
     "name": "stdout",
     "output_type": "stream",
     "text": [
      "https://www.plazavea.com.pe/packs\n"
     ]
    }
   ],
   "source": [
    "url = busqueda('packs')\n",
    "print(url)"
   ]
  },
  {
   "cell_type": "code",
   "execution_count": 4,
   "metadata": {},
   "outputs": [],
   "source": [
    "driver.get(url) #almacenandor driver"
   ]
  },
  {
   "cell_type": "code",
   "execution_count": 5,
   "metadata": {},
   "outputs": [],
   "source": [
    "soup = BeautifulSoup(driver.page_source,'html.parser') #transformando a tipo BeatifulSoup"
   ]
  },
  {
   "cell_type": "markdown",
   "metadata": {},
   "source": [
    "probando función para extraer precio"
   ]
  },
  {
   "cell_type": "code",
   "execution_count": 6,
   "metadata": {},
   "outputs": [],
   "source": [
    "def extraerprecio(item): #definiendo funcion para extraer el precio\n",
    "\n",
    "    #precio\n",
    "    precio = item.find('div', 'Showcase__salePrice') #scrapeando html\n",
    "    precio1 = precio.text.split() #limpiando el precio\n",
    "\n",
    "    nombre=item.find('a','Showcase__name').text #limpiando el nombre del item\n",
    "\n",
    "    #descripcion\n",
    "\n",
    "    descripcion= (precio1, nombre)\n",
    "\n",
    "    return descripcion"
   ]
  },
  {
   "cell_type": "code",
   "execution_count": 7,
   "metadata": {},
   "outputs": [],
   "source": [
    "records = []\n",
    "resultados= soup.find_all('div','Showcase__content')\n",
    "\n",
    "for item in resultados:\n",
    "    record = extraerprecio(item)\n",
    "\n",
    "    if record:\n",
    "        records.append(record)"
   ]
  },
  {
   "cell_type": "markdown",
   "metadata": {},
   "source": [
    "definiendo función para pasar pagina "
   ]
  },
  {
   "cell_type": "code",
   "execution_count": 8,
   "metadata": {},
   "outputs": [],
   "source": [
    "def busqueda(busqueda):\n",
    "    \"generar url\"\n",
    "    template = 'https://www.plazavea.com.pe/{}'\n",
    "    busqueda = busqueda.replace('','')\n",
    "\n",
    "    url=template.format(search)\n",
    "    url += '?page={}'\n",
    "\n",
    "\n",
    "\n",
    "\n",
    "    return url\n",
    "    "
   ]
  },
  {
   "cell_type": "code",
   "execution_count": null,
   "metadata": {},
   "outputs": [],
   "source": []
  },
  {
   "cell_type": "markdown",
   "metadata": {},
   "source": [
    "# codigo final"
   ]
  },
  {
   "cell_type": "code",
   "execution_count": 10,
   "metadata": {},
   "outputs": [],
   "source": [
    "#escribiendo el codigo para la busqueda\n",
    "def busqueda(search):\n",
    "    \"generar url\"\n",
    "    template = 'https://www.plazavea.com.pe/{}'\n",
    "    search = search.replace('','')\n",
    "    return template.format(search)\n",
    "\n",
    "\n",
    "\n",
    "    \n",
    "def main(term):\n",
    "    driver = webdriver.Chrome()# abriendo driver\n",
    "    record = [] #almacenando resultados\n",
    "    url= busqueda(term) \n",
    "\n",
    "    for page in range(1,9): #definiendo funcion para pasar pagina\n",
    "        time.sleep(2)\n",
    "        driver.get(url.format(page))\n",
    "        soup= BeautifulSoup(driver.page_source,'html.parser') #escrapeando html\n",
    "        resultados= soup.find_all('div','Showcase__content') #escrapeando html\n",
    "\n",
    "        for item in resultados:\n",
    "            record = extraerprecio(item) # recall extrayendo precios\n",
    "\n",
    "            if record:\n",
    "                records.append(record)\n",
    "\n",
    "\n",
    "driver.close()                \n",
    "\n",
    "\n",
    "    \n",
    "\n",
    "    \n",
    "\n",
    "    "
   ]
  },
  {
   "cell_type": "code",
   "execution_count": null,
   "metadata": {},
   "outputs": [],
   "source": []
  },
  {
   "cell_type": "code",
   "execution_count": null,
   "metadata": {},
   "outputs": [],
   "source": []
  },
  {
   "cell_type": "code",
   "execution_count": 12,
   "metadata": {},
   "outputs": [],
   "source": [
    "main('leche') #utilizando funcion final"
   ]
  },
  {
   "cell_type": "code",
   "execution_count": 13,
   "metadata": {},
   "outputs": [],
   "source": [
    "with open(\"plazavea.csv\", 'w', newline='', encoding='utf-8') as f: # almacenando resultados\n",
    "    writer = csv.writer(f)\n",
    "    writer.writerow(['precio','descripción'])\n",
    "    writer.writerows(records)"
   ]
  },
  {
   "cell_type": "markdown",
   "metadata": {},
   "source": []
  },
  {
   "cell_type": "markdown",
   "metadata": {},
   "source": [
    "# LIMPIANDO DATOS\n",
    "\n",
    "al descargar los datos obseramos que nos bota los primeros 70 productos de la pagina web principal, asi que procederemos a eliminarlos con ayuda de la libreria pandas "
   ]
  },
  {
   "cell_type": "markdown",
   "metadata": {},
   "source": []
  },
  {
   "cell_type": "code",
   "execution_count": 14,
   "metadata": {},
   "outputs": [],
   "source": [
    "import pandas as pd"
   ]
  },
  {
   "cell_type": "code",
   "execution_count": 15,
   "metadata": {},
   "outputs": [
    {
     "name": "stdout",
     "output_type": "stream",
     "text": [
      "               precio                                        descripción\n",
      "0     ['S/', '13.90']    Pack Jamón Pizza BRAEDT Queso Edam Paquete 370g\n",
      "1      ['S/', '8.00']         Pack FRUGOS Néctar Durazno Caja 1.5L x 2un\n",
      "2     ['S/', '14.90']             Pack Hot Dog SUIZA Paquete 200g + 440g\n",
      "3     ['S/', '16.98']  Pack Filete de Atún FLORIDA en Aceite Vegetal ...\n",
      "4     ['S/', '16.98']  Pack Conserva PRIMOR Filete de Atún en Aceite ...\n",
      "..                ...                                                ...\n",
      "351    ['S/', '3.20']                    Leche UHT Entera BELL'S Caja 1L\n",
      "352   ['S/', '54.90']                  Torta 3 Leches de Vainilla Grande\n",
      "353   ['S/', '20.50']  Chocolate LA IBÉRICA PASTILLAS DE LECHE De lec...\n",
      "354  ['S/', '100.00']  Extractor de leche manual Nuby con recipiente ...\n",
      "355   ['S/', '22.90']  Mezcla Láctea LAIVE Sin Lactosa Caja 480g Paqu...\n",
      "\n",
      "[356 rows x 2 columns]\n"
     ]
    }
   ],
   "source": [
    "df = pd.read_csv('plazavea.csv')\n",
    "\n",
    "print(df)"
   ]
  },
  {
   "cell_type": "markdown",
   "metadata": {},
   "source": [
    "# datos limpios "
   ]
  },
  {
   "cell_type": "code",
   "execution_count": 16,
   "metadata": {},
   "outputs": [],
   "source": [
    "plazaveafinal = df.iloc[70:]"
   ]
  },
  {
   "cell_type": "code",
   "execution_count": 19,
   "metadata": {},
   "outputs": [],
   "source": [
    "plazaveafinal.to_excel('salida.xlsx')"
   ]
  },
  {
   "cell_type": "code",
   "execution_count": 20,
   "metadata": {},
   "outputs": [
    {
     "data": {
      "text/html": [
       "<div>\n",
       "<style scoped>\n",
       "    .dataframe tbody tr th:only-of-type {\n",
       "        vertical-align: middle;\n",
       "    }\n",
       "\n",
       "    .dataframe tbody tr th {\n",
       "        vertical-align: top;\n",
       "    }\n",
       "\n",
       "    .dataframe thead th {\n",
       "        text-align: right;\n",
       "    }\n",
       "</style>\n",
       "<table border=\"1\" class=\"dataframe\">\n",
       "  <thead>\n",
       "    <tr style=\"text-align: right;\">\n",
       "      <th></th>\n",
       "      <th>Unnamed: 0</th>\n",
       "      <th>precio</th>\n",
       "      <th>descripción</th>\n",
       "    </tr>\n",
       "  </thead>\n",
       "  <tbody>\n",
       "    <tr>\n",
       "      <th>0</th>\n",
       "      <td>70</td>\n",
       "      <td>['S/', '21.60']</td>\n",
       "      <td>Leche Evaporada GLORIA Light Lata 400g Paquete...</td>\n",
       "    </tr>\n",
       "    <tr>\n",
       "      <th>1</th>\n",
       "      <td>71</td>\n",
       "      <td>['S/', '22.90']</td>\n",
       "      <td>Leche GLORIA Evaporada Entera Lata 400g Paquet...</td>\n",
       "    </tr>\n",
       "    <tr>\n",
       "      <th>2</th>\n",
       "      <td>72</td>\n",
       "      <td>['S/', '23.40']</td>\n",
       "      <td>Leche GLORIA Evaporada Niños Lata 400g Paquete...</td>\n",
       "    </tr>\n",
       "    <tr>\n",
       "      <th>3</th>\n",
       "      <td>73</td>\n",
       "      <td>['S/', '15.70']</td>\n",
       "      <td>Leche UHT GLORIA Light Pack 3un x 1L</td>\n",
       "    </tr>\n",
       "    <tr>\n",
       "      <th>4</th>\n",
       "      <td>74</td>\n",
       "      <td>['S/', '15.10']</td>\n",
       "      <td>Leche UHT GLORIA Entera Pack 3un x 1L</td>\n",
       "    </tr>\n",
       "    <tr>\n",
       "      <th>...</th>\n",
       "      <td>...</td>\n",
       "      <td>...</td>\n",
       "      <td>...</td>\n",
       "    </tr>\n",
       "    <tr>\n",
       "      <th>281</th>\n",
       "      <td>351</td>\n",
       "      <td>['S/', '3.20']</td>\n",
       "      <td>Leche UHT Entera BELL'S Caja 1L</td>\n",
       "    </tr>\n",
       "    <tr>\n",
       "      <th>282</th>\n",
       "      <td>352</td>\n",
       "      <td>['S/', '54.90']</td>\n",
       "      <td>Torta 3 Leches de Vainilla Grande</td>\n",
       "    </tr>\n",
       "    <tr>\n",
       "      <th>283</th>\n",
       "      <td>353</td>\n",
       "      <td>['S/', '20.50']</td>\n",
       "      <td>Chocolate LA IBÉRICA PASTILLAS DE LECHE De lec...</td>\n",
       "    </tr>\n",
       "    <tr>\n",
       "      <th>284</th>\n",
       "      <td>354</td>\n",
       "      <td>['S/', '100.00']</td>\n",
       "      <td>Extractor de leche manual Nuby con recipiente ...</td>\n",
       "    </tr>\n",
       "    <tr>\n",
       "      <th>285</th>\n",
       "      <td>355</td>\n",
       "      <td>['S/', '22.90']</td>\n",
       "      <td>Mezcla Láctea LAIVE Sin Lactosa Caja 480g Paqu...</td>\n",
       "    </tr>\n",
       "  </tbody>\n",
       "</table>\n",
       "<p>286 rows × 3 columns</p>\n",
       "</div>"
      ],
      "text/plain": [
       "     Unnamed: 0            precio  \\\n",
       "0            70   ['S/', '21.60']   \n",
       "1            71   ['S/', '22.90']   \n",
       "2            72   ['S/', '23.40']   \n",
       "3            73   ['S/', '15.70']   \n",
       "4            74   ['S/', '15.10']   \n",
       "..          ...               ...   \n",
       "281         351    ['S/', '3.20']   \n",
       "282         352   ['S/', '54.90']   \n",
       "283         353   ['S/', '20.50']   \n",
       "284         354  ['S/', '100.00']   \n",
       "285         355   ['S/', '22.90']   \n",
       "\n",
       "                                           descripción  \n",
       "0    Leche Evaporada GLORIA Light Lata 400g Paquete...  \n",
       "1    Leche GLORIA Evaporada Entera Lata 400g Paquet...  \n",
       "2    Leche GLORIA Evaporada Niños Lata 400g Paquete...  \n",
       "3                 Leche UHT GLORIA Light Pack 3un x 1L  \n",
       "4                Leche UHT GLORIA Entera Pack 3un x 1L  \n",
       "..                                                 ...  \n",
       "281                    Leche UHT Entera BELL'S Caja 1L  \n",
       "282                  Torta 3 Leches de Vainilla Grande  \n",
       "283  Chocolate LA IBÉRICA PASTILLAS DE LECHE De lec...  \n",
       "284  Extractor de leche manual Nuby con recipiente ...  \n",
       "285  Mezcla Láctea LAIVE Sin Lactosa Caja 480g Paqu...  \n",
       "\n",
       "[286 rows x 3 columns]"
      ]
     },
     "execution_count": 20,
     "metadata": {},
     "output_type": "execute_result"
    }
   ],
   "source": [
    "pd.read_excel('salida.xlsx')"
   ]
  }
 ],
 "metadata": {
  "kernelspec": {
   "display_name": "Python 3.10.5 64-bit",
   "language": "python",
   "name": "python3"
  },
  "language_info": {
   "codemirror_mode": {
    "name": "ipython",
    "version": 3
   },
   "file_extension": ".py",
   "mimetype": "text/x-python",
   "name": "python",
   "nbconvert_exporter": "python",
   "pygments_lexer": "ipython3",
   "version": "3.10.5"
  },
  "orig_nbformat": 4,
  "vscode": {
   "interpreter": {
    "hash": "ac5532d555e3506992566d06e15eb213155486f144abcdb47a4dcb7bcbc6d221"
   }
  }
 },
 "nbformat": 4,
 "nbformat_minor": 2
}
